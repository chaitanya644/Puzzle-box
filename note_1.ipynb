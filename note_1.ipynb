{
 "cells": [
  {
   "cell_type": "code",
   "execution_count": 1,
   "metadata": {},
   "outputs": [
    {
     "data": {
      "text/html": [
       "<div>\n",
       "<style scoped>\n",
       "    .dataframe tbody tr th:only-of-type {\n",
       "        vertical-align: middle;\n",
       "    }\n",
       "\n",
       "    .dataframe tbody tr th {\n",
       "        vertical-align: top;\n",
       "    }\n",
       "\n",
       "    .dataframe thead th {\n",
       "        text-align: right;\n",
       "    }\n",
       "</style>\n",
       "<table border=\"1\" class=\"dataframe\">\n",
       "  <thead>\n",
       "    <tr style=\"text-align: right;\">\n",
       "      <th></th>\n",
       "      <th>URL</th>\n",
       "      <th>Name</th>\n",
       "      <th>game_id</th>\n",
       "      <th>Subtitle</th>\n",
       "      <th>Icon URL</th>\n",
       "      <th>Description</th>\n",
       "      <th>Developer</th>\n",
       "      <th>Genres</th>\n",
       "      <th>Primary Genre</th>\n",
       "      <th>gamestore_price</th>\n",
       "    </tr>\n",
       "  </thead>\n",
       "  <tbody>\n",
       "    <tr>\n",
       "      <th>0</th>\n",
       "      <td>https://apps.apple.com/us/app/lottery-life-mon...</td>\n",
       "      <td>Lottery Life - Monopoly Wars</td>\n",
       "      <td>4173eb39-046d-431e-a504-b5418301a382</td>\n",
       "      <td>Monopoly for the New Millenium</td>\n",
       "      <td>https://is5-ssl.mzstatic.com/image/thumb/Purpl...</td>\n",
       "      <td>\"The spirit of Grand Theft Auto with the strat...</td>\n",
       "      <td>Opposite Lock Entertainment</td>\n",
       "      <td>Games, Simulation, Finance, Strategy</td>\n",
       "      <td>Games</td>\n",
       "      <td>0.0</td>\n",
       "    </tr>\n",
       "    <tr>\n",
       "      <th>1</th>\n",
       "      <td>https://apps.apple.com/us/app/cute-little-unic...</td>\n",
       "      <td>Cute Little Unicorn Match3</td>\n",
       "      <td>c8cb6281-34fc-4e54-b6f9-1a30657fb370</td>\n",
       "      <td>Little Unicorn Match Crash</td>\n",
       "      <td>https://is4-ssl.mzstatic.com/image/thumb/Purpl...</td>\n",
       "      <td>Cute Unicorn Match3 Blast Bomb is a matching p...</td>\n",
       "      <td>Angrisa Leungtanapolkul</td>\n",
       "      <td>Games, Entertainment, Strategy, Puzzle</td>\n",
       "      <td>Games</td>\n",
       "      <td>0.0</td>\n",
       "    </tr>\n",
       "    <tr>\n",
       "      <th>2</th>\n",
       "      <td>https://apps.apple.com/us/app/its-tanks/id5688...</td>\n",
       "      <td>\"It's Tanks!\"</td>\n",
       "      <td>6a30fa24-b1c7-44b0-96e8-34b9c6c7232b</td>\n",
       "      <td>NaN</td>\n",
       "      <td>https://is1-ssl.mzstatic.com/image/thumb/Purpl...</td>\n",
       "      <td>Bored of playing yet another multiplayer word ...</td>\n",
       "      <td>Bit By Bit Games Ltd</td>\n",
       "      <td>Games, Casual, Strategy</td>\n",
       "      <td>Games</td>\n",
       "      <td>0.0</td>\n",
       "    </tr>\n",
       "    <tr>\n",
       "      <th>3</th>\n",
       "      <td>https://apps.apple.com/us/app/dunes/id1453578024</td>\n",
       "      <td>Dunes</td>\n",
       "      <td>4df50e72-3f5c-470a-8834-b56b5610e17a</td>\n",
       "      <td>Warning: *May cause addiction*</td>\n",
       "      <td>https://is5-ssl.mzstatic.com/image/thumb/Purpl...</td>\n",
       "      <td>Race across our dunes in a effort to  achieve ...</td>\n",
       "      <td>Sympo Games PTY LTD</td>\n",
       "      <td>Games, Strategy, Productivity, Family</td>\n",
       "      <td>Games</td>\n",
       "      <td>0.0</td>\n",
       "    </tr>\n",
       "    <tr>\n",
       "      <th>4</th>\n",
       "      <td>https://apps.apple.com/us/app/cribbage-square-...</td>\n",
       "      <td>Cribbage Square Collection</td>\n",
       "      <td>d5832610-8ec2-44f5-989d-0f5fd9e67ef5</td>\n",
       "      <td>Solitaire crib games.</td>\n",
       "      <td>https://is3-ssl.mzstatic.com/image/thumb/Purpl...</td>\n",
       "      <td>CRIBBAGE SQUARE COLLECTION is an 12-in-1 colle...</td>\n",
       "      <td>MmpApps Corp.</td>\n",
       "      <td>Games, Card, Entertainment, Strategy</td>\n",
       "      <td>Games</td>\n",
       "      <td>0.0</td>\n",
       "    </tr>\n",
       "  </tbody>\n",
       "</table>\n",
       "</div>"
      ],
      "text/plain": [
       "                                                 URL  \\\n",
       "0  https://apps.apple.com/us/app/lottery-life-mon...   \n",
       "1  https://apps.apple.com/us/app/cute-little-unic...   \n",
       "2  https://apps.apple.com/us/app/its-tanks/id5688...   \n",
       "3   https://apps.apple.com/us/app/dunes/id1453578024   \n",
       "4  https://apps.apple.com/us/app/cribbage-square-...   \n",
       "\n",
       "                           Name                               game_id  \\\n",
       "0  Lottery Life - Monopoly Wars  4173eb39-046d-431e-a504-b5418301a382   \n",
       "1    Cute Little Unicorn Match3  c8cb6281-34fc-4e54-b6f9-1a30657fb370   \n",
       "2                 \"It's Tanks!\"  6a30fa24-b1c7-44b0-96e8-34b9c6c7232b   \n",
       "3                         Dunes  4df50e72-3f5c-470a-8834-b56b5610e17a   \n",
       "4    Cribbage Square Collection  d5832610-8ec2-44f5-989d-0f5fd9e67ef5   \n",
       "\n",
       "                         Subtitle  \\\n",
       "0  Monopoly for the New Millenium   \n",
       "1      Little Unicorn Match Crash   \n",
       "2                             NaN   \n",
       "3  Warning: *May cause addiction*   \n",
       "4           Solitaire crib games.   \n",
       "\n",
       "                                            Icon URL  \\\n",
       "0  https://is5-ssl.mzstatic.com/image/thumb/Purpl...   \n",
       "1  https://is4-ssl.mzstatic.com/image/thumb/Purpl...   \n",
       "2  https://is1-ssl.mzstatic.com/image/thumb/Purpl...   \n",
       "3  https://is5-ssl.mzstatic.com/image/thumb/Purpl...   \n",
       "4  https://is3-ssl.mzstatic.com/image/thumb/Purpl...   \n",
       "\n",
       "                                         Description  \\\n",
       "0  \"The spirit of Grand Theft Auto with the strat...   \n",
       "1  Cute Unicorn Match3 Blast Bomb is a matching p...   \n",
       "2  Bored of playing yet another multiplayer word ...   \n",
       "3  Race across our dunes in a effort to  achieve ...   \n",
       "4  CRIBBAGE SQUARE COLLECTION is an 12-in-1 colle...   \n",
       "\n",
       "                     Developer                                  Genres  \\\n",
       "0  Opposite Lock Entertainment    Games, Simulation, Finance, Strategy   \n",
       "1      Angrisa Leungtanapolkul  Games, Entertainment, Strategy, Puzzle   \n",
       "2         Bit By Bit Games Ltd                 Games, Casual, Strategy   \n",
       "3          Sympo Games PTY LTD   Games, Strategy, Productivity, Family   \n",
       "4                MmpApps Corp.    Games, Card, Entertainment, Strategy   \n",
       "\n",
       "  Primary Genre  gamestore_price  \n",
       "0         Games              0.0  \n",
       "1         Games              0.0  \n",
       "2         Games              0.0  \n",
       "3         Games              0.0  \n",
       "4         Games              0.0  "
      ]
     },
     "execution_count": 1,
     "metadata": {},
     "output_type": "execute_result"
    }
   ],
   "source": [
    "import pandas as pd\n",
    "import numpy as np\n",
    "\n",
    "train_df1 = pd.read_csv('F:\\external\\info_train.csv')\n",
    "train_df1.head()"
   ]
  },
  {
   "cell_type": "code",
   "execution_count": 2,
   "metadata": {},
   "outputs": [],
   "source": [
    "import warnings\n",
    "warnings.filterwarnings(\"ignore\")"
   ]
  },
  {
   "cell_type": "code",
   "execution_count": 2,
   "metadata": {},
   "outputs": [
    {
     "name": "stdout",
     "output_type": "stream",
     "text": [
      "<class 'pandas.core.frame.DataFrame'>\n",
      "RangeIndex: 12755 entries, 0 to 12754\n",
      "Data columns (total 10 columns):\n",
      "URL                12755 non-null object\n",
      "Name               12755 non-null object\n",
      "game_id            12755 non-null object\n",
      "Subtitle           3938 non-null object\n",
      "Icon URL           12755 non-null object\n",
      "Description        12755 non-null object\n",
      "Developer          12755 non-null object\n",
      "Genres             12755 non-null object\n",
      "Primary Genre      12755 non-null object\n",
      "gamestore_price    12738 non-null float64\n",
      "dtypes: float64(1), object(9)\n",
      "memory usage: 996.6+ KB\n"
     ]
    }
   ],
   "source": [
    "train_df1.info()"
   ]
  },
  {
   "cell_type": "code",
   "execution_count": 3,
   "metadata": {},
   "outputs": [],
   "source": [
    "train_df1.drop(columns=['URL','Subtitle','Icon URL','Description'],axis=1,inplace=True)\n",
    "train_df1.dropna(inplace=True)"
   ]
  },
  {
   "cell_type": "code",
   "execution_count": 9,
   "metadata": {},
   "outputs": [
    {
     "name": "stdout",
     "output_type": "stream",
     "text": [
      "<class 'pandas.core.frame.DataFrame'>\n",
      "Int64Index: 12738 entries, 0 to 12754\n",
      "Data columns (total 6 columns):\n",
      "Name               12738 non-null object\n",
      "game_id            12738 non-null object\n",
      "Developer          12738 non-null object\n",
      "Genres             12738 non-null object\n",
      "Primary Genre      12738 non-null object\n",
      "gamestore_price    12738 non-null float64\n",
      "dtypes: float64(1), object(5)\n",
      "memory usage: 696.6+ KB\n"
     ]
    }
   ],
   "source": [
    "train_df1.info()"
   ]
  },
  {
   "cell_type": "code",
   "execution_count": 4,
   "metadata": {},
   "outputs": [
    {
     "data": {
      "text/html": [
       "<div>\n",
       "<style scoped>\n",
       "    .dataframe tbody tr th:only-of-type {\n",
       "        vertical-align: middle;\n",
       "    }\n",
       "\n",
       "    .dataframe tbody tr th {\n",
       "        vertical-align: top;\n",
       "    }\n",
       "\n",
       "    .dataframe thead th {\n",
       "        text-align: right;\n",
       "    }\n",
       "</style>\n",
       "<table border=\"1\" class=\"dataframe\">\n",
       "  <thead>\n",
       "    <tr style=\"text-align: right;\">\n",
       "      <th></th>\n",
       "      <th>In-app Purchases</th>\n",
       "      <th>Languages</th>\n",
       "      <th>Size</th>\n",
       "      <th>Original Release Date</th>\n",
       "      <th>Current Version Release Date</th>\n",
       "      <th>game_id</th>\n",
       "    </tr>\n",
       "  </thead>\n",
       "  <tbody>\n",
       "    <tr>\n",
       "      <th>0</th>\n",
       "      <td>0.99, 0.99, 1.99, 0.99, 7.99, 3.99, 14.99</td>\n",
       "      <td>EN</td>\n",
       "      <td>388948992.0</td>\n",
       "      <td>14/05/2018</td>\n",
       "      <td>28/12/2018</td>\n",
       "      <td>4173eb39-046d-431e-a504-b5418301a382</td>\n",
       "    </tr>\n",
       "    <tr>\n",
       "      <th>1</th>\n",
       "      <td>NaN</td>\n",
       "      <td>EN</td>\n",
       "      <td>18596864.0</td>\n",
       "      <td>9/11/2017</td>\n",
       "      <td>9/11/2017</td>\n",
       "      <td>c8cb6281-34fc-4e54-b6f9-1a30657fb370</td>\n",
       "    </tr>\n",
       "    <tr>\n",
       "      <th>2</th>\n",
       "      <td>1.99, 0.99, 0.99, 0.99</td>\n",
       "      <td>EN</td>\n",
       "      <td>55459840.0</td>\n",
       "      <td>26/04/2013</td>\n",
       "      <td>30/05/2013</td>\n",
       "      <td>6a30fa24-b1c7-44b0-96e8-34b9c6c7232b</td>\n",
       "    </tr>\n",
       "    <tr>\n",
       "      <th>3</th>\n",
       "      <td>3.99</td>\n",
       "      <td>EN</td>\n",
       "      <td>187921408.0</td>\n",
       "      <td>23/02/2019</td>\n",
       "      <td>23/02/2019</td>\n",
       "      <td>4df50e72-3f5c-470a-8834-b56b5610e17a</td>\n",
       "    </tr>\n",
       "    <tr>\n",
       "      <th>4</th>\n",
       "      <td>NaN</td>\n",
       "      <td>EN</td>\n",
       "      <td>32905216.0</td>\n",
       "      <td>12/11/2013</td>\n",
       "      <td>16/01/2019</td>\n",
       "      <td>d5832610-8ec2-44f5-989d-0f5fd9e67ef5</td>\n",
       "    </tr>\n",
       "  </tbody>\n",
       "</table>\n",
       "</div>"
      ],
      "text/plain": [
       "                            In-app Purchases Languages         Size  \\\n",
       "0  0.99, 0.99, 1.99, 0.99, 7.99, 3.99, 14.99        EN  388948992.0   \n",
       "1                                        NaN        EN   18596864.0   \n",
       "2                     1.99, 0.99, 0.99, 0.99        EN   55459840.0   \n",
       "3                                       3.99        EN  187921408.0   \n",
       "4                                        NaN        EN   32905216.0   \n",
       "\n",
       "  Original Release Date Current Version Release Date  \\\n",
       "0            14/05/2018                   28/12/2018   \n",
       "1             9/11/2017                    9/11/2017   \n",
       "2            26/04/2013                   30/05/2013   \n",
       "3            23/02/2019                   23/02/2019   \n",
       "4            12/11/2013                   16/01/2019   \n",
       "\n",
       "                                game_id  \n",
       "0  4173eb39-046d-431e-a504-b5418301a382  \n",
       "1  c8cb6281-34fc-4e54-b6f9-1a30657fb370  \n",
       "2  6a30fa24-b1c7-44b0-96e8-34b9c6c7232b  \n",
       "3  4df50e72-3f5c-470a-8834-b56b5610e17a  \n",
       "4  d5832610-8ec2-44f5-989d-0f5fd9e67ef5  "
      ]
     },
     "execution_count": 4,
     "metadata": {},
     "output_type": "execute_result"
    }
   ],
   "source": [
    "train_df2 = pd.read_csv('F:\\external\\metadata_train.csv')\n",
    "train_df2.head()                        "
   ]
  },
  {
   "cell_type": "code",
   "execution_count": 13,
   "metadata": {},
   "outputs": [
    {
     "name": "stdout",
     "output_type": "stream",
     "text": [
      "<class 'pandas.core.frame.DataFrame'>\n",
      "RangeIndex: 12755 entries, 0 to 12754\n",
      "Data columns (total 6 columns):\n",
      "In-app Purchases                5770 non-null object\n",
      "Languages                       12711 non-null object\n",
      "Size                            12755 non-null float64\n",
      "Original Release Date           12755 non-null object\n",
      "Current Version Release Date    12755 non-null object\n",
      "game_id                         12755 non-null object\n",
      "dtypes: float64(1), object(5)\n",
      "memory usage: 598.0+ KB\n"
     ]
    }
   ],
   "source": [
    "train_df2.info()"
   ]
  },
  {
   "cell_type": "code",
   "execution_count": 21,
   "metadata": {},
   "outputs": [
    {
     "name": "stdout",
     "output_type": "stream",
     "text": [
      "<class 'pandas.core.frame.DataFrame'>\n",
      "RangeIndex: 12755 entries, 0 to 12754\n",
      "Data columns (total 5 columns):\n",
      "Languages                       12755 non-null object\n",
      "Size                            12755 non-null float64\n",
      "Original Release Date           12755 non-null object\n",
      "Current Version Release Date    12755 non-null object\n",
      "game_id                         12755 non-null object\n",
      "dtypes: float64(1), object(4)\n",
      "memory usage: 498.3+ KB\n"
     ]
    }
   ],
   "source": [
    "train_df2.info()"
   ]
  },
  {
   "cell_type": "code",
   "execution_count": 5,
   "metadata": {},
   "outputs": [],
   "source": [
    "train_df2.drop(columns=['In-app Purchases'],axis=1, inplace=True)\n",
    "train_df2.replace(np.NaN,\"EN\",inplace=True)"
   ]
  },
  {
   "cell_type": "code",
   "execution_count": 6,
   "metadata": {},
   "outputs": [],
   "source": [
    "train_df3 = pd.read_csv('F:\\\\external\\\\ratings_train.csv')"
   ]
  },
  {
   "cell_type": "code",
   "execution_count": 24,
   "metadata": {},
   "outputs": [
    {
     "name": "stdout",
     "output_type": "stream",
     "text": [
      "<class 'pandas.core.frame.DataFrame'>\n",
      "RangeIndex: 12755 entries, 0 to 12754\n",
      "Data columns (total 4 columns):\n",
      "Average User Rating    5687 non-null float64\n",
      "User Rating Count      5687 non-null float64\n",
      "Age Rating             12755 non-null object\n",
      "game_id                12755 non-null object\n",
      "dtypes: float64(2), object(2)\n",
      "memory usage: 398.7+ KB\n"
     ]
    }
   ],
   "source": [
    "train_df3.info()"
   ]
  },
  {
   "cell_type": "code",
   "execution_count": 25,
   "metadata": {},
   "outputs": [
    {
     "data": {
      "text/html": [
       "<div>\n",
       "<style scoped>\n",
       "    .dataframe tbody tr th:only-of-type {\n",
       "        vertical-align: middle;\n",
       "    }\n",
       "\n",
       "    .dataframe tbody tr th {\n",
       "        vertical-align: top;\n",
       "    }\n",
       "\n",
       "    .dataframe thead th {\n",
       "        text-align: right;\n",
       "    }\n",
       "</style>\n",
       "<table border=\"1\" class=\"dataframe\">\n",
       "  <thead>\n",
       "    <tr style=\"text-align: right;\">\n",
       "      <th></th>\n",
       "      <th>Average User Rating</th>\n",
       "      <th>User Rating Count</th>\n",
       "      <th>Age Rating</th>\n",
       "      <th>game_id</th>\n",
       "    </tr>\n",
       "  </thead>\n",
       "  <tbody>\n",
       "    <tr>\n",
       "      <th>0</th>\n",
       "      <td>4.0</td>\n",
       "      <td>25.0</td>\n",
       "      <td>12+</td>\n",
       "      <td>4173eb39-046d-431e-a504-b5418301a382</td>\n",
       "    </tr>\n",
       "    <tr>\n",
       "      <th>1</th>\n",
       "      <td>NaN</td>\n",
       "      <td>NaN</td>\n",
       "      <td>4+</td>\n",
       "      <td>c8cb6281-34fc-4e54-b6f9-1a30657fb370</td>\n",
       "    </tr>\n",
       "    <tr>\n",
       "      <th>2</th>\n",
       "      <td>3.5</td>\n",
       "      <td>27.0</td>\n",
       "      <td>9+</td>\n",
       "      <td>6a30fa24-b1c7-44b0-96e8-34b9c6c7232b</td>\n",
       "    </tr>\n",
       "    <tr>\n",
       "      <th>3</th>\n",
       "      <td>NaN</td>\n",
       "      <td>NaN</td>\n",
       "      <td>4+</td>\n",
       "      <td>4df50e72-3f5c-470a-8834-b56b5610e17a</td>\n",
       "    </tr>\n",
       "    <tr>\n",
       "      <th>4</th>\n",
       "      <td>NaN</td>\n",
       "      <td>NaN</td>\n",
       "      <td>4+</td>\n",
       "      <td>d5832610-8ec2-44f5-989d-0f5fd9e67ef5</td>\n",
       "    </tr>\n",
       "  </tbody>\n",
       "</table>\n",
       "</div>"
      ],
      "text/plain": [
       "   Average User Rating  User Rating Count Age Rating  \\\n",
       "0                  4.0               25.0        12+   \n",
       "1                  NaN                NaN         4+   \n",
       "2                  3.5               27.0         9+   \n",
       "3                  NaN                NaN         4+   \n",
       "4                  NaN                NaN         4+   \n",
       "\n",
       "                                game_id  \n",
       "0  4173eb39-046d-431e-a504-b5418301a382  \n",
       "1  c8cb6281-34fc-4e54-b6f9-1a30657fb370  \n",
       "2  6a30fa24-b1c7-44b0-96e8-34b9c6c7232b  \n",
       "3  4df50e72-3f5c-470a-8834-b56b5610e17a  \n",
       "4  d5832610-8ec2-44f5-989d-0f5fd9e67ef5  "
      ]
     },
     "execution_count": 25,
     "metadata": {},
     "output_type": "execute_result"
    }
   ],
   "source": [
    "train_df3.head()"
   ]
  },
  {
   "cell_type": "code",
   "execution_count": 27,
   "metadata": {},
   "outputs": [
    {
     "data": {
      "text/plain": [
       "4+     8865\n",
       "9+     1880\n",
       "12+    1516\n",
       "17+     494\n",
       "Name: Age Rating, dtype: int64"
      ]
     },
     "execution_count": 27,
     "metadata": {},
     "output_type": "execute_result"
    }
   ],
   "source": [
    "train_df3['Age Rating'].value_counts()"
   ]
  },
  {
   "cell_type": "code",
   "execution_count": 7,
   "metadata": {},
   "outputs": [],
   "source": [
    "train_df3.drop(columns=['Average User Rating','User Rating Count'],inplace=True)"
   ]
  },
  {
   "cell_type": "code",
   "execution_count": 8,
   "metadata": {},
   "outputs": [],
   "source": [
    "combo1 = pd.merge(train_df1,train_df2,how='left',left_on='game_id',right_on='game_id')"
   ]
  },
  {
   "cell_type": "code",
   "execution_count": 9,
   "metadata": {},
   "outputs": [],
   "source": [
    "combo2 = pd.merge(combo1,train_df3,how='left',left_on='game_id',right_on='game_id')"
   ]
  },
  {
   "cell_type": "code",
   "execution_count": 10,
   "metadata": {},
   "outputs": [
    {
     "data": {
      "text/html": [
       "<div>\n",
       "<style scoped>\n",
       "    .dataframe tbody tr th:only-of-type {\n",
       "        vertical-align: middle;\n",
       "    }\n",
       "\n",
       "    .dataframe tbody tr th {\n",
       "        vertical-align: top;\n",
       "    }\n",
       "\n",
       "    .dataframe thead th {\n",
       "        text-align: right;\n",
       "    }\n",
       "</style>\n",
       "<table border=\"1\" class=\"dataframe\">\n",
       "  <thead>\n",
       "    <tr style=\"text-align: right;\">\n",
       "      <th></th>\n",
       "      <th>Name</th>\n",
       "      <th>game_id</th>\n",
       "      <th>Developer</th>\n",
       "      <th>Genres</th>\n",
       "      <th>Primary Genre</th>\n",
       "      <th>gamestore_price</th>\n",
       "      <th>Languages</th>\n",
       "      <th>Size</th>\n",
       "      <th>Original Release Date</th>\n",
       "      <th>Current Version Release Date</th>\n",
       "      <th>Age Rating</th>\n",
       "    </tr>\n",
       "  </thead>\n",
       "  <tbody>\n",
       "    <tr>\n",
       "      <th>0</th>\n",
       "      <td>Lottery Life - Monopoly Wars</td>\n",
       "      <td>4173eb39-046d-431e-a504-b5418301a382</td>\n",
       "      <td>Opposite Lock Entertainment</td>\n",
       "      <td>Games, Simulation, Finance, Strategy</td>\n",
       "      <td>Games</td>\n",
       "      <td>0.0</td>\n",
       "      <td>EN</td>\n",
       "      <td>388948992.0</td>\n",
       "      <td>14/05/2018</td>\n",
       "      <td>28/12/2018</td>\n",
       "      <td>12+</td>\n",
       "    </tr>\n",
       "    <tr>\n",
       "      <th>1</th>\n",
       "      <td>Cute Little Unicorn Match3</td>\n",
       "      <td>c8cb6281-34fc-4e54-b6f9-1a30657fb370</td>\n",
       "      <td>Angrisa Leungtanapolkul</td>\n",
       "      <td>Games, Entertainment, Strategy, Puzzle</td>\n",
       "      <td>Games</td>\n",
       "      <td>0.0</td>\n",
       "      <td>EN</td>\n",
       "      <td>18596864.0</td>\n",
       "      <td>9/11/2017</td>\n",
       "      <td>9/11/2017</td>\n",
       "      <td>4+</td>\n",
       "    </tr>\n",
       "    <tr>\n",
       "      <th>2</th>\n",
       "      <td>\"It's Tanks!\"</td>\n",
       "      <td>6a30fa24-b1c7-44b0-96e8-34b9c6c7232b</td>\n",
       "      <td>Bit By Bit Games Ltd</td>\n",
       "      <td>Games, Casual, Strategy</td>\n",
       "      <td>Games</td>\n",
       "      <td>0.0</td>\n",
       "      <td>EN</td>\n",
       "      <td>55459840.0</td>\n",
       "      <td>26/04/2013</td>\n",
       "      <td>30/05/2013</td>\n",
       "      <td>9+</td>\n",
       "    </tr>\n",
       "    <tr>\n",
       "      <th>3</th>\n",
       "      <td>Dunes</td>\n",
       "      <td>4df50e72-3f5c-470a-8834-b56b5610e17a</td>\n",
       "      <td>Sympo Games PTY LTD</td>\n",
       "      <td>Games, Strategy, Productivity, Family</td>\n",
       "      <td>Games</td>\n",
       "      <td>0.0</td>\n",
       "      <td>EN</td>\n",
       "      <td>187921408.0</td>\n",
       "      <td>23/02/2019</td>\n",
       "      <td>23/02/2019</td>\n",
       "      <td>4+</td>\n",
       "    </tr>\n",
       "    <tr>\n",
       "      <th>4</th>\n",
       "      <td>Cribbage Square Collection</td>\n",
       "      <td>d5832610-8ec2-44f5-989d-0f5fd9e67ef5</td>\n",
       "      <td>MmpApps Corp.</td>\n",
       "      <td>Games, Card, Entertainment, Strategy</td>\n",
       "      <td>Games</td>\n",
       "      <td>0.0</td>\n",
       "      <td>EN</td>\n",
       "      <td>32905216.0</td>\n",
       "      <td>12/11/2013</td>\n",
       "      <td>16/01/2019</td>\n",
       "      <td>4+</td>\n",
       "    </tr>\n",
       "  </tbody>\n",
       "</table>\n",
       "</div>"
      ],
      "text/plain": [
       "                           Name                               game_id  \\\n",
       "0  Lottery Life - Monopoly Wars  4173eb39-046d-431e-a504-b5418301a382   \n",
       "1    Cute Little Unicorn Match3  c8cb6281-34fc-4e54-b6f9-1a30657fb370   \n",
       "2                 \"It's Tanks!\"  6a30fa24-b1c7-44b0-96e8-34b9c6c7232b   \n",
       "3                         Dunes  4df50e72-3f5c-470a-8834-b56b5610e17a   \n",
       "4    Cribbage Square Collection  d5832610-8ec2-44f5-989d-0f5fd9e67ef5   \n",
       "\n",
       "                     Developer                                  Genres  \\\n",
       "0  Opposite Lock Entertainment    Games, Simulation, Finance, Strategy   \n",
       "1      Angrisa Leungtanapolkul  Games, Entertainment, Strategy, Puzzle   \n",
       "2         Bit By Bit Games Ltd                 Games, Casual, Strategy   \n",
       "3          Sympo Games PTY LTD   Games, Strategy, Productivity, Family   \n",
       "4                MmpApps Corp.    Games, Card, Entertainment, Strategy   \n",
       "\n",
       "  Primary Genre  gamestore_price Languages         Size Original Release Date  \\\n",
       "0         Games              0.0        EN  388948992.0            14/05/2018   \n",
       "1         Games              0.0        EN   18596864.0             9/11/2017   \n",
       "2         Games              0.0        EN   55459840.0            26/04/2013   \n",
       "3         Games              0.0        EN  187921408.0            23/02/2019   \n",
       "4         Games              0.0        EN   32905216.0            12/11/2013   \n",
       "\n",
       "  Current Version Release Date Age Rating  \n",
       "0                   28/12/2018        12+  \n",
       "1                    9/11/2017         4+  \n",
       "2                   30/05/2013         9+  \n",
       "3                   23/02/2019         4+  \n",
       "4                   16/01/2019         4+  "
      ]
     },
     "execution_count": 10,
     "metadata": {},
     "output_type": "execute_result"
    }
   ],
   "source": [
    "combo2.head()"
   ]
  },
  {
   "cell_type": "code",
   "execution_count": 14,
   "metadata": {},
   "outputs": [],
   "source": [
    "import matplotlib.pyplot as plt\n",
    "import seaborn as sns"
   ]
  },
  {
   "cell_type": "code",
   "execution_count": 36,
   "metadata": {},
   "outputs": [
    {
     "data": {
      "text/plain": [
       "<matplotlib.axes._subplots.AxesSubplot at 0x1d35876c550>"
      ]
     },
     "execution_count": 36,
     "metadata": {},
     "output_type": "execute_result"
    },
    {
     "data": {
      "image/png": "[encoded data removed]",
      "text/plain": [
       "<Figure size 432x288 with 1 Axes>"
      ]
     },
     "metadata": {
      "needs_background": "light"
     },
     "output_type": "display_data"
    }
   ],
   "source": [
    "sns.distplot(combo2['gamestore_price'])"
   ]
  },
  {
   "cell_type": "code",
   "execution_count": 43,
   "metadata": {},
   "outputs": [
    {
     "data": {
      "image/png": "[encoded data removed]",
      "text/plain": [
       "<Figure size 360x360 with 1 Axes>"
      ]
     },
     "metadata": {
      "needs_background": "light"
     },
     "output_type": "display_data"
    }
   ],
   "source": [
    "sns.catplot(x=\"Age Rating\", y=\"gamestore_price\", data=combo2);"
   ]
  },
  {
   "cell_type": "code",
   "execution_count": 11,
   "metadata": {},
   "outputs": [],
   "source": [
    "combo2['Original Release Date'] =combo2['Original Release Date'].astype('datetime64[ns]')"
   ]
  },
  {
   "cell_type": "code",
   "execution_count": 12,
   "metadata": {},
   "outputs": [],
   "source": [
    "combo2['Current Version Release Date'] =combo2['Current Version Release Date'].astype('datetime64[ns]')"
   ]
  },
  {
   "cell_type": "code",
   "execution_count": 13,
   "metadata": {},
   "outputs": [],
   "source": [
    "combo2['Orrelease_year'] =combo2['Original Release Date'].dt.year\n",
    "combo2['Orrelease_month'] =combo2['Original Release Date'].dt.month\n",
    "\n",
    "\n",
    "combo2['Curelease_year'] =combo2['Current Version Release Date'].dt.year\n",
    "combo2['Curelease_month'] =combo2['Current Version Release Date'].dt.month\n"
   ]
  },
  {
   "cell_type": "code",
   "execution_count": 57,
   "metadata": {},
   "outputs": [
    {
     "data": {
      "text/plain": [
       "<matplotlib.axes._subplots.AxesSubplot at 0x1d3635030f0>"
      ]
     },
     "execution_count": 57,
     "metadata": {},
     "output_type": "execute_result"
    },
    {
     "data": {
      "image/png": "[encoded data removed]",
      "text/plain": [
       "<Figure size 432x288 with 1 Axes>"
      ]
     },
     "metadata": {
      "needs_background": "light"
     },
     "output_type": "display_data"
    }
   ],
   "source": [
    "sns.scatterplot(x='Original Release Date',y='gamestore_price',data=combo2)"
   ]
  },
  {
   "cell_type": "code",
   "execution_count": 15,
   "metadata": {},
   "outputs": [
    {
     "data": {
      "text/plain": [
       "<matplotlib.axes._subplots.AxesSubplot at 0x1cea451ddd8>"
      ]
     },
     "execution_count": 15,
     "metadata": {},
     "output_type": "execute_result"
    },
    {
     "data": {
      "image/png": "[encoded data removed]",
      "text/plain": [
       "<Figure size 432x288 with 1 Axes>"
      ]
     },
     "metadata": {
      "needs_background": "light"
     },
     "output_type": "display_data"
    }
   ],
   "source": [
    "sns.scatterplot(x='Orrelease_year',y='gamestore_price',data=combo2)"
   ]
  },
  {
   "cell_type": "code",
   "execution_count": 58,
   "metadata": {},
   "outputs": [
    {
     "data": {
      "text/plain": [
       "<matplotlib.axes._subplots.AxesSubplot at 0x1d36961c2e8>"
      ]
     },
     "execution_count": 58,
     "metadata": {},
     "output_type": "execute_result"
    },
    {
     "data": {
      "image/png": "[encoded data removed]",
      "text/plain": [
       "<Figure size 432x288 with 1 Axes>"
      ]
     },
     "metadata": {
      "needs_background": "light"
     },
     "output_type": "display_data"
    }
   ],
   "source": [
    "sns.scatterplot(x='Current Version Release Date',y='gamestore_price',data=combo2)"
   ]
  },
  {
   "cell_type": "code",
   "execution_count": 59,
   "metadata": {},
   "outputs": [
    {
     "data": {
      "text/plain": [
       "<matplotlib.axes._subplots.AxesSubplot at 0x1d3696bb860>"
      ]
     },
     "execution_count": 59,
     "metadata": {},
     "output_type": "execute_result"
    },
    {
     "data": {
      "image/png": "[encoded data removed]",
      "text/plain": [
       "<Figure size 432x288 with 1 Axes>"
      ]
     },
     "metadata": {
      "needs_background": "light"
     },
     "output_type": "display_data"
    }
   ],
   "source": [
    "sns.scatterplot(x='Size',y='gamestore_price',data=combo2)"
   ]
  },
  {
   "cell_type": "code",
   "execution_count": 51,
   "metadata": {},
   "outputs": [
    {
     "data": {
      "text/plain": [
       "gamestore_price    1.000000\n",
       "Size               0.031571\n",
       "Orrelease_year    -0.007755\n",
       "Orrelease_month   -0.010807\n",
       "Curelease_year     0.002792\n",
       "Curelease_month   -0.013612\n",
       "Name: gamestore_price, dtype: float64"
      ]
     },
     "execution_count": 51,
     "metadata": {},
     "output_type": "execute_result"
    }
   ],
   "source": [
    "combo2.corr()['gamestore_price']"
   ]
  },
  {
   "cell_type": "code",
   "execution_count": 61,
   "metadata": {},
   "outputs": [
    {
     "data": {
      "text/plain": [
       "EN                                                                                                                                    9372\n",
       "EN, ZH                                                                                                                                 274\n",
       "EN, ZH, ZH                                                                                                                             206\n",
       "CS, NL, EN, FR, DE, IT, JA, KO, PL, PT, RU, ZH, ES, SV, ZH, TR                                                                         203\n",
       "EN, DE                                                                                                                                 107\n",
       "EN, JA                                                                                                                                  99\n",
       "CS, DA, NL, EN, FI, FR, DE, EL, HE, ID, IT, JA, KO, MS, NB, PL, PT, RU, ZH, ES, SV, TH, ZH, TR, VI                                      91\n",
       "AR, CA, CS, DA, NL, EN, FI, FR, DE, EL, HE, HU, ID, IT, JA, KO, MS, NB, PL, PT, RO, RU, ZH, SK, ES, SV, TH, ZH, TR, UK, VI              83\n",
       "EN, RU                                                                                                                                  75\n",
       "EN, FR                                                                                                                                  61\n",
       "EN, JA, ZH, ZH                                                                                                                          60\n",
       "EN, ES                                                                                                                                  58\n",
       "EN, JA, KO, ZH, ZH                                                                                                                      45\n",
       "EN, FR, DE, IT, ES                                                                                                                      37\n",
       "ZH, DA, NL, EN, FI, FR, DE, EL, IT, JA, KO, MS, NB, PT, RU, ZH, ES, SV, TH, ZH, TR                                                      36\n",
       "EN, FR, DE, IT, JA, KO, PT, RU, ZH, ES, ZH                                                                                              35\n",
       "EN, FR, DE, IT, RU, ES                                                                                                                  29\n",
       "EN, JA, ZH                                                                                                                              28\n",
       "EN, PT                                                                                                                                  28\n",
       "CA, CS, DA, NL, EN, FI, FR, DE, EL, HE, HU, IT, JA, KO, NB, PL, PT, RO, RU, ZH, SK, ES, SV, ZH, TR                                      27\n",
       "EN, JA, KO                                                                                                                              27\n",
       "EN, IT                                                                                                                                  23\n",
       "AR, CA, CS, DA, NL, EN, FI, FR, DE, EL, HE, HU, ID, IT, JA, KO, MS, NB, PL, PT, RO, RU, ZH, SK, ES, SV, TH, ZH, TR, VI                  23\n",
       "AR, CA, HR, CS, DA, NL, EN, FI, FR, DE, EL, HE, HU, ID, IT, JA, KO, MS, NB, PL, PT, RO, RU, ZH, SK, ES, SV, TH, ZH, TR, UK, VI          21\n",
       "EN, KO                                                                                                                                  21\n",
       "ZH                                                                                                                                      20\n",
       "EN, FR, DE, IT, PT, ES                                                                                                                  20\n",
       "EN, FR, DE, IT, JA, KO, PT, RU, ZH, ES                                                                                                  19\n",
       "CS, DA, NL, EN, FR, DE, HE, IT, JA, KO, NB, PL, PT, RU, ZH, ES, SV, ZH, TR                                                              17\n",
       "AR, HY, CA, CS, DA, NL, EN, FI, FR, DE, EL, HE, HU, ID, IT, JA, KO, MS, NB, FA, PL, PT, RO, RU, ZH, SK, ES, SV, TH, ZH, TR, UK, VI      17\n",
       "                                                                                                                                      ... \n",
       "EN, FR, PT, RU, ES, TR                                                                                                                   1\n",
       "ZH, FR, DE, IT, JA, KO, PT, RU, ES                                                                                                       1\n",
       "EN, JA, KO, PT, RU, ZH, ES, ZH, TR                                                                                                       1\n",
       "AR, EN, ID, FA, VI                                                                                                                       1\n",
       "BE, EN, RU, UK                                                                                                                           1\n",
       "EN, FR, DE, IT, ES, TR                                                                                                                   1\n",
       "EN, DE, JA, ZH, TH                                                                                                                       1\n",
       "EN, DE, IT, ES                                                                                                                           1\n",
       "CA, EN, FR, DE, IT, PT, ES, SV                                                                                                           1\n",
       "AR, NL, EN, FR, DE, HE, IT, JA, KO, RO, RU, ZH, ES, ZH, UK                                                                               1\n",
       "EN, FR, DE, PT, RU, ZH, ES, ZH                                                                                                           1\n",
       "EN, FR, DE, IT, JA, KO, PT, RU, ES, TH, TR                                                                                               1\n",
       "AR, ZH, NL, EN, FR, DE, IT, JA, KO, PL, PT, RU, ES, TR                                                                                   1\n",
       "EN, FR, JA, ES                                                                                                                           1\n",
       "EN, DE, HE, JA, PT, RU, ES                                                                                                               1\n",
       "EN, JA, KO, PT, ZH, ES, ZH                                                                                                               1\n",
       "AR, ZH, NL, EN, FR, DE, IT, JA, KO, PT, RU, ES, TR                                                                                       1\n",
       "EN, FR, PT, ES                                                                                                                           1\n",
       "NL, EN, DE, EL, HE, PT, RU, ZH, ES, SV, ZH, TR                                                                                           1\n",
       "EN, FR, DE, KO, ES                                                                                                                       1\n",
       "EN, FR, DE, JA, KO, PL, PT, RU, ZH, ES, ZH                                                                                               1\n",
       "CS, DA, NL, EN, FI, FR, DE, EL, HI, HU, ID, IT, JA, KO, NB, PL, PT, RO, RU, ZH, SK, ES, SV, TH, ZH, TR                                   1\n",
       "EN, ID, JA, KO, ZH, TH, ZH                                                                                                               1\n",
       "ZH, EN, FR, IT, JA, KO, PT, RU                                                                                                           1\n",
       "ZH, EN, FR, DE, ID, IT, KO, PT, RU, ZH, ES, TH, ZH, TR, UK, VI                                                                           1\n",
       "CS, NL, EN, FR, DE, HU, IT, PL, PT, RO, RU, SK, ES, TR                                                                                   1\n",
       "CS, DA, NL, EN, FI, FR, DE, HU, IT, JA, KO, NB, PL, PT, RU, ZH, ES, SV, ZH, TR, UK                                                       1\n",
       "ZH, HR, CS, DA, NL, EN, FI, FR, DE, EL, HI, HU, ID, IT, JA, KO, LT, NB, PL, PT, RO, RU, ZH, SK, ES, SV, TH, ZH, TR                       1\n",
       "EN, FA, ES                                                                                                                               1\n",
       "DA, NL, EN, FR, DE, EL, ID, IT, JA, MS, NB, PL, PT, RU, ES, SV, TR                                                                       1\n",
       "Name: Languages, Length: 834, dtype: int64"
      ]
     },
     "execution_count": 61,
     "metadata": {},
     "output_type": "execute_result"
    }
   ],
   "source": [
    "combo2['Languages'].value_counts()"
   ]
  },
  {
   "cell_type": "code",
   "execution_count": 22,
   "metadata": {},
   "outputs": [
    {
     "data": {
      "text/plain": [
       "Timestamp('2019-12-07 00:00:00')"
      ]
     },
     "execution_count": 22,
     "metadata": {},
     "output_type": "execute_result"
    }
   ],
   "source": [
    "combo2['Original Release Date'].max()"
   ]
  },
  {
   "cell_type": "code",
   "execution_count": 23,
   "metadata": {},
   "outputs": [],
   "source": [
    "test_df1 = pd.read_csv('F:\\external\\info_test.csv')"
   ]
  },
  {
   "cell_type": "code",
   "execution_count": 24,
   "metadata": {},
   "outputs": [],
   "source": [
    "test_df1.drop(columns=['URL','Subtitle','Icon URL','Description'],axis=1,inplace=True)"
   ]
  },
  {
   "cell_type": "code",
   "execution_count": 26,
   "metadata": {},
   "outputs": [],
   "source": [
    "test_df2 = pd.read_csv('F:\\external\\metadata_test.csv')"
   ]
  },
  {
   "cell_type": "code",
   "execution_count": 27,
   "metadata": {},
   "outputs": [],
   "source": [
    "test_df2.drop(columns=['In-app Purchases'],axis=1, inplace=True)"
   ]
  },
  {
   "cell_type": "code",
   "execution_count": 34,
   "metadata": {},
   "outputs": [],
   "source": [
    "test_df2['Languages'].replace(np.NaN,\"EN\",inplace=True)\n",
    "test_df2['Size'].replace(np.NaN,test_df2['Size'].median(),inplace=True)"
   ]
  },
  {
   "cell_type": "code",
   "execution_count": 36,
   "metadata": {},
   "outputs": [],
   "source": [
    "test_df3 = pd.read_csv('F:\\\\external\\\\ratings_test.csv')"
   ]
  },
  {
   "cell_type": "code",
   "execution_count": 37,
   "metadata": {},
   "outputs": [],
   "source": [
    "test_df3.drop(columns=['Average User Rating','User Rating Count'],inplace=True)"
   ]
  },
  {
   "cell_type": "code",
   "execution_count": 39,
   "metadata": {},
   "outputs": [],
   "source": [
    "combo3 = pd.merge(test_df1,test_df2,how='left',left_on='game_id',right_on='game_id')"
   ]
  },
  {
   "cell_type": "code",
   "execution_count": 40,
   "metadata": {},
   "outputs": [],
   "source": [
    "combo4 = pd.merge(combo3,test_df3,how='left',left_on='game_id',right_on='game_id')"
   ]
  },
  {
   "cell_type": "code",
   "execution_count": 147,
   "metadata": {},
   "outputs": [
    {
     "data": {
      "text/html": [
       "<div>\n",
       "<style scoped>\n",
       "    .dataframe tbody tr th:only-of-type {\n",
       "        vertical-align: middle;\n",
       "    }\n",
       "\n",
       "    .dataframe tbody tr th {\n",
       "        vertical-align: top;\n",
       "    }\n",
       "\n",
       "    .dataframe thead th {\n",
       "        text-align: right;\n",
       "    }\n",
       "</style>\n",
       "<table border=\"1\" class=\"dataframe\">\n",
       "  <thead>\n",
       "    <tr style=\"text-align: right;\">\n",
       "      <th></th>\n",
       "      <th>Name</th>\n",
       "      <th>game_id</th>\n",
       "      <th>Developer</th>\n",
       "      <th>Genres</th>\n",
       "      <th>Primary Genre</th>\n",
       "      <th>Languages</th>\n",
       "      <th>Size</th>\n",
       "      <th>Original Release Date</th>\n",
       "      <th>Current Version Release Date</th>\n",
       "      <th>Age Rating</th>\n",
       "    </tr>\n",
       "  </thead>\n",
       "  <tbody>\n",
       "    <tr>\n",
       "      <th>12739</th>\n",
       "      <td>Block in the Hole Slider Puzzle Pro</td>\n",
       "      <td>a77cadb6-07f5-4f48-b012-df7b758cc3e4</td>\n",
       "      <td>Amy Prizer</td>\n",
       "      <td>Games, Strategy, Puzzle</td>\n",
       "      <td>Games</td>\n",
       "      <td>EN</td>\n",
       "      <td>15772672.0</td>\n",
       "      <td>2017-02-25</td>\n",
       "      <td>2017-02-25</td>\n",
       "      <td>4+</td>\n",
       "    </tr>\n",
       "    <tr>\n",
       "      <th>12740</th>\n",
       "      <td>Craft Warriors</td>\n",
       "      <td>70a0edf7-3bad-4a4b-bad4-f7fdd6aca14e</td>\n",
       "      <td>Translimit, Inc.</td>\n",
       "      <td>Games, Strategy, Simulation</td>\n",
       "      <td>Games</td>\n",
       "      <td>EN</td>\n",
       "      <td>97515520.0</td>\n",
       "      <td>2018-04-22</td>\n",
       "      <td>2019-07-29</td>\n",
       "      <td>9+</td>\n",
       "    </tr>\n",
       "    <tr>\n",
       "      <th>12741</th>\n",
       "      <td>Zero TBS</td>\n",
       "      <td>ceb10cdb-ecf0-4028-b31b-54248fc102fe</td>\n",
       "      <td>FBM</td>\n",
       "      <td>Games, Strategy, Board</td>\n",
       "      <td>Games</td>\n",
       "      <td>EN</td>\n",
       "      <td>36504576.0</td>\n",
       "      <td>2018-07-26</td>\n",
       "      <td>2019-10-04</td>\n",
       "      <td>9+</td>\n",
       "    </tr>\n",
       "    <tr>\n",
       "      <th>12742</th>\n",
       "      <td>Search and Find Hidden Objects</td>\n",
       "      <td>67e3cf3d-c7fc-4046-97b0-c7066c084a13</td>\n",
       "      <td>Ajaysinh Jadeja</td>\n",
       "      <td>Games, Puzzle, Strategy, Entertainment</td>\n",
       "      <td>Games</td>\n",
       "      <td>EN</td>\n",
       "      <td>32385024.0</td>\n",
       "      <td>2017-03-06</td>\n",
       "      <td>2018-08-29</td>\n",
       "      <td>4+</td>\n",
       "    </tr>\n",
       "    <tr>\n",
       "      <th>12743</th>\n",
       "      <td>Dodge Ball - Game</td>\n",
       "      <td>b521f9e1-74e5-410f-8971-4649a35f8e94</td>\n",
       "      <td>Asfia sultana</td>\n",
       "      <td>Games, Strategy, Entertainment, Puzzle</td>\n",
       "      <td>Games</td>\n",
       "      <td>EN</td>\n",
       "      <td>46436352.0</td>\n",
       "      <td>2016-01-03</td>\n",
       "      <td>2016-01-03</td>\n",
       "      <td>4+</td>\n",
       "    </tr>\n",
       "  </tbody>\n",
       "</table>\n",
       "</div>"
      ],
      "text/plain": [
       "                                      Name  \\\n",
       "12739  Block in the Hole Slider Puzzle Pro   \n",
       "12740                       Craft Warriors   \n",
       "12741                             Zero TBS   \n",
       "12742       Search and Find Hidden Objects   \n",
       "12743                    Dodge Ball - Game   \n",
       "\n",
       "                                    game_id         Developer  \\\n",
       "12739  a77cadb6-07f5-4f48-b012-df7b758cc3e4        Amy Prizer   \n",
       "12740  70a0edf7-3bad-4a4b-bad4-f7fdd6aca14e  Translimit, Inc.   \n",
       "12741  ceb10cdb-ecf0-4028-b31b-54248fc102fe               FBM   \n",
       "12742  67e3cf3d-c7fc-4046-97b0-c7066c084a13   Ajaysinh Jadeja   \n",
       "12743  b521f9e1-74e5-410f-8971-4649a35f8e94     Asfia sultana   \n",
       "\n",
       "                                       Genres Primary Genre Languages  \\\n",
       "12739                 Games, Strategy, Puzzle         Games        EN   \n",
       "12740             Games, Strategy, Simulation         Games        EN   \n",
       "12741                  Games, Strategy, Board         Games        EN   \n",
       "12742  Games, Puzzle, Strategy, Entertainment         Games        EN   \n",
       "12743  Games, Strategy, Entertainment, Puzzle         Games        EN   \n",
       "\n",
       "             Size Original Release Date Current Version Release Date  \\\n",
       "12739  15772672.0            2017-02-25                   2017-02-25   \n",
       "12740  97515520.0            2018-04-22                   2019-07-29   \n",
       "12741  36504576.0            2018-07-26                   2019-10-04   \n",
       "12742  32385024.0            2017-03-06                   2018-08-29   \n",
       "12743  46436352.0            2016-01-03                   2016-01-03   \n",
       "\n",
       "      Age Rating  \n",
       "12739         4+  \n",
       "12740         9+  \n",
       "12741         9+  \n",
       "12742         4+  \n",
       "12743         4+  "
      ]
     },
     "execution_count": 147,
     "metadata": {},
     "output_type": "execute_result"
    }
   ],
   "source": [
    "combo4.head()"
   ]
  },
  {
   "cell_type": "code",
   "execution_count": 42,
   "metadata": {},
   "outputs": [],
   "source": [
    "combo4['Original Release Date'] =combo4['Original Release Date'].astype('datetime64[ns]')\n",
    "combo4['Current Version Release Date'] =combo4['Current Version Release Date'].astype('datetime64[ns]')"
   ]
  },
  {
   "cell_type": "code",
   "execution_count": 145,
   "metadata": {},
   "outputs": [
    {
     "data": {
      "text/plain": [
       "(4252, 10)"
      ]
     },
     "execution_count": 145,
     "metadata": {},
     "output_type": "execute_result"
    }
   ],
   "source": [
    "combo4.shape"
   ]
  },
  {
   "cell_type": "code",
   "execution_count": 146,
   "metadata": {},
   "outputs": [],
   "source": [
    "combo4.index = range(12739,16991,1)"
   ]
  },
  {
   "cell_type": "code",
   "execution_count": 148,
   "metadata": {},
   "outputs": [],
   "source": [
    "train_test = pd.concat([combo2,combo4])"
   ]
  },
  {
   "cell_type": "code",
   "execution_count": 45,
   "metadata": {},
   "outputs": [
    {
     "data": {
      "text/html": [
       "<div>\n",
       "<style scoped>\n",
       "    .dataframe tbody tr th:only-of-type {\n",
       "        vertical-align: middle;\n",
       "    }\n",
       "\n",
       "    .dataframe tbody tr th {\n",
       "        vertical-align: top;\n",
       "    }\n",
       "\n",
       "    .dataframe thead th {\n",
       "        text-align: right;\n",
       "    }\n",
       "</style>\n",
       "<table border=\"1\" class=\"dataframe\">\n",
       "  <thead>\n",
       "    <tr style=\"text-align: right;\">\n",
       "      <th></th>\n",
       "      <th>Age Rating</th>\n",
       "      <th>Curelease_month</th>\n",
       "      <th>Curelease_year</th>\n",
       "      <th>Current Version Release Date</th>\n",
       "      <th>Developer</th>\n",
       "      <th>Genres</th>\n",
       "      <th>Languages</th>\n",
       "      <th>Name</th>\n",
       "      <th>Original Release Date</th>\n",
       "      <th>Orrelease_month</th>\n",
       "      <th>Orrelease_year</th>\n",
       "      <th>Primary Genre</th>\n",
       "      <th>Size</th>\n",
       "      <th>game_id</th>\n",
       "      <th>gamestore_price</th>\n",
       "    </tr>\n",
       "  </thead>\n",
       "  <tbody>\n",
       "    <tr>\n",
       "      <th>0</th>\n",
       "      <td>12+</td>\n",
       "      <td>12.0</td>\n",
       "      <td>2018.0</td>\n",
       "      <td>2018-12-28</td>\n",
       "      <td>Opposite Lock Entertainment</td>\n",
       "      <td>Games, Simulation, Finance, Strategy</td>\n",
       "      <td>EN</td>\n",
       "      <td>Lottery Life - Monopoly Wars</td>\n",
       "      <td>2018-05-14</td>\n",
       "      <td>5.0</td>\n",
       "      <td>2018.0</td>\n",
       "      <td>Games</td>\n",
       "      <td>388948992.0</td>\n",
       "      <td>4173eb39-046d-431e-a504-b5418301a382</td>\n",
       "      <td>0.0</td>\n",
       "    </tr>\n",
       "    <tr>\n",
       "      <th>1</th>\n",
       "      <td>4+</td>\n",
       "      <td>9.0</td>\n",
       "      <td>2017.0</td>\n",
       "      <td>2017-09-11</td>\n",
       "      <td>Angrisa Leungtanapolkul</td>\n",
       "      <td>Games, Entertainment, Strategy, Puzzle</td>\n",
       "      <td>EN</td>\n",
       "      <td>Cute Little Unicorn Match3</td>\n",
       "      <td>2017-09-11</td>\n",
       "      <td>9.0</td>\n",
       "      <td>2017.0</td>\n",
       "      <td>Games</td>\n",
       "      <td>18596864.0</td>\n",
       "      <td>c8cb6281-34fc-4e54-b6f9-1a30657fb370</td>\n",
       "      <td>0.0</td>\n",
       "    </tr>\n",
       "    <tr>\n",
       "      <th>2</th>\n",
       "      <td>9+</td>\n",
       "      <td>5.0</td>\n",
       "      <td>2013.0</td>\n",
       "      <td>2013-05-30</td>\n",
       "      <td>Bit By Bit Games Ltd</td>\n",
       "      <td>Games, Casual, Strategy</td>\n",
       "      <td>EN</td>\n",
       "      <td>\"It's Tanks!\"</td>\n",
       "      <td>2013-04-26</td>\n",
       "      <td>4.0</td>\n",
       "      <td>2013.0</td>\n",
       "      <td>Games</td>\n",
       "      <td>55459840.0</td>\n",
       "      <td>6a30fa24-b1c7-44b0-96e8-34b9c6c7232b</td>\n",
       "      <td>0.0</td>\n",
       "    </tr>\n",
       "    <tr>\n",
       "      <th>3</th>\n",
       "      <td>4+</td>\n",
       "      <td>2.0</td>\n",
       "      <td>2019.0</td>\n",
       "      <td>2019-02-23</td>\n",
       "      <td>Sympo Games PTY LTD</td>\n",
       "      <td>Games, Strategy, Productivity, Family</td>\n",
       "      <td>EN</td>\n",
       "      <td>Dunes</td>\n",
       "      <td>2019-02-23</td>\n",
       "      <td>2.0</td>\n",
       "      <td>2019.0</td>\n",
       "      <td>Games</td>\n",
       "      <td>187921408.0</td>\n",
       "      <td>4df50e72-3f5c-470a-8834-b56b5610e17a</td>\n",
       "      <td>0.0</td>\n",
       "    </tr>\n",
       "    <tr>\n",
       "      <th>4</th>\n",
       "      <td>4+</td>\n",
       "      <td>1.0</td>\n",
       "      <td>2019.0</td>\n",
       "      <td>2019-01-16</td>\n",
       "      <td>MmpApps Corp.</td>\n",
       "      <td>Games, Card, Entertainment, Strategy</td>\n",
       "      <td>EN</td>\n",
       "      <td>Cribbage Square Collection</td>\n",
       "      <td>2013-12-11</td>\n",
       "      <td>12.0</td>\n",
       "      <td>2013.0</td>\n",
       "      <td>Games</td>\n",
       "      <td>32905216.0</td>\n",
       "      <td>d5832610-8ec2-44f5-989d-0f5fd9e67ef5</td>\n",
       "      <td>0.0</td>\n",
       "    </tr>\n",
       "  </tbody>\n",
       "</table>\n",
       "</div>"
      ],
      "text/plain": [
       "  Age Rating  Curelease_month  Curelease_year Current Version Release Date  \\\n",
       "0        12+             12.0          2018.0                   2018-12-28   \n",
       "1         4+              9.0          2017.0                   2017-09-11   \n",
       "2         9+              5.0          2013.0                   2013-05-30   \n",
       "3         4+              2.0          2019.0                   2019-02-23   \n",
       "4         4+              1.0          2019.0                   2019-01-16   \n",
       "\n",
       "                     Developer                                  Genres  \\\n",
       "0  Opposite Lock Entertainment    Games, Simulation, Finance, Strategy   \n",
       "1      Angrisa Leungtanapolkul  Games, Entertainment, Strategy, Puzzle   \n",
       "2         Bit By Bit Games Ltd                 Games, Casual, Strategy   \n",
       "3          Sympo Games PTY LTD   Games, Strategy, Productivity, Family   \n",
       "4                MmpApps Corp.    Games, Card, Entertainment, Strategy   \n",
       "\n",
       "  Languages                          Name Original Release Date  \\\n",
       "0        EN  Lottery Life - Monopoly Wars            2018-05-14   \n",
       "1        EN    Cute Little Unicorn Match3            2017-09-11   \n",
       "2        EN                 \"It's Tanks!\"            2013-04-26   \n",
       "3        EN                         Dunes            2019-02-23   \n",
       "4        EN    Cribbage Square Collection            2013-12-11   \n",
       "\n",
       "   Orrelease_month  Orrelease_year Primary Genre         Size  \\\n",
       "0              5.0          2018.0         Games  388948992.0   \n",
       "1              9.0          2017.0         Games   18596864.0   \n",
       "2              4.0          2013.0         Games   55459840.0   \n",
       "3              2.0          2019.0         Games  187921408.0   \n",
       "4             12.0          2013.0         Games   32905216.0   \n",
       "\n",
       "                                game_id  gamestore_price  \n",
       "0  4173eb39-046d-431e-a504-b5418301a382              0.0  \n",
       "1  c8cb6281-34fc-4e54-b6f9-1a30657fb370              0.0  \n",
       "2  6a30fa24-b1c7-44b0-96e8-34b9c6c7232b              0.0  \n",
       "3  4df50e72-3f5c-470a-8834-b56b5610e17a              0.0  \n",
       "4  d5832610-8ec2-44f5-989d-0f5fd9e67ef5              0.0  "
      ]
     },
     "execution_count": 45,
     "metadata": {},
     "output_type": "execute_result"
    }
   ],
   "source": [
    "train_test.head()"
   ]
  },
  {
   "cell_type": "code",
   "execution_count": 149,
   "metadata": {},
   "outputs": [
    {
     "data": {
      "text/html": [
       "<div>\n",
       "<style scoped>\n",
       "    .dataframe tbody tr th:only-of-type {\n",
       "        vertical-align: middle;\n",
       "    }\n",
       "\n",
       "    .dataframe tbody tr th {\n",
       "        vertical-align: top;\n",
       "    }\n",
       "\n",
       "    .dataframe thead th {\n",
       "        text-align: right;\n",
       "    }\n",
       "</style>\n",
       "<table border=\"1\" class=\"dataframe\">\n",
       "  <thead>\n",
       "    <tr style=\"text-align: right;\">\n",
       "      <th></th>\n",
       "      <th>Age Rating</th>\n",
       "      <th>Curelease_month</th>\n",
       "      <th>Curelease_year</th>\n",
       "      <th>Current Version Release Date</th>\n",
       "      <th>Developer</th>\n",
       "      <th>Genres</th>\n",
       "      <th>Languages</th>\n",
       "      <th>Name</th>\n",
       "      <th>Original Release Date</th>\n",
       "      <th>Orrelease_month</th>\n",
       "      <th>Orrelease_year</th>\n",
       "      <th>Primary Genre</th>\n",
       "      <th>Size</th>\n",
       "      <th>game_id</th>\n",
       "      <th>gamestore_price</th>\n",
       "    </tr>\n",
       "  </thead>\n",
       "  <tbody>\n",
       "    <tr>\n",
       "      <th>count</th>\n",
       "      <td>16990</td>\n",
       "      <td>12738.000000</td>\n",
       "      <td>12738.000000</td>\n",
       "      <td>16990</td>\n",
       "      <td>16990</td>\n",
       "      <td>16990</td>\n",
       "      <td>16990</td>\n",
       "      <td>16990</td>\n",
       "      <td>16990</td>\n",
       "      <td>12738.000000</td>\n",
       "      <td>12738.000000</td>\n",
       "      <td>16990</td>\n",
       "      <td>1.699000e+04</td>\n",
       "      <td>16990</td>\n",
       "      <td>12738.000000</td>\n",
       "    </tr>\n",
       "    <tr>\n",
       "      <th>unique</th>\n",
       "      <td>4</td>\n",
       "      <td>NaN</td>\n",
       "      <td>NaN</td>\n",
       "      <td>2500</td>\n",
       "      <td>8686</td>\n",
       "      <td>1004</td>\n",
       "      <td>990</td>\n",
       "      <td>16830</td>\n",
       "      <td>3072</td>\n",
       "      <td>NaN</td>\n",
       "      <td>NaN</td>\n",
       "      <td>21</td>\n",
       "      <td>NaN</td>\n",
       "      <td>16990</td>\n",
       "      <td>NaN</td>\n",
       "    </tr>\n",
       "    <tr>\n",
       "      <th>top</th>\n",
       "      <td>4+</td>\n",
       "      <td>NaN</td>\n",
       "      <td>NaN</td>\n",
       "      <td>2019-01-08 00:00:00</td>\n",
       "      <td>Tapps Tecnologia da Informa\\xe7\\xe3o Ltda.</td>\n",
       "      <td>Games, Strategy, Puzzle</td>\n",
       "      <td>EN</td>\n",
       "      <td>Ultimate_Sudoku</td>\n",
       "      <td>2016-02-09 00:00:00</td>\n",
       "      <td>NaN</td>\n",
       "      <td>NaN</td>\n",
       "      <td>Games</td>\n",
       "      <td>NaN</td>\n",
       "      <td>1955568e-a155-4295-a41a-df116f4cd5d6</td>\n",
       "      <td>NaN</td>\n",
       "    </tr>\n",
       "    <tr>\n",
       "      <th>freq</th>\n",
       "      <td>11801</td>\n",
       "      <td>NaN</td>\n",
       "      <td>NaN</td>\n",
       "      <td>118</td>\n",
       "      <td>123</td>\n",
       "      <td>778</td>\n",
       "      <td>12515</td>\n",
       "      <td>2</td>\n",
       "      <td>75</td>\n",
       "      <td>NaN</td>\n",
       "      <td>NaN</td>\n",
       "      <td>16269</td>\n",
       "      <td>NaN</td>\n",
       "      <td>1</td>\n",
       "      <td>NaN</td>\n",
       "    </tr>\n",
       "    <tr>\n",
       "      <th>first</th>\n",
       "      <td>NaN</td>\n",
       "      <td>NaN</td>\n",
       "      <td>NaN</td>\n",
       "      <td>2008-01-08 00:00:00</td>\n",
       "      <td>NaN</td>\n",
       "      <td>NaN</td>\n",
       "      <td>NaN</td>\n",
       "      <td>NaN</td>\n",
       "      <td>2008-01-08 00:00:00</td>\n",
       "      <td>NaN</td>\n",
       "      <td>NaN</td>\n",
       "      <td>NaN</td>\n",
       "      <td>NaN</td>\n",
       "      <td>NaN</td>\n",
       "      <td>NaN</td>\n",
       "    </tr>\n",
       "    <tr>\n",
       "      <th>last</th>\n",
       "      <td>NaN</td>\n",
       "      <td>NaN</td>\n",
       "      <td>NaN</td>\n",
       "      <td>2019-12-07 00:00:00</td>\n",
       "      <td>NaN</td>\n",
       "      <td>NaN</td>\n",
       "      <td>NaN</td>\n",
       "      <td>NaN</td>\n",
       "      <td>2019-12-07 00:00:00</td>\n",
       "      <td>NaN</td>\n",
       "      <td>NaN</td>\n",
       "      <td>NaN</td>\n",
       "      <td>NaN</td>\n",
       "      <td>NaN</td>\n",
       "      <td>NaN</td>\n",
       "    </tr>\n",
       "    <tr>\n",
       "      <th>mean</th>\n",
       "      <td>NaN</td>\n",
       "      <td>6.361674</td>\n",
       "      <td>2016.821715</td>\n",
       "      <td>NaN</td>\n",
       "      <td>NaN</td>\n",
       "      <td>NaN</td>\n",
       "      <td>NaN</td>\n",
       "      <td>NaN</td>\n",
       "      <td>NaN</td>\n",
       "      <td>6.489402</td>\n",
       "      <td>2015.679934</td>\n",
       "      <td>NaN</td>\n",
       "      <td>1.154079e+08</td>\n",
       "      <td>NaN</td>\n",
       "      <td>0.841300</td>\n",
       "    </tr>\n",
       "    <tr>\n",
       "      <th>std</th>\n",
       "      <td>NaN</td>\n",
       "      <td>3.369184</td>\n",
       "      <td>1.856434</td>\n",
       "      <td>NaN</td>\n",
       "      <td>NaN</td>\n",
       "      <td>NaN</td>\n",
       "      <td>NaN</td>\n",
       "      <td>NaN</td>\n",
       "      <td>NaN</td>\n",
       "      <td>3.429308</td>\n",
       "      <td>2.301252</td>\n",
       "      <td>NaN</td>\n",
       "      <td>2.027801e+08</td>\n",
       "      <td>NaN</td>\n",
       "      <td>8.249099</td>\n",
       "    </tr>\n",
       "    <tr>\n",
       "      <th>min</th>\n",
       "      <td>NaN</td>\n",
       "      <td>1.000000</td>\n",
       "      <td>2008.000000</td>\n",
       "      <td>NaN</td>\n",
       "      <td>NaN</td>\n",
       "      <td>NaN</td>\n",
       "      <td>NaN</td>\n",
       "      <td>NaN</td>\n",
       "      <td>NaN</td>\n",
       "      <td>1.000000</td>\n",
       "      <td>2008.000000</td>\n",
       "      <td>NaN</td>\n",
       "      <td>5.132800e+04</td>\n",
       "      <td>NaN</td>\n",
       "      <td>0.000000</td>\n",
       "    </tr>\n",
       "    <tr>\n",
       "      <th>25%</th>\n",
       "      <td>NaN</td>\n",
       "      <td>3.000000</td>\n",
       "      <td>2016.000000</td>\n",
       "      <td>NaN</td>\n",
       "      <td>NaN</td>\n",
       "      <td>NaN</td>\n",
       "      <td>NaN</td>\n",
       "      <td>NaN</td>\n",
       "      <td>NaN</td>\n",
       "      <td>4.000000</td>\n",
       "      <td>2014.000000</td>\n",
       "      <td>NaN</td>\n",
       "      <td>2.294349e+07</td>\n",
       "      <td>NaN</td>\n",
       "      <td>0.000000</td>\n",
       "    </tr>\n",
       "    <tr>\n",
       "      <th>50%</th>\n",
       "      <td>NaN</td>\n",
       "      <td>6.000000</td>\n",
       "      <td>2017.000000</td>\n",
       "      <td>NaN</td>\n",
       "      <td>NaN</td>\n",
       "      <td>NaN</td>\n",
       "      <td>NaN</td>\n",
       "      <td>NaN</td>\n",
       "      <td>NaN</td>\n",
       "      <td>6.000000</td>\n",
       "      <td>2016.000000</td>\n",
       "      <td>NaN</td>\n",
       "      <td>5.673472e+07</td>\n",
       "      <td>NaN</td>\n",
       "      <td>0.000000</td>\n",
       "    </tr>\n",
       "    <tr>\n",
       "      <th>75%</th>\n",
       "      <td>NaN</td>\n",
       "      <td>9.000000</td>\n",
       "      <td>2018.000000</td>\n",
       "      <td>NaN</td>\n",
       "      <td>NaN</td>\n",
       "      <td>NaN</td>\n",
       "      <td>NaN</td>\n",
       "      <td>NaN</td>\n",
       "      <td>NaN</td>\n",
       "      <td>9.000000</td>\n",
       "      <td>2017.000000</td>\n",
       "      <td>NaN</td>\n",
       "      <td>1.327713e+08</td>\n",
       "      <td>NaN</td>\n",
       "      <td>0.000000</td>\n",
       "    </tr>\n",
       "    <tr>\n",
       "      <th>max</th>\n",
       "      <td>NaN</td>\n",
       "      <td>12.000000</td>\n",
       "      <td>2019.000000</td>\n",
       "      <td>NaN</td>\n",
       "      <td>NaN</td>\n",
       "      <td>NaN</td>\n",
       "      <td>NaN</td>\n",
       "      <td>NaN</td>\n",
       "      <td>NaN</td>\n",
       "      <td>12.000000</td>\n",
       "      <td>2019.000000</td>\n",
       "      <td>NaN</td>\n",
       "      <td>4.005591e+09</td>\n",
       "      <td>NaN</td>\n",
       "      <td>179.990000</td>\n",
       "    </tr>\n",
       "  </tbody>\n",
       "</table>\n",
       "</div>"
      ],
      "text/plain": [
       "       Age Rating  Curelease_month  Curelease_year  \\\n",
       "count       16990     12738.000000    12738.000000   \n",
       "unique          4              NaN             NaN   \n",
       "top            4+              NaN             NaN   \n",
       "freq        11801              NaN             NaN   \n",
       "first         NaN              NaN             NaN   \n",
       "last          NaN              NaN             NaN   \n",
       "mean          NaN         6.361674     2016.821715   \n",
       "std           NaN         3.369184        1.856434   \n",
       "min           NaN         1.000000     2008.000000   \n",
       "25%           NaN         3.000000     2016.000000   \n",
       "50%           NaN         6.000000     2017.000000   \n",
       "75%           NaN         9.000000     2018.000000   \n",
       "max           NaN        12.000000     2019.000000   \n",
       "\n",
       "       Current Version Release Date  \\\n",
       "count                         16990   \n",
       "unique                         2500   \n",
       "top             2019-01-08 00:00:00   \n",
       "freq                            118   \n",
       "first           2008-01-08 00:00:00   \n",
       "last            2019-12-07 00:00:00   \n",
       "mean                            NaN   \n",
       "std                             NaN   \n",
       "min                             NaN   \n",
       "25%                             NaN   \n",
       "50%                             NaN   \n",
       "75%                             NaN   \n",
       "max                             NaN   \n",
       "\n",
       "                                         Developer                   Genres  \\\n",
       "count                                        16990                    16990   \n",
       "unique                                        8686                     1004   \n",
       "top     Tapps Tecnologia da Informa\\xe7\\xe3o Ltda.  Games, Strategy, Puzzle   \n",
       "freq                                           123                      778   \n",
       "first                                          NaN                      NaN   \n",
       "last                                           NaN                      NaN   \n",
       "mean                                           NaN                      NaN   \n",
       "std                                            NaN                      NaN   \n",
       "min                                            NaN                      NaN   \n",
       "25%                                            NaN                      NaN   \n",
       "50%                                            NaN                      NaN   \n",
       "75%                                            NaN                      NaN   \n",
       "max                                            NaN                      NaN   \n",
       "\n",
       "       Languages             Name Original Release Date  Orrelease_month  \\\n",
       "count      16990            16990                 16990     12738.000000   \n",
       "unique       990            16830                  3072              NaN   \n",
       "top           EN  Ultimate_Sudoku   2016-02-09 00:00:00              NaN   \n",
       "freq       12515                2                    75              NaN   \n",
       "first        NaN              NaN   2008-01-08 00:00:00              NaN   \n",
       "last         NaN              NaN   2019-12-07 00:00:00              NaN   \n",
       "mean         NaN              NaN                   NaN         6.489402   \n",
       "std          NaN              NaN                   NaN         3.429308   \n",
       "min          NaN              NaN                   NaN         1.000000   \n",
       "25%          NaN              NaN                   NaN         4.000000   \n",
       "50%          NaN              NaN                   NaN         6.000000   \n",
       "75%          NaN              NaN                   NaN         9.000000   \n",
       "max          NaN              NaN                   NaN        12.000000   \n",
       "\n",
       "        Orrelease_year Primary Genre          Size  \\\n",
       "count     12738.000000         16990  1.699000e+04   \n",
       "unique             NaN            21           NaN   \n",
       "top                NaN         Games           NaN   \n",
       "freq               NaN         16269           NaN   \n",
       "first              NaN           NaN           NaN   \n",
       "last               NaN           NaN           NaN   \n",
       "mean       2015.679934           NaN  1.154079e+08   \n",
       "std           2.301252           NaN  2.027801e+08   \n",
       "min        2008.000000           NaN  5.132800e+04   \n",
       "25%        2014.000000           NaN  2.294349e+07   \n",
       "50%        2016.000000           NaN  5.673472e+07   \n",
       "75%        2017.000000           NaN  1.327713e+08   \n",
       "max        2019.000000           NaN  4.005591e+09   \n",
       "\n",
       "                                     game_id  gamestore_price  \n",
       "count                                  16990     12738.000000  \n",
       "unique                                 16990              NaN  \n",
       "top     1955568e-a155-4295-a41a-df116f4cd5d6              NaN  \n",
       "freq                                       1              NaN  \n",
       "first                                    NaN              NaN  \n",
       "last                                     NaN              NaN  \n",
       "mean                                     NaN         0.841300  \n",
       "std                                      NaN         8.249099  \n",
       "min                                      NaN         0.000000  \n",
       "25%                                      NaN         0.000000  \n",
       "50%                                      NaN         0.000000  \n",
       "75%                                      NaN         0.000000  \n",
       "max                                      NaN       179.990000  "
      ]
     },
     "execution_count": 149,
     "metadata": {},
     "output_type": "execute_result"
    }
   ],
   "source": [
    "train_test.describe(include='all')"
   ]
  },
  {
   "cell_type": "code",
   "execution_count": 150,
   "metadata": {},
   "outputs": [],
   "source": [
    "train_test.drop(columns=['Curelease_month','Curelease_year','Orrelease_month','Orrelease_year'],inplace=True)"
   ]
  },
  {
   "cell_type": "code",
   "execution_count": 151,
   "metadata": {},
   "outputs": [],
   "source": [
    "train_test['Age Rating'] = train_test['Age Rating'].astype('category')"
   ]
  },
  {
   "cell_type": "code",
   "execution_count": 156,
   "metadata": {},
   "outputs": [],
   "source": [
    "train_test['Is_updt'] = 0\n",
    "\n",
    "for i in range(0, train_test.shape[0]):\n",
    "    if train_test.iloc[i,1] > train_test.iloc[i,6] :\n",
    "        train_test.iloc[i,11] = 1"
   ]
  },
  {
   "cell_type": "code",
   "execution_count": 157,
   "metadata": {},
   "outputs": [],
   "source": [
    "ps_day =pd.datetime(2020,1,1)\n",
    "\n",
    "train_test['Cuver_age'] = ps_day - train_test['Current Version Release Date']"
   ]
  },
  {
   "cell_type": "code",
   "execution_count": 158,
   "metadata": {},
   "outputs": [],
   "source": [
    "train_test['Orver_age'] = ps_day - train_test['Original Release Date']"
   ]
  },
  {
   "cell_type": "code",
   "execution_count": 159,
   "metadata": {},
   "outputs": [],
   "source": [
    "train_test.drop(columns=['Current Version Release Date','Original Release Date'], inplace=True)"
   ]
  },
  {
   "cell_type": "code",
   "execution_count": 160,
   "metadata": {},
   "outputs": [],
   "source": [
    "train_test['Developer'] = train_test['Developer'].astype('category') "
   ]
  },
  {
   "cell_type": "code",
   "execution_count": 161,
   "metadata": {},
   "outputs": [],
   "source": [
    "train_test['Genres'] = train_test['Genres'].apply(lambda x: list(dict.fromkeys(x.split(\", \"))))"
   ]
  },
  {
   "cell_type": "code",
   "execution_count": 162,
   "metadata": {},
   "outputs": [],
   "source": [
    "gns=[]\n",
    "for i in range(0,train_test.shape[0]):\n",
    "    x = train_test.iloc[i,2]\n",
    "    for j in range(0,len(x)):\n",
    "        if x[j] not in gns:\n",
    "            gns.append(x[j])  "
   ]
  },
  {
   "cell_type": "code",
   "execution_count": 163,
   "metadata": {},
   "outputs": [],
   "source": [
    "for i in range(0,len(gns)):\n",
    "    train_test[gns[i]]=0"
   ]
  },
  {
   "cell_type": "code",
   "execution_count": 164,
   "metadata": {},
   "outputs": [],
   "source": [
    "for i in range(0,train_test.shape[0]):\n",
    "    x = train_test.iloc[i,2]\n",
    "    for j in range(0,len(x)):\n",
    "        y = x[j]\n",
    "        for k in range(0,len(gns)):\n",
    "            if y == gns[k]:\n",
    "                train_test[gns[k]][i] =1    "
   ]
  },
  {
   "cell_type": "code",
   "execution_count": 165,
   "metadata": {},
   "outputs": [],
   "source": [
    "for i in range(0,train_test.shape[0]):\n",
    "    x = train_test.iloc[i,5]\n",
    "    for j in range(0,len(gns)):\n",
    "        if x == gns[j]:\n",
    "            train_test[gns[j]][i] =2"
   ]
  },
  {
   "cell_type": "code",
   "execution_count": 182,
   "metadata": {},
   "outputs": [],
   "source": [
    "x= list(train_test.columns)"
   ]
  },
  {
   "cell_type": "code",
   "execution_count": 185,
   "metadata": {},
   "outputs": [
    {
     "name": "stdout",
     "output_type": "stream",
     "text": [
      "['EN']\n",
      "Is_updt has ones\n",
      "Games has ones\n",
      "Strategy has ones\n",
      "Casual has ones\n",
      "EN has ones\n"
     ]
    }
   ],
   "source": [
    "\n",
    "print(train_test.iloc[99,3])\n",
    "#print(train_test.iloc[150,5])\n",
    "\n",
    "for i in range(0,len(x)):\n",
    "    if train_test.iloc[99,i]==1:\n",
    "        print(x[i],'has ones')"
   ]
  },
  {
   "cell_type": "code",
   "execution_count": 171,
   "metadata": {},
   "outputs": [],
   "source": [
    "train_test['Languages'] = train_test['Languages'].apply(lambda x: list(dict.fromkeys(x.split(\", \"))))"
   ]
  },
  {
   "cell_type": "code",
   "execution_count": 175,
   "metadata": {},
   "outputs": [
    {
     "data": {
      "text/html": [
       "<div>\n",
       "<style scoped>\n",
       "    .dataframe tbody tr th:only-of-type {\n",
       "        vertical-align: middle;\n",
       "    }\n",
       "\n",
       "    .dataframe tbody tr th {\n",
       "        vertical-align: top;\n",
       "    }\n",
       "\n",
       "    .dataframe thead th {\n",
       "        text-align: right;\n",
       "    }\n",
       "</style>\n",
       "<table border=\"1\" class=\"dataframe\">\n",
       "  <thead>\n",
       "    <tr style=\"text-align: right;\">\n",
       "      <th></th>\n",
       "      <th>Age Rating</th>\n",
       "      <th>Developer</th>\n",
       "      <th>Genres</th>\n",
       "      <th>Languages</th>\n",
       "      <th>Name</th>\n",
       "      <th>Primary Genre</th>\n",
       "      <th>Size</th>\n",
       "      <th>game_id</th>\n",
       "      <th>gamestore_price</th>\n",
       "      <th>Is_updt</th>\n",
       "      <th>...</th>\n",
       "      <th>Gaming</th>\n",
       "      <th>Health &amp; Fitness</th>\n",
       "      <th>Navigation</th>\n",
       "      <th>Kids &amp; Family</th>\n",
       "      <th>Weather</th>\n",
       "      <th>People</th>\n",
       "      <th>Comics &amp; Cartoons</th>\n",
       "      <th>Places &amp; Objects</th>\n",
       "      <th>Art</th>\n",
       "      <th>Magazines &amp; Newspapers</th>\n",
       "    </tr>\n",
       "  </thead>\n",
       "  <tbody>\n",
       "    <tr>\n",
       "      <th>0</th>\n",
       "      <td>12+</td>\n",
       "      <td>Opposite Lock Entertainment</td>\n",
       "      <td>[Games, Simulation, Finance, Strategy]</td>\n",
       "      <td>[EN]</td>\n",
       "      <td>Lottery Life - Monopoly Wars</td>\n",
       "      <td>Games</td>\n",
       "      <td>388948992.0</td>\n",
       "      <td>4173eb39-046d-431e-a504-b5418301a382</td>\n",
       "      <td>0.0</td>\n",
       "      <td>1</td>\n",
       "      <td>...</td>\n",
       "      <td>0</td>\n",
       "      <td>0</td>\n",
       "      <td>0</td>\n",
       "      <td>0</td>\n",
       "      <td>0</td>\n",
       "      <td>0</td>\n",
       "      <td>0</td>\n",
       "      <td>0</td>\n",
       "      <td>0</td>\n",
       "      <td>0</td>\n",
       "    </tr>\n",
       "    <tr>\n",
       "      <th>1</th>\n",
       "      <td>4+</td>\n",
       "      <td>Angrisa Leungtanapolkul</td>\n",
       "      <td>[Games, Entertainment, Strategy, Puzzle]</td>\n",
       "      <td>[EN]</td>\n",
       "      <td>Cute Little Unicorn Match3</td>\n",
       "      <td>Games</td>\n",
       "      <td>18596864.0</td>\n",
       "      <td>c8cb6281-34fc-4e54-b6f9-1a30657fb370</td>\n",
       "      <td>0.0</td>\n",
       "      <td>0</td>\n",
       "      <td>...</td>\n",
       "      <td>0</td>\n",
       "      <td>0</td>\n",
       "      <td>0</td>\n",
       "      <td>0</td>\n",
       "      <td>0</td>\n",
       "      <td>0</td>\n",
       "      <td>0</td>\n",
       "      <td>0</td>\n",
       "      <td>0</td>\n",
       "      <td>0</td>\n",
       "    </tr>\n",
       "    <tr>\n",
       "      <th>2</th>\n",
       "      <td>9+</td>\n",
       "      <td>Bit By Bit Games Ltd</td>\n",
       "      <td>[Games, Casual, Strategy]</td>\n",
       "      <td>[EN]</td>\n",
       "      <td>\"It's Tanks!\"</td>\n",
       "      <td>Games</td>\n",
       "      <td>55459840.0</td>\n",
       "      <td>6a30fa24-b1c7-44b0-96e8-34b9c6c7232b</td>\n",
       "      <td>0.0</td>\n",
       "      <td>1</td>\n",
       "      <td>...</td>\n",
       "      <td>0</td>\n",
       "      <td>0</td>\n",
       "      <td>0</td>\n",
       "      <td>0</td>\n",
       "      <td>0</td>\n",
       "      <td>0</td>\n",
       "      <td>0</td>\n",
       "      <td>0</td>\n",
       "      <td>0</td>\n",
       "      <td>0</td>\n",
       "    </tr>\n",
       "    <tr>\n",
       "      <th>3</th>\n",
       "      <td>4+</td>\n",
       "      <td>Sympo Games PTY LTD</td>\n",
       "      <td>[Games, Strategy, Productivity, Family]</td>\n",
       "      <td>[EN]</td>\n",
       "      <td>Dunes</td>\n",
       "      <td>Games</td>\n",
       "      <td>187921408.0</td>\n",
       "      <td>4df50e72-3f5c-470a-8834-b56b5610e17a</td>\n",
       "      <td>0.0</td>\n",
       "      <td>0</td>\n",
       "      <td>...</td>\n",
       "      <td>0</td>\n",
       "      <td>0</td>\n",
       "      <td>0</td>\n",
       "      <td>0</td>\n",
       "      <td>0</td>\n",
       "      <td>0</td>\n",
       "      <td>0</td>\n",
       "      <td>0</td>\n",
       "      <td>0</td>\n",
       "      <td>0</td>\n",
       "    </tr>\n",
       "    <tr>\n",
       "      <th>4</th>\n",
       "      <td>4+</td>\n",
       "      <td>MmpApps Corp.</td>\n",
       "      <td>[Games, Card, Entertainment, Strategy]</td>\n",
       "      <td>[EN]</td>\n",
       "      <td>Cribbage Square Collection</td>\n",
       "      <td>Games</td>\n",
       "      <td>32905216.0</td>\n",
       "      <td>d5832610-8ec2-44f5-989d-0f5fd9e67ef5</td>\n",
       "      <td>0.0</td>\n",
       "      <td>1</td>\n",
       "      <td>...</td>\n",
       "      <td>0</td>\n",
       "      <td>0</td>\n",
       "      <td>0</td>\n",
       "      <td>0</td>\n",
       "      <td>0</td>\n",
       "      <td>0</td>\n",
       "      <td>0</td>\n",
       "      <td>0</td>\n",
       "      <td>0</td>\n",
       "      <td>0</td>\n",
       "    </tr>\n",
       "  </tbody>\n",
       "</table>\n",
       "<p>5 rows × 59 columns</p>\n",
       "</div>"
      ],
      "text/plain": [
       "  Age Rating                    Developer  \\\n",
       "0        12+  Opposite Lock Entertainment   \n",
       "1         4+      Angrisa Leungtanapolkul   \n",
       "2         9+         Bit By Bit Games Ltd   \n",
       "3         4+          Sympo Games PTY LTD   \n",
       "4         4+                MmpApps Corp.   \n",
       "\n",
       "                                     Genres Languages  \\\n",
       "0    [Games, Simulation, Finance, Strategy]      [EN]   \n",
       "1  [Games, Entertainment, Strategy, Puzzle]      [EN]   \n",
       "2                 [Games, Casual, Strategy]      [EN]   \n",
       "3   [Games, Strategy, Productivity, Family]      [EN]   \n",
       "4    [Games, Card, Entertainment, Strategy]      [EN]   \n",
       "\n",
       "                           Name Primary Genre         Size  \\\n",
       "0  Lottery Life - Monopoly Wars         Games  388948992.0   \n",
       "1    Cute Little Unicorn Match3         Games   18596864.0   \n",
       "2                 \"It's Tanks!\"         Games   55459840.0   \n",
       "3                         Dunes         Games  187921408.0   \n",
       "4    Cribbage Square Collection         Games   32905216.0   \n",
       "\n",
       "                                game_id  gamestore_price  Is_updt  ... Gaming  \\\n",
       "0  4173eb39-046d-431e-a504-b5418301a382              0.0        1  ...      0   \n",
       "1  c8cb6281-34fc-4e54-b6f9-1a30657fb370              0.0        0  ...      0   \n",
       "2  6a30fa24-b1c7-44b0-96e8-34b9c6c7232b              0.0        1  ...      0   \n",
       "3  4df50e72-3f5c-470a-8834-b56b5610e17a              0.0        0  ...      0   \n",
       "4  d5832610-8ec2-44f5-989d-0f5fd9e67ef5              0.0        1  ...      0   \n",
       "\n",
       "  Health & Fitness  Navigation  Kids & Family  Weather  People  \\\n",
       "0                0           0              0        0       0   \n",
       "1                0           0              0        0       0   \n",
       "2                0           0              0        0       0   \n",
       "3                0           0              0        0       0   \n",
       "4                0           0              0        0       0   \n",
       "\n",
       "   Comics & Cartoons  Places & Objects  Art  Magazines & Newspapers  \n",
       "0                  0                 0    0                       0  \n",
       "1                  0                 0    0                       0  \n",
       "2                  0                 0    0                       0  \n",
       "3                  0                 0    0                       0  \n",
       "4                  0                 0    0                       0  \n",
       "\n",
       "[5 rows x 59 columns]"
      ]
     },
     "execution_count": 175,
     "metadata": {},
     "output_type": "execute_result"
    }
   ],
   "source": [
    "train_test.head()"
   ]
  },
  {
   "cell_type": "code",
   "execution_count": 176,
   "metadata": {},
   "outputs": [],
   "source": [
    "lns=[]\n",
    "for i in range(0,train_test.shape[0]):\n",
    "    x = train_test.iloc[i,3]\n",
    "    for j in range(0,len(x)):\n",
    "        if x[j] not in lns:\n",
    "            lns.append(x[j])       "
   ]
  },
  {
   "cell_type": "code",
   "execution_count": 179,
   "metadata": {},
   "outputs": [],
   "source": [
    "for i in range(0,len(lns)):\n",
    "    train_test[lns[i]]=0"
   ]
  },
  {
   "cell_type": "code",
   "execution_count": 180,
   "metadata": {},
   "outputs": [],
   "source": [
    "for i in range(0,train_test.shape[0]):\n",
    "    x = train_test.iloc[i,3]\n",
    "    for j in range(0,len(x)):\n",
    "        y = x[j]\n",
    "        for k in range(0,len(lns)):\n",
    "            if y == lns[k]:\n",
    "                train_test[lns[k]][i] =1   "
   ]
  },
  {
   "cell_type": "code",
   "execution_count": 181,
   "metadata": {},
   "outputs": [
    {
     "data": {
      "text/html": [
       "<div>\n",
       "<style scoped>\n",
       "    .dataframe tbody tr th:only-of-type {\n",
       "        vertical-align: middle;\n",
       "    }\n",
       "\n",
       "    .dataframe tbody tr th {\n",
       "        vertical-align: top;\n",
       "    }\n",
       "\n",
       "    .dataframe thead th {\n",
       "        text-align: right;\n",
       "    }\n",
       "</style>\n",
       "<table border=\"1\" class=\"dataframe\">\n",
       "  <thead>\n",
       "    <tr style=\"text-align: right;\">\n",
       "      <th></th>\n",
       "      <th>Age Rating</th>\n",
       "      <th>Developer</th>\n",
       "      <th>Genres</th>\n",
       "      <th>Languages</th>\n",
       "      <th>Name</th>\n",
       "      <th>Primary Genre</th>\n",
       "      <th>Size</th>\n",
       "      <th>game_id</th>\n",
       "      <th>gamestore_price</th>\n",
       "      <th>Is_updt</th>\n",
       "      <th>...</th>\n",
       "      <th>TT</th>\n",
       "      <th>BO</th>\n",
       "      <th>TI</th>\n",
       "      <th>TO</th>\n",
       "      <th>TK</th>\n",
       "      <th>UG</th>\n",
       "      <th>YI</th>\n",
       "      <th>ZU</th>\n",
       "      <th>MI</th>\n",
       "      <th>XH</th>\n",
       "    </tr>\n",
       "  </thead>\n",
       "  <tbody>\n",
       "    <tr>\n",
       "      <th>0</th>\n",
       "      <td>12+</td>\n",
       "      <td>Opposite Lock Entertainment</td>\n",
       "      <td>[Games, Simulation, Finance, Strategy]</td>\n",
       "      <td>[EN]</td>\n",
       "      <td>Lottery Life - Monopoly Wars</td>\n",
       "      <td>Games</td>\n",
       "      <td>388948992.0</td>\n",
       "      <td>4173eb39-046d-431e-a504-b5418301a382</td>\n",
       "      <td>0.0</td>\n",
       "      <td>1</td>\n",
       "      <td>...</td>\n",
       "      <td>0</td>\n",
       "      <td>0</td>\n",
       "      <td>0</td>\n",
       "      <td>0</td>\n",
       "      <td>0</td>\n",
       "      <td>0</td>\n",
       "      <td>0</td>\n",
       "      <td>0</td>\n",
       "      <td>0</td>\n",
       "      <td>0</td>\n",
       "    </tr>\n",
       "    <tr>\n",
       "      <th>1</th>\n",
       "      <td>4+</td>\n",
       "      <td>Angrisa Leungtanapolkul</td>\n",
       "      <td>[Games, Entertainment, Strategy, Puzzle]</td>\n",
       "      <td>[EN]</td>\n",
       "      <td>Cute Little Unicorn Match3</td>\n",
       "      <td>Games</td>\n",
       "      <td>18596864.0</td>\n",
       "      <td>c8cb6281-34fc-4e54-b6f9-1a30657fb370</td>\n",
       "      <td>0.0</td>\n",
       "      <td>0</td>\n",
       "      <td>...</td>\n",
       "      <td>0</td>\n",
       "      <td>0</td>\n",
       "      <td>0</td>\n",
       "      <td>0</td>\n",
       "      <td>0</td>\n",
       "      <td>0</td>\n",
       "      <td>0</td>\n",
       "      <td>0</td>\n",
       "      <td>0</td>\n",
       "      <td>0</td>\n",
       "    </tr>\n",
       "    <tr>\n",
       "      <th>2</th>\n",
       "      <td>9+</td>\n",
       "      <td>Bit By Bit Games Ltd</td>\n",
       "      <td>[Games, Casual, Strategy]</td>\n",
       "      <td>[EN]</td>\n",
       "      <td>\"It's Tanks!\"</td>\n",
       "      <td>Games</td>\n",
       "      <td>55459840.0</td>\n",
       "      <td>6a30fa24-b1c7-44b0-96e8-34b9c6c7232b</td>\n",
       "      <td>0.0</td>\n",
       "      <td>1</td>\n",
       "      <td>...</td>\n",
       "      <td>0</td>\n",
       "      <td>0</td>\n",
       "      <td>0</td>\n",
       "      <td>0</td>\n",
       "      <td>0</td>\n",
       "      <td>0</td>\n",
       "      <td>0</td>\n",
       "      <td>0</td>\n",
       "      <td>0</td>\n",
       "      <td>0</td>\n",
       "    </tr>\n",
       "    <tr>\n",
       "      <th>3</th>\n",
       "      <td>4+</td>\n",
       "      <td>Sympo Games PTY LTD</td>\n",
       "      <td>[Games, Strategy, Productivity, Family]</td>\n",
       "      <td>[EN]</td>\n",
       "      <td>Dunes</td>\n",
       "      <td>Games</td>\n",
       "      <td>187921408.0</td>\n",
       "      <td>4df50e72-3f5c-470a-8834-b56b5610e17a</td>\n",
       "      <td>0.0</td>\n",
       "      <td>0</td>\n",
       "      <td>...</td>\n",
       "      <td>0</td>\n",
       "      <td>0</td>\n",
       "      <td>0</td>\n",
       "      <td>0</td>\n",
       "      <td>0</td>\n",
       "      <td>0</td>\n",
       "      <td>0</td>\n",
       "      <td>0</td>\n",
       "      <td>0</td>\n",
       "      <td>0</td>\n",
       "    </tr>\n",
       "    <tr>\n",
       "      <th>4</th>\n",
       "      <td>4+</td>\n",
       "      <td>MmpApps Corp.</td>\n",
       "      <td>[Games, Card, Entertainment, Strategy]</td>\n",
       "      <td>[EN]</td>\n",
       "      <td>Cribbage Square Collection</td>\n",
       "      <td>Games</td>\n",
       "      <td>32905216.0</td>\n",
       "      <td>d5832610-8ec2-44f5-989d-0f5fd9e67ef5</td>\n",
       "      <td>0.0</td>\n",
       "      <td>1</td>\n",
       "      <td>...</td>\n",
       "      <td>0</td>\n",
       "      <td>0</td>\n",
       "      <td>0</td>\n",
       "      <td>0</td>\n",
       "      <td>0</td>\n",
       "      <td>0</td>\n",
       "      <td>0</td>\n",
       "      <td>0</td>\n",
       "      <td>0</td>\n",
       "      <td>0</td>\n",
       "    </tr>\n",
       "  </tbody>\n",
       "</table>\n",
       "<p>5 rows × 174 columns</p>\n",
       "</div>"
      ],
      "text/plain": [
       "  Age Rating                    Developer  \\\n",
       "0        12+  Opposite Lock Entertainment   \n",
       "1         4+      Angrisa Leungtanapolkul   \n",
       "2         9+         Bit By Bit Games Ltd   \n",
       "3         4+          Sympo Games PTY LTD   \n",
       "4         4+                MmpApps Corp.   \n",
       "\n",
       "                                     Genres Languages  \\\n",
       "0    [Games, Simulation, Finance, Strategy]      [EN]   \n",
       "1  [Games, Entertainment, Strategy, Puzzle]      [EN]   \n",
       "2                 [Games, Casual, Strategy]      [EN]   \n",
       "3   [Games, Strategy, Productivity, Family]      [EN]   \n",
       "4    [Games, Card, Entertainment, Strategy]      [EN]   \n",
       "\n",
       "                           Name Primary Genre         Size  \\\n",
       "0  Lottery Life - Monopoly Wars         Games  388948992.0   \n",
       "1    Cute Little Unicorn Match3         Games   18596864.0   \n",
       "2                 \"It's Tanks!\"         Games   55459840.0   \n",
       "3                         Dunes         Games  187921408.0   \n",
       "4    Cribbage Square Collection         Games   32905216.0   \n",
       "\n",
       "                                game_id  gamestore_price  Is_updt  ... TT BO  \\\n",
       "0  4173eb39-046d-431e-a504-b5418301a382              0.0        1  ...  0  0   \n",
       "1  c8cb6281-34fc-4e54-b6f9-1a30657fb370              0.0        0  ...  0  0   \n",
       "2  6a30fa24-b1c7-44b0-96e8-34b9c6c7232b              0.0        1  ...  0  0   \n",
       "3  4df50e72-3f5c-470a-8834-b56b5610e17a              0.0        0  ...  0  0   \n",
       "4  d5832610-8ec2-44f5-989d-0f5fd9e67ef5              0.0        1  ...  0  0   \n",
       "\n",
       "   TI  TO  TK  UG  YI  ZU  MI  XH  \n",
       "0   0   0   0   0   0   0   0   0  \n",
       "1   0   0   0   0   0   0   0   0  \n",
       "2   0   0   0   0   0   0   0   0  \n",
       "3   0   0   0   0   0   0   0   0  \n",
       "4   0   0   0   0   0   0   0   0  \n",
       "\n",
       "[5 rows x 174 columns]"
      ]
     },
     "execution_count": 181,
     "metadata": {},
     "output_type": "execute_result"
    }
   ],
   "source": [
    "train_test.head()"
   ]
  },
  {
   "cell_type": "code",
   "execution_count": 97,
   "metadata": {},
   "outputs": [
    {
     "data": {
      "text/plain": [
       "'lan_ER'"
      ]
     },
     "execution_count": 97,
     "metadata": {},
     "output_type": "execute_result"
    }
   ],
   "source": [
    "from sklearn.feature_extraction.text import TfidfVectorizer\n",
    "\n",
    "vectorizer = TfidfVectorizer(stop_words={'english'}, min_df=0.1, max_df=0.9)\n",
    "\n",
    "t = vectorizer.fit_transform(train_test['Name'])"
   ]
  },
  {
   "cell_type": "code",
   "execution_count": 186,
   "metadata": {},
   "outputs": [],
   "source": [
    "train_test.drop(columns=['Genres','Languages','Name','Primary Genre'], inplace=True)"
   ]
  },
  {
   "cell_type": "code",
   "execution_count": 211,
   "metadata": {},
   "outputs": [],
   "source": [
    "rating_dict = {'4+':4,'9+':9,'12+':12,'17+':17}\n",
    "\n",
    "train_test['Age Rating'] = train_test['Age Rating'].map(rating_dict)\n",
    "train_test['Age Rating'] = train_test['Age Rating'].astype('category')"
   ]
  },
  {
   "cell_type": "code",
   "execution_count": 213,
   "metadata": {},
   "outputs": [],
   "source": [
    "import category_encoders as ce\n",
    "\n",
    "encoder = ce.BinaryEncoder(cols=['Developer'])\n",
    "devdf = encoder.fit_transform(train_test['Developer'])\n",
    "\n",
    "train_test = pd.concat([train_test, devdf], axis=1)"
   ]
  },
  {
   "cell_type": "code",
   "execution_count": 216,
   "metadata": {},
   "outputs": [],
   "source": [
    "train_test.drop(columns=['Developer'],inplace=True)"
   ]
  },
  {
   "cell_type": "code",
   "execution_count": 233,
   "metadata": {},
   "outputs": [],
   "source": [
    "train_test['Orver_age'] =train_test['Orver_age'].apply(lambda x: str(x).split(\" \")[0])\n",
    "train_test['Cuver_age'] =train_test['Cuver_age'].apply(lambda x: str(x).split(\" \")[0])"
   ]
  },
  {
   "cell_type": "code",
   "execution_count": 235,
   "metadata": {},
   "outputs": [],
   "source": [
    "train_test['Orver_age'] = train_test['Orver_age'].astype('int64')\n",
    "train_test['Cuver_age'] = train_test['Cuver_age'].astype('int64')"
   ]
  },
  {
   "cell_type": "code",
   "execution_count": 236,
   "metadata": {},
   "outputs": [],
   "source": [
    "train = train_test.loc[0:12737]\n",
    "test = train_test.loc[12739:]"
   ]
  },
  {
   "cell_type": "code",
   "execution_count": 237,
   "metadata": {},
   "outputs": [],
   "source": [
    "from sklearn.model_selection import train_test_split\n",
    "\n",
    "X =train.drop(columns=['gamestore_price','game_id']) \n",
    "y =train['gamestore_price']\n",
    "\n",
    "X_train, X_test, Y_train, Y_test = train_test_split(X, y, test_size=.30, random_state=1)"
   ]
  },
  {
   "cell_type": "code",
   "execution_count": 238,
   "metadata": {},
   "outputs": [
    {
     "data": {
      "text/plain": [
       "DecisionTreeRegressor(criterion='mae', max_depth=None, max_features=None,\n",
       "                      max_leaf_nodes=None, min_impurity_decrease=0.0,\n",
       "                      min_impurity_split=None, min_samples_leaf=1,\n",
       "                      min_samples_split=2, min_weight_fraction_leaf=0.0,\n",
       "                      presort=False, random_state=None, splitter='best')"
      ]
     },
     "execution_count": 238,
     "metadata": {},
     "output_type": "execute_result"
    }
   ],
   "source": [
    "from sklearn.tree import DecisionTreeRegressor\n",
    "\n",
    "regr = DecisionTreeRegressor(criterion='mae')\n",
    "regr.fit(X_train,Y_train)"
   ]
  },
  {
   "cell_type": "code",
   "execution_count": 239,
   "metadata": {},
   "outputs": [],
   "source": [
    "y_pred = regr.predict(X_test)"
   ]
  },
  {
   "cell_type": "code",
   "execution_count": 245,
   "metadata": {},
   "outputs": [
    {
     "data": {
      "text/plain": [
       "array([9.99, 0.99, 0.99, 0.99, 0.99, 1.99, 9.99, 0.99, 0.99, 0.99, 0.99,\n",
       "       9.99])"
      ]
     },
     "execution_count": 245,
     "metadata": {},
     "output_type": "execute_result"
    }
   ],
   "source": [
    "y_pred[y_pred>0]"
   ]
  },
  {
   "cell_type": "code",
   "execution_count": 249,
   "metadata": {},
   "outputs": [
    {
     "data": {
      "text/plain": [
       "0.9500026164311878"
      ]
     },
     "execution_count": 249,
     "metadata": {},
     "output_type": "execute_result"
    }
   ],
   "source": [
    "from sklearn.metrics import mean_absolute_error\n",
    "\n",
    "mean_absolute_error(Y_test,y_pred)"
   ]
  },
  {
   "cell_type": "code",
   "execution_count": 256,
   "metadata": {},
   "outputs": [],
   "source": [
    "max_depth = [int(x) for x in np.linspace(10, 110, num = 11)]\n",
    "max_depth.append(None)\n",
    "min_samples_split = [2, 5, 10]\n",
    "min_samples_leaf = [1, 2, 4]\n",
    "\n",
    "random_grid = {'max_depth': max_depth,\n",
    "               'min_samples_split': min_samples_split,\n",
    "               'min_samples_leaf': min_samples_leaf}"
   ]
  },
  {
   "cell_type": "code",
   "execution_count": 258,
   "metadata": {},
   "outputs": [],
   "source": [
    "dt_random = RandomizedSearchCV(estimator = regr, param_distributions = random_grid, n_iter = 100, cv = 3, verbose=2, random_state=42)"
   ]
  },
  {
   "cell_type": "code",
   "execution_count": 259,
   "metadata": {},
   "outputs": [
    {
     "name": "stdout",
     "output_type": "stream",
     "text": [
      "Fitting 3 folds for each of 100 candidates, totalling 300 fits\n",
      "[CV] min_samples_split=10, min_samples_leaf=2, max_depth=90 ..........\n"
     ]
    },
    {
     "name": "stderr",
     "output_type": "stream",
     "text": [
      "[Parallel(n_jobs=1)]: Using backend SequentialBackend with 1 concurrent workers.\n"
     ]
    },
    {
     "name": "stdout",
     "output_type": "stream",
     "text": [
      "[CV]  min_samples_split=10, min_samples_leaf=2, max_depth=90, total=  11.5s\n",
      "[CV] min_samples_split=10, min_samples_leaf=2, max_depth=90 ..........\n"
     ]
    },
    {
     "name": "stderr",
     "output_type": "stream",
     "text": [
      "[Parallel(n_jobs=1)]: Done   1 out of   1 | elapsed:   11.4s remaining:    0.0s\n"
     ]
    },
    {
     "name": "stdout",
     "output_type": "stream",
     "text": [
      "[CV]  min_samples_split=10, min_samples_leaf=2, max_depth=90, total=  12.7s\n",
      "[CV] min_samples_split=10, min_samples_leaf=2, max_depth=90 ..........\n",
      "[CV]  min_samples_split=10, min_samples_leaf=2, max_depth=90, total=  22.8s\n",
      "[CV] min_samples_split=5, min_samples_leaf=1, max_depth=20 ...........\n",
      "[CV]  min_samples_split=5, min_samples_leaf=1, max_depth=20, total=  18.3s\n",
      "[CV] min_samples_split=5, min_samples_leaf=1, max_depth=20 ...........\n",
      "[CV]  min_samples_split=5, min_samples_leaf=1, max_depth=20, total=  20.9s\n",
      "[CV] min_samples_split=5, min_samples_leaf=1, max_depth=20 ...........\n",
      "[CV]  min_samples_split=5, min_samples_leaf=1, max_depth=20, total=  27.2s\n",
      "[CV] min_samples_split=5, min_samples_leaf=2, max_depth=10 ...........\n",
      "[CV]  min_samples_split=5, min_samples_leaf=2, max_depth=10, total=   9.0s\n",
      "[CV] min_samples_split=5, min_samples_leaf=2, max_depth=10 ...........\n",
      "[CV]  min_samples_split=5, min_samples_leaf=2, max_depth=10, total=  14.9s\n",
      "[CV] min_samples_split=5, min_samples_leaf=2, max_depth=10 ...........\n",
      "[CV]  min_samples_split=5, min_samples_leaf=2, max_depth=10, total=  21.9s\n",
      "[CV] min_samples_split=10, min_samples_leaf=1, max_depth=100 .........\n",
      "[CV]  min_samples_split=10, min_samples_leaf=1, max_depth=100, total=  24.8s\n",
      "[CV] min_samples_split=10, min_samples_leaf=1, max_depth=100 .........\n",
      "[CV]  min_samples_split=10, min_samples_leaf=1, max_depth=100, total=  20.3s\n",
      "[CV] min_samples_split=10, min_samples_leaf=1, max_depth=100 .........\n",
      "[CV]  min_samples_split=10, min_samples_leaf=1, max_depth=100, total=  30.6s\n",
      "[CV] min_samples_split=10, min_samples_leaf=4, max_depth=70 ..........\n",
      "[CV]  min_samples_split=10, min_samples_leaf=4, max_depth=70, total=   8.5s\n",
      "[CV] min_samples_split=10, min_samples_leaf=4, max_depth=70 ..........\n",
      "[CV]  min_samples_split=10, min_samples_leaf=4, max_depth=70, total=  13.4s\n",
      "[CV] min_samples_split=10, min_samples_leaf=4, max_depth=70 ..........\n",
      "[CV]  min_samples_split=10, min_samples_leaf=4, max_depth=70, total=  19.6s\n",
      "[CV] min_samples_split=5, min_samples_leaf=2, max_depth=80 ...........\n",
      "[CV]  min_samples_split=5, min_samples_leaf=2, max_depth=80, total=   9.5s\n",
      "[CV] min_samples_split=5, min_samples_leaf=2, max_depth=80 ...........\n",
      "[CV]  min_samples_split=5, min_samples_leaf=2, max_depth=80, total=  17.0s\n",
      "[CV] min_samples_split=5, min_samples_leaf=2, max_depth=80 ...........\n",
      "[CV]  min_samples_split=5, min_samples_leaf=2, max_depth=80, total=  23.3s\n",
      "[CV] min_samples_split=2, min_samples_leaf=2, max_depth=40 ...........\n",
      "[CV]  min_samples_split=2, min_samples_leaf=2, max_depth=40, total=   9.1s\n",
      "[CV] min_samples_split=2, min_samples_leaf=2, max_depth=40 ...........\n",
      "[CV]  min_samples_split=2, min_samples_leaf=2, max_depth=40, total=  14.5s\n",
      "[CV] min_samples_split=2, min_samples_leaf=2, max_depth=40 ...........\n",
      "[CV]  min_samples_split=2, min_samples_leaf=2, max_depth=40, total=  21.9s\n",
      "[CV] min_samples_split=2, min_samples_leaf=1, max_depth=60 ...........\n",
      "[CV]  min_samples_split=2, min_samples_leaf=1, max_depth=60, total=  23.4s\n",
      "[CV] min_samples_split=2, min_samples_leaf=1, max_depth=60 ...........\n",
      "[CV]  min_samples_split=2, min_samples_leaf=1, max_depth=60, total=  20.5s\n",
      "[CV] min_samples_split=2, min_samples_leaf=1, max_depth=60 ...........\n",
      "[CV]  min_samples_split=2, min_samples_leaf=1, max_depth=60, total=  30.2s\n",
      "[CV] min_samples_split=10, min_samples_leaf=2, max_depth=110 .........\n",
      "[CV]  min_samples_split=10, min_samples_leaf=2, max_depth=110, total=  16.5s\n",
      "[CV] min_samples_split=10, min_samples_leaf=2, max_depth=110 .........\n",
      "[CV]  min_samples_split=10, min_samples_leaf=2, max_depth=110, total=  12.0s\n",
      "[CV] min_samples_split=10, min_samples_leaf=2, max_depth=110 .........\n",
      "[CV]  min_samples_split=10, min_samples_leaf=2, max_depth=110, total=  25.6s\n",
      "[CV] min_samples_split=10, min_samples_leaf=1, max_depth=20 ..........\n",
      "[CV]  min_samples_split=10, min_samples_leaf=1, max_depth=20, total=  24.1s\n",
      "[CV] min_samples_split=10, min_samples_leaf=1, max_depth=20 ..........\n",
      "[CV]  min_samples_split=10, min_samples_leaf=1, max_depth=20, total=  19.1s\n",
      "[CV] min_samples_split=10, min_samples_leaf=1, max_depth=20 ..........\n",
      "[CV]  min_samples_split=10, min_samples_leaf=1, max_depth=20, total=  31.4s\n",
      "[CV] min_samples_split=2, min_samples_leaf=1, max_depth=100 ..........\n",
      "[CV]  min_samples_split=2, min_samples_leaf=1, max_depth=100, total=  13.7s\n",
      "[CV] min_samples_split=2, min_samples_leaf=1, max_depth=100 ..........\n",
      "[CV]  min_samples_split=2, min_samples_leaf=1, max_depth=100, total=  22.5s\n",
      "[CV] min_samples_split=2, min_samples_leaf=1, max_depth=100 ..........\n",
      "[CV]  min_samples_split=2, min_samples_leaf=1, max_depth=100, total=  30.6s\n",
      "[CV] min_samples_split=5, min_samples_leaf=4, max_depth=90 ...........\n",
      "[CV]  min_samples_split=5, min_samples_leaf=4, max_depth=90, total=   7.7s\n",
      "[CV] min_samples_split=5, min_samples_leaf=4, max_depth=90 ...........\n",
      "[CV]  min_samples_split=5, min_samples_leaf=4, max_depth=90, total=  13.4s\n",
      "[CV] min_samples_split=5, min_samples_leaf=4, max_depth=90 ...........\n",
      "[CV]  min_samples_split=5, min_samples_leaf=4, max_depth=90, total=  17.4s\n",
      "[CV] min_samples_split=2, min_samples_leaf=1, max_depth=10 ...........\n",
      "[CV]  min_samples_split=2, min_samples_leaf=1, max_depth=10, total=  17.0s\n",
      "[CV] min_samples_split=2, min_samples_leaf=1, max_depth=10 ...........\n",
      "[CV]  min_samples_split=2, min_samples_leaf=1, max_depth=10, total=  22.5s\n",
      "[CV] min_samples_split=2, min_samples_leaf=1, max_depth=10 ...........\n",
      "[CV]  min_samples_split=2, min_samples_leaf=1, max_depth=10, total=  39.1s\n",
      "[CV] min_samples_split=10, min_samples_leaf=4, max_depth=90 ..........\n",
      "[CV]  min_samples_split=10, min_samples_leaf=4, max_depth=90, total=  12.2s\n",
      "[CV] min_samples_split=10, min_samples_leaf=4, max_depth=90 ..........\n",
      "[CV]  min_samples_split=10, min_samples_leaf=4, max_depth=90, total=  12.4s\n",
      "[CV] min_samples_split=10, min_samples_leaf=4, max_depth=90 ..........\n",
      "[CV]  min_samples_split=10, min_samples_leaf=4, max_depth=90, total=  18.2s\n",
      "[CV] min_samples_split=2, min_samples_leaf=1, max_depth=30 ...........\n",
      "[CV]  min_samples_split=2, min_samples_leaf=1, max_depth=30, total=  14.7s\n",
      "[CV] min_samples_split=2, min_samples_leaf=1, max_depth=30 ...........\n",
      "[CV]  min_samples_split=2, min_samples_leaf=1, max_depth=30, total=  24.0s\n",
      "[CV] min_samples_split=2, min_samples_leaf=1, max_depth=30 ...........\n",
      "[CV]  min_samples_split=2, min_samples_leaf=1, max_depth=30, total=  36.2s\n",
      "[CV] min_samples_split=2, min_samples_leaf=4, max_depth=80 ...........\n",
      "[CV]  min_samples_split=2, min_samples_leaf=4, max_depth=80, total=   8.1s\n",
      "[CV] min_samples_split=2, min_samples_leaf=4, max_depth=80 ...........\n",
      "[CV]  min_samples_split=2, min_samples_leaf=4, max_depth=80, total=  15.7s\n",
      "[CV] min_samples_split=2, min_samples_leaf=4, max_depth=80 ...........\n",
      "[CV]  min_samples_split=2, min_samples_leaf=4, max_depth=80, total=  23.9s\n",
      "[CV] min_samples_split=10, min_samples_leaf=1, max_depth=70 ..........\n",
      "[CV]  min_samples_split=10, min_samples_leaf=1, max_depth=70, total=  18.8s\n",
      "[CV] min_samples_split=10, min_samples_leaf=1, max_depth=70 ..........\n",
      "[CV]  min_samples_split=10, min_samples_leaf=1, max_depth=70, total=  19.9s\n",
      "[CV] min_samples_split=10, min_samples_leaf=1, max_depth=70 ..........\n",
      "[CV]  min_samples_split=10, min_samples_leaf=1, max_depth=70, total=  31.3s\n",
      "[CV] min_samples_split=5, min_samples_leaf=2, max_depth=90 ...........\n",
      "[CV]  min_samples_split=5, min_samples_leaf=2, max_depth=90, total=  11.9s\n",
      "[CV] min_samples_split=5, min_samples_leaf=2, max_depth=90 ...........\n",
      "[CV]  min_samples_split=5, min_samples_leaf=2, max_depth=90, total=  17.9s\n",
      "[CV] min_samples_split=5, min_samples_leaf=2, max_depth=90 ...........\n",
      "[CV]  min_samples_split=5, min_samples_leaf=2, max_depth=90, total=  20.2s\n",
      "[CV] min_samples_split=5, min_samples_leaf=4, max_depth=None .........\n",
      "[CV]  min_samples_split=5, min_samples_leaf=4, max_depth=None, total=   8.3s\n",
      "[CV] min_samples_split=5, min_samples_leaf=4, max_depth=None .........\n",
      "[CV]  min_samples_split=5, min_samples_leaf=4, max_depth=None, total=  10.4s\n",
      "[CV] min_samples_split=5, min_samples_leaf=4, max_depth=None .........\n",
      "[CV]  min_samples_split=5, min_samples_leaf=4, max_depth=None, total=  15.9s\n",
      "[CV] min_samples_split=2, min_samples_leaf=4, max_depth=50 ...........\n"
     ]
    },
    {
     "name": "stdout",
     "output_type": "stream",
     "text": [
      "[CV]  min_samples_split=2, min_samples_leaf=4, max_depth=50, total=   8.2s\n",
      "[CV] min_samples_split=2, min_samples_leaf=4, max_depth=50 ...........\n",
      "[CV]  min_samples_split=2, min_samples_leaf=4, max_depth=50, total=  13.4s\n",
      "[CV] min_samples_split=2, min_samples_leaf=4, max_depth=50 ...........\n",
      "[CV]  min_samples_split=2, min_samples_leaf=4, max_depth=50, total=  16.1s\n",
      "[CV] min_samples_split=2, min_samples_leaf=2, max_depth=20 ...........\n",
      "[CV]  min_samples_split=2, min_samples_leaf=2, max_depth=20, total=   9.0s\n",
      "[CV] min_samples_split=2, min_samples_leaf=2, max_depth=20 ...........\n",
      "[CV]  min_samples_split=2, min_samples_leaf=2, max_depth=20, total=  17.0s\n",
      "[CV] min_samples_split=2, min_samples_leaf=2, max_depth=20 ...........\n",
      "[CV]  min_samples_split=2, min_samples_leaf=2, max_depth=20, total=  29.0s\n",
      "[CV] min_samples_split=2, min_samples_leaf=1, max_depth=50 ...........\n",
      "[CV]  min_samples_split=2, min_samples_leaf=1, max_depth=50, total=  18.4s\n",
      "[CV] min_samples_split=2, min_samples_leaf=1, max_depth=50 ...........\n",
      "[CV]  min_samples_split=2, min_samples_leaf=1, max_depth=50, total=  19.7s\n",
      "[CV] min_samples_split=2, min_samples_leaf=1, max_depth=50 ...........\n",
      "[CV]  min_samples_split=2, min_samples_leaf=1, max_depth=50, total=  36.1s\n",
      "[CV] min_samples_split=5, min_samples_leaf=1, max_depth=80 ...........\n",
      "[CV]  min_samples_split=5, min_samples_leaf=1, max_depth=80, total=  27.0s\n",
      "[CV] min_samples_split=5, min_samples_leaf=1, max_depth=80 ...........\n",
      "[CV]  min_samples_split=5, min_samples_leaf=1, max_depth=80, total=  26.1s\n",
      "[CV] min_samples_split=5, min_samples_leaf=1, max_depth=80 ...........\n",
      "[CV]  min_samples_split=5, min_samples_leaf=1, max_depth=80, total=  28.8s\n",
      "[CV] min_samples_split=10, min_samples_leaf=4, max_depth=30 ..........\n",
      "[CV]  min_samples_split=10, min_samples_leaf=4, max_depth=30, total=  11.9s\n",
      "[CV] min_samples_split=10, min_samples_leaf=4, max_depth=30 ..........\n",
      "[CV]  min_samples_split=10, min_samples_leaf=4, max_depth=30, total=  10.1s\n",
      "[CV] min_samples_split=10, min_samples_leaf=4, max_depth=30 ..........\n",
      "[CV]  min_samples_split=10, min_samples_leaf=4, max_depth=30, total=  12.6s\n",
      "[CV] min_samples_split=5, min_samples_leaf=2, max_depth=30 ...........\n",
      "[CV]  min_samples_split=5, min_samples_leaf=2, max_depth=30, total=   8.8s\n",
      "[CV] min_samples_split=5, min_samples_leaf=2, max_depth=30 ...........\n",
      "[CV]  min_samples_split=5, min_samples_leaf=2, max_depth=30, total=  14.1s\n",
      "[CV] min_samples_split=5, min_samples_leaf=2, max_depth=30 ...........\n",
      "[CV]  min_samples_split=5, min_samples_leaf=2, max_depth=30, total=  18.7s\n",
      "[CV] min_samples_split=5, min_samples_leaf=2, max_depth=40 ...........\n",
      "[CV]  min_samples_split=5, min_samples_leaf=2, max_depth=40, total=  13.9s\n",
      "[CV] min_samples_split=5, min_samples_leaf=2, max_depth=40 ...........\n",
      "[CV]  min_samples_split=5, min_samples_leaf=2, max_depth=40, total=  16.5s\n",
      "[CV] min_samples_split=5, min_samples_leaf=2, max_depth=40 ...........\n",
      "[CV]  min_samples_split=5, min_samples_leaf=2, max_depth=40, total=  21.0s\n",
      "[CV] min_samples_split=10, min_samples_leaf=1, max_depth=60 ..........\n",
      "[CV]  min_samples_split=10, min_samples_leaf=1, max_depth=60, total=  13.3s\n",
      "[CV] min_samples_split=10, min_samples_leaf=1, max_depth=60 ..........\n",
      "[CV]  min_samples_split=10, min_samples_leaf=1, max_depth=60, total=  25.7s\n",
      "[CV] min_samples_split=10, min_samples_leaf=1, max_depth=60 ..........\n",
      "[CV]  min_samples_split=10, min_samples_leaf=1, max_depth=60, total=  26.7s\n",
      "[CV] min_samples_split=5, min_samples_leaf=1, max_depth=None .........\n",
      "[CV]  min_samples_split=5, min_samples_leaf=1, max_depth=None, total=  17.0s\n",
      "[CV] min_samples_split=5, min_samples_leaf=1, max_depth=None .........\n",
      "[CV]  min_samples_split=5, min_samples_leaf=1, max_depth=None, total=  23.7s\n",
      "[CV] min_samples_split=5, min_samples_leaf=1, max_depth=None .........\n",
      "[CV]  min_samples_split=5, min_samples_leaf=1, max_depth=None, total=  30.3s\n",
      "[CV] min_samples_split=2, min_samples_leaf=4, max_depth=20 ...........\n",
      "[CV]  min_samples_split=2, min_samples_leaf=4, max_depth=20, total=  12.1s\n",
      "[CV] min_samples_split=2, min_samples_leaf=4, max_depth=20 ...........\n",
      "[CV]  min_samples_split=2, min_samples_leaf=4, max_depth=20, total=  10.1s\n",
      "[CV] min_samples_split=2, min_samples_leaf=4, max_depth=20 ...........\n",
      "[CV]  min_samples_split=2, min_samples_leaf=4, max_depth=20, total=  12.5s\n",
      "[CV] min_samples_split=10, min_samples_leaf=4, max_depth=50 ..........\n",
      "[CV]  min_samples_split=10, min_samples_leaf=4, max_depth=50, total=   7.5s\n",
      "[CV] min_samples_split=10, min_samples_leaf=4, max_depth=50 ..........\n",
      "[CV]  min_samples_split=10, min_samples_leaf=4, max_depth=50, total=  14.7s\n",
      "[CV] min_samples_split=10, min_samples_leaf=4, max_depth=50 ..........\n",
      "[CV]  min_samples_split=10, min_samples_leaf=4, max_depth=50, total=  12.6s\n",
      "[CV] min_samples_split=5, min_samples_leaf=4, max_depth=100 ..........\n",
      "[CV]  min_samples_split=5, min_samples_leaf=4, max_depth=100, total=  10.0s\n",
      "[CV] min_samples_split=5, min_samples_leaf=4, max_depth=100 ..........\n",
      "[CV]  min_samples_split=5, min_samples_leaf=4, max_depth=100, total=  12.4s\n",
      "[CV] min_samples_split=5, min_samples_leaf=4, max_depth=100 ..........\n",
      "[CV]  min_samples_split=5, min_samples_leaf=4, max_depth=100, total=  15.4s\n",
      "[CV] min_samples_split=10, min_samples_leaf=4, max_depth=100 .........\n",
      "[CV]  min_samples_split=10, min_samples_leaf=4, max_depth=100, total=   9.7s\n",
      "[CV] min_samples_split=10, min_samples_leaf=4, max_depth=100 .........\n",
      "[CV]  min_samples_split=10, min_samples_leaf=4, max_depth=100, total=  12.7s\n",
      "[CV] min_samples_split=10, min_samples_leaf=4, max_depth=100 .........\n",
      "[CV]  min_samples_split=10, min_samples_leaf=4, max_depth=100, total=  17.6s\n",
      "[CV] min_samples_split=2, min_samples_leaf=1, max_depth=20 ...........\n",
      "[CV]  min_samples_split=2, min_samples_leaf=1, max_depth=20, total=  13.6s\n",
      "[CV] min_samples_split=2, min_samples_leaf=1, max_depth=20 ...........\n",
      "[CV]  min_samples_split=2, min_samples_leaf=1, max_depth=20, total=  19.8s\n",
      "[CV] min_samples_split=2, min_samples_leaf=1, max_depth=20 ...........\n",
      "[CV]  min_samples_split=2, min_samples_leaf=1, max_depth=20, total=  27.3s\n",
      "[CV] min_samples_split=2, min_samples_leaf=4, max_depth=40 ...........\n",
      "[CV]  min_samples_split=2, min_samples_leaf=4, max_depth=40, total=   7.6s\n",
      "[CV] min_samples_split=2, min_samples_leaf=4, max_depth=40 ...........\n",
      "[CV]  min_samples_split=2, min_samples_leaf=4, max_depth=40, total=  12.6s\n",
      "[CV] min_samples_split=2, min_samples_leaf=4, max_depth=40 ...........\n",
      "[CV]  min_samples_split=2, min_samples_leaf=4, max_depth=40, total=  15.1s\n",
      "[CV] min_samples_split=5, min_samples_leaf=1, max_depth=70 ...........\n",
      "[CV]  min_samples_split=5, min_samples_leaf=1, max_depth=70, total=  14.3s\n",
      "[CV] min_samples_split=5, min_samples_leaf=1, max_depth=70 ...........\n",
      "[CV]  min_samples_split=5, min_samples_leaf=1, max_depth=70, total=  24.2s\n",
      "[CV] min_samples_split=5, min_samples_leaf=1, max_depth=70 ...........\n",
      "[CV]  min_samples_split=5, min_samples_leaf=1, max_depth=70, total=  44.0s\n",
      "[CV] min_samples_split=5, min_samples_leaf=2, max_depth=None .........\n",
      "[CV]  min_samples_split=5, min_samples_leaf=2, max_depth=None, total=   8.9s\n",
      "[CV] min_samples_split=5, min_samples_leaf=2, max_depth=None .........\n",
      "[CV]  min_samples_split=5, min_samples_leaf=2, max_depth=None, total=  12.1s\n",
      "[CV] min_samples_split=5, min_samples_leaf=2, max_depth=None .........\n",
      "[CV]  min_samples_split=5, min_samples_leaf=2, max_depth=None, total=  18.9s\n",
      "[CV] min_samples_split=5, min_samples_leaf=1, max_depth=40 ...........\n",
      "[CV]  min_samples_split=5, min_samples_leaf=1, max_depth=40, total=  16.8s\n",
      "[CV] min_samples_split=5, min_samples_leaf=1, max_depth=40 ...........\n",
      "[CV]  min_samples_split=5, min_samples_leaf=1, max_depth=40, total=  19.8s\n",
      "[CV] min_samples_split=5, min_samples_leaf=1, max_depth=40 ...........\n",
      "[CV]  min_samples_split=5, min_samples_leaf=1, max_depth=40, total=  27.1s\n",
      "[CV] min_samples_split=5, min_samples_leaf=2, max_depth=50 ...........\n",
      "[CV]  min_samples_split=5, min_samples_leaf=2, max_depth=50, total=   8.9s\n",
      "[CV] min_samples_split=5, min_samples_leaf=2, max_depth=50 ...........\n",
      "[CV]  min_samples_split=5, min_samples_leaf=2, max_depth=50, total=  19.0s\n",
      "[CV] min_samples_split=5, min_samples_leaf=2, max_depth=50 ...........\n"
     ]
    },
    {
     "name": "stdout",
     "output_type": "stream",
     "text": [
      "[CV]  min_samples_split=5, min_samples_leaf=2, max_depth=50, total=  21.3s\n",
      "[CV] min_samples_split=10, min_samples_leaf=2, max_depth=10 ..........\n",
      "[CV]  min_samples_split=10, min_samples_leaf=2, max_depth=10, total=  15.7s\n",
      "[CV] min_samples_split=10, min_samples_leaf=2, max_depth=10 ..........\n",
      "[CV]  min_samples_split=10, min_samples_leaf=2, max_depth=10, total=  12.1s\n",
      "[CV] min_samples_split=10, min_samples_leaf=2, max_depth=10 ..........\n",
      "[CV]  min_samples_split=10, min_samples_leaf=2, max_depth=10, total=  21.4s\n",
      "[CV] min_samples_split=10, min_samples_leaf=4, max_depth=60 ..........\n",
      "[CV]  min_samples_split=10, min_samples_leaf=4, max_depth=60, total=  10.1s\n",
      "[CV] min_samples_split=10, min_samples_leaf=4, max_depth=60 ..........\n",
      "[CV]  min_samples_split=10, min_samples_leaf=4, max_depth=60, total=  12.5s\n",
      "[CV] min_samples_split=10, min_samples_leaf=4, max_depth=60 ..........\n",
      "[CV]  min_samples_split=10, min_samples_leaf=4, max_depth=60, total=  13.0s\n",
      "[CV] min_samples_split=10, min_samples_leaf=4, max_depth=None ........\n",
      "[CV]  min_samples_split=10, min_samples_leaf=4, max_depth=None, total=   7.7s\n",
      "[CV] min_samples_split=10, min_samples_leaf=4, max_depth=None ........\n",
      "[CV]  min_samples_split=10, min_samples_leaf=4, max_depth=None, total=  10.2s\n",
      "[CV] min_samples_split=10, min_samples_leaf=4, max_depth=None ........\n",
      "[CV]  min_samples_split=10, min_samples_leaf=4, max_depth=None, total=  19.5s\n",
      "[CV] min_samples_split=2, min_samples_leaf=2, max_depth=50 ...........\n",
      "[CV]  min_samples_split=2, min_samples_leaf=2, max_depth=50, total=   8.9s\n",
      "[CV] min_samples_split=2, min_samples_leaf=2, max_depth=50 ...........\n",
      "[CV]  min_samples_split=2, min_samples_leaf=2, max_depth=50, total=  17.0s\n",
      "[CV] min_samples_split=2, min_samples_leaf=2, max_depth=50 ...........\n",
      "[CV]  min_samples_split=2, min_samples_leaf=2, max_depth=50, total=  18.9s\n",
      "[CV] min_samples_split=10, min_samples_leaf=4, max_depth=40 ..........\n",
      "[CV]  min_samples_split=10, min_samples_leaf=4, max_depth=40, total=  10.1s\n",
      "[CV] min_samples_split=10, min_samples_leaf=4, max_depth=40 ..........\n",
      "[CV]  min_samples_split=10, min_samples_leaf=4, max_depth=40, total=  14.8s\n",
      "[CV] min_samples_split=10, min_samples_leaf=4, max_depth=40 ..........\n",
      "[CV]  min_samples_split=10, min_samples_leaf=4, max_depth=40, total=  15.0s\n",
      "[CV] min_samples_split=5, min_samples_leaf=4, max_depth=20 ...........\n",
      "[CV]  min_samples_split=5, min_samples_leaf=4, max_depth=20, total=   7.6s\n",
      "[CV] min_samples_split=5, min_samples_leaf=4, max_depth=20 ...........\n",
      "[CV]  min_samples_split=5, min_samples_leaf=4, max_depth=20, total=  12.6s\n",
      "[CV] min_samples_split=5, min_samples_leaf=4, max_depth=20 ...........\n",
      "[CV]  min_samples_split=5, min_samples_leaf=4, max_depth=20, total=  14.6s\n",
      "[CV] min_samples_split=2, min_samples_leaf=4, max_depth=90 ...........\n",
      "[CV]  min_samples_split=2, min_samples_leaf=4, max_depth=90, total=  10.1s\n",
      "[CV] min_samples_split=2, min_samples_leaf=4, max_depth=90 ...........\n",
      "[CV]  min_samples_split=2, min_samples_leaf=4, max_depth=90, total=  10.3s\n",
      "[CV] min_samples_split=2, min_samples_leaf=4, max_depth=90 ...........\n",
      "[CV]  min_samples_split=2, min_samples_leaf=4, max_depth=90, total=  12.8s\n",
      "[CV] min_samples_split=5, min_samples_leaf=4, max_depth=40 ...........\n",
      "[CV]  min_samples_split=5, min_samples_leaf=4, max_depth=40, total=  10.0s\n",
      "[CV] min_samples_split=5, min_samples_leaf=4, max_depth=40 ...........\n",
      "[CV]  min_samples_split=5, min_samples_leaf=4, max_depth=40, total=  12.6s\n",
      "[CV] min_samples_split=5, min_samples_leaf=4, max_depth=40 ...........\n",
      "[CV]  min_samples_split=5, min_samples_leaf=4, max_depth=40, total=  15.2s\n",
      "[CV] min_samples_split=2, min_samples_leaf=2, max_depth=80 ...........\n",
      "[CV]  min_samples_split=2, min_samples_leaf=2, max_depth=80, total=  11.5s\n",
      "[CV] min_samples_split=2, min_samples_leaf=2, max_depth=80 ...........\n",
      "[CV]  min_samples_split=2, min_samples_leaf=2, max_depth=80, total=  18.4s\n",
      "[CV] min_samples_split=2, min_samples_leaf=2, max_depth=80 ...........\n",
      "[CV]  min_samples_split=2, min_samples_leaf=2, max_depth=80, total=  21.6s\n",
      "[CV] min_samples_split=5, min_samples_leaf=4, max_depth=10 ...........\n",
      "[CV]  min_samples_split=5, min_samples_leaf=4, max_depth=10, total=  10.1s\n",
      "[CV] min_samples_split=5, min_samples_leaf=4, max_depth=10 ...........\n",
      "[CV]  min_samples_split=5, min_samples_leaf=4, max_depth=10, total=  15.9s\n",
      "[CV] min_samples_split=5, min_samples_leaf=4, max_depth=10 ...........\n",
      "[CV]  min_samples_split=5, min_samples_leaf=4, max_depth=10, total=  17.3s\n",
      "[CV] min_samples_split=5, min_samples_leaf=4, max_depth=50 ...........\n",
      "[CV]  min_samples_split=5, min_samples_leaf=4, max_depth=50, total=  12.0s\n",
      "[CV] min_samples_split=5, min_samples_leaf=4, max_depth=50 ...........\n",
      "[CV]  min_samples_split=5, min_samples_leaf=4, max_depth=50, total=  17.8s\n",
      "[CV] min_samples_split=5, min_samples_leaf=4, max_depth=50 ...........\n",
      "[CV]  min_samples_split=5, min_samples_leaf=4, max_depth=50, total=  20.2s\n",
      "[CV] min_samples_split=10, min_samples_leaf=1, max_depth=80 ..........\n",
      "[CV]  min_samples_split=10, min_samples_leaf=1, max_depth=80, total=  22.9s\n",
      "[CV] min_samples_split=10, min_samples_leaf=1, max_depth=80 ..........\n",
      "[CV]  min_samples_split=10, min_samples_leaf=1, max_depth=80, total=  19.8s\n",
      "[CV] min_samples_split=10, min_samples_leaf=1, max_depth=80 ..........\n",
      "[CV]  min_samples_split=10, min_samples_leaf=1, max_depth=80, total=  33.0s\n",
      "[CV] min_samples_split=2, min_samples_leaf=1, max_depth=90 ...........\n",
      "[CV]  min_samples_split=2, min_samples_leaf=1, max_depth=90, total=  20.9s\n",
      "[CV] min_samples_split=2, min_samples_leaf=1, max_depth=90 ...........\n",
      "[CV]  min_samples_split=2, min_samples_leaf=1, max_depth=90, total=  30.6s\n",
      "[CV] min_samples_split=2, min_samples_leaf=1, max_depth=90 ...........\n",
      "[CV]  min_samples_split=2, min_samples_leaf=1, max_depth=90, total=  32.0s\n",
      "[CV] min_samples_split=2, min_samples_leaf=1, max_depth=40 ...........\n",
      "[CV]  min_samples_split=2, min_samples_leaf=1, max_depth=40, total=  20.6s\n",
      "[CV] min_samples_split=2, min_samples_leaf=1, max_depth=40 ...........\n",
      "[CV]  min_samples_split=2, min_samples_leaf=1, max_depth=40, total=  25.0s\n",
      "[CV] min_samples_split=2, min_samples_leaf=1, max_depth=40 ...........\n",
      "[CV]  min_samples_split=2, min_samples_leaf=1, max_depth=40, total=  37.4s\n",
      "[CV] min_samples_split=5, min_samples_leaf=1, max_depth=30 ...........\n",
      "[CV]  min_samples_split=5, min_samples_leaf=1, max_depth=30, total=  19.6s\n",
      "[CV] min_samples_split=5, min_samples_leaf=1, max_depth=30 ...........\n",
      "[CV]  min_samples_split=5, min_samples_leaf=1, max_depth=30, total=  26.6s\n",
      "[CV] min_samples_split=5, min_samples_leaf=1, max_depth=30 ...........\n",
      "[CV]  min_samples_split=5, min_samples_leaf=1, max_depth=30, total=  40.7s\n",
      "[CV] min_samples_split=2, min_samples_leaf=1, max_depth=110 ..........\n",
      "[CV]  min_samples_split=2, min_samples_leaf=1, max_depth=110, total=  16.7s\n",
      "[CV] min_samples_split=2, min_samples_leaf=1, max_depth=110 ..........\n",
      "[CV]  min_samples_split=2, min_samples_leaf=1, max_depth=110, total=  35.7s\n",
      "[CV] min_samples_split=2, min_samples_leaf=1, max_depth=110 ..........\n",
      "[CV]  min_samples_split=2, min_samples_leaf=1, max_depth=110, total=  44.8s\n",
      "[CV] min_samples_split=2, min_samples_leaf=4, max_depth=None .........\n",
      "[CV]  min_samples_split=2, min_samples_leaf=4, max_depth=None, total=  13.1s\n",
      "[CV] min_samples_split=2, min_samples_leaf=4, max_depth=None .........\n",
      "[CV]  min_samples_split=2, min_samples_leaf=4, max_depth=None, total=  14.1s\n",
      "[CV] min_samples_split=2, min_samples_leaf=4, max_depth=None .........\n",
      "[CV]  min_samples_split=2, min_samples_leaf=4, max_depth=None, total=  21.7s\n",
      "[CV] min_samples_split=5, min_samples_leaf=4, max_depth=30 ...........\n",
      "[CV]  min_samples_split=5, min_samples_leaf=4, max_depth=30, total=  13.8s\n",
      "[CV] min_samples_split=5, min_samples_leaf=4, max_depth=30 ...........\n",
      "[CV]  min_samples_split=5, min_samples_leaf=4, max_depth=30, total=  13.7s\n",
      "[CV] min_samples_split=5, min_samples_leaf=4, max_depth=30 ...........\n",
      "[CV]  min_samples_split=5, min_samples_leaf=4, max_depth=30, total=  22.0s\n",
      "[CV] min_samples_split=10, min_samples_leaf=2, max_depth=80 ..........\n",
      "[CV]  min_samples_split=10, min_samples_leaf=2, max_depth=80, total=  13.5s\n",
      "[CV] min_samples_split=10, min_samples_leaf=2, max_depth=80 ..........\n"
     ]
    },
    {
     "name": "stdout",
     "output_type": "stream",
     "text": [
      "[CV]  min_samples_split=10, min_samples_leaf=2, max_depth=80, total=  17.2s\n",
      "[CV] min_samples_split=10, min_samples_leaf=2, max_depth=80 ..........\n",
      "[CV]  min_samples_split=10, min_samples_leaf=2, max_depth=80, total=  30.8s\n",
      "[CV] min_samples_split=5, min_samples_leaf=2, max_depth=60 ...........\n",
      "[CV]  min_samples_split=5, min_samples_leaf=2, max_depth=60, total=  12.5s\n",
      "[CV] min_samples_split=5, min_samples_leaf=2, max_depth=60 ...........\n",
      "[CV]  min_samples_split=5, min_samples_leaf=2, max_depth=60, total=  18.9s\n",
      "[CV] min_samples_split=5, min_samples_leaf=2, max_depth=60 ...........\n",
      "[CV]  min_samples_split=5, min_samples_leaf=2, max_depth=60, total=  34.8s\n",
      "[CV] min_samples_split=5, min_samples_leaf=2, max_depth=20 ...........\n",
      "[CV]  min_samples_split=5, min_samples_leaf=2, max_depth=20, total=   9.6s\n",
      "[CV] min_samples_split=5, min_samples_leaf=2, max_depth=20 ...........\n",
      "[CV]  min_samples_split=5, min_samples_leaf=2, max_depth=20, total=  15.6s\n",
      "[CV] min_samples_split=5, min_samples_leaf=2, max_depth=20 ...........\n",
      "[CV]  min_samples_split=5, min_samples_leaf=2, max_depth=20, total=  21.2s\n",
      "[CV] min_samples_split=2, min_samples_leaf=4, max_depth=30 ...........\n",
      "[CV]  min_samples_split=2, min_samples_leaf=4, max_depth=30, total=   8.5s\n",
      "[CV] min_samples_split=2, min_samples_leaf=4, max_depth=30 ...........\n",
      "[CV]  min_samples_split=2, min_samples_leaf=4, max_depth=30, total=  11.2s\n",
      "[CV] min_samples_split=2, min_samples_leaf=4, max_depth=30 ...........\n",
      "[CV]  min_samples_split=2, min_samples_leaf=4, max_depth=30, total=  13.9s\n",
      "[CV] min_samples_split=2, min_samples_leaf=2, max_depth=10 ...........\n",
      "[CV]  min_samples_split=2, min_samples_leaf=2, max_depth=10, total=  12.8s\n",
      "[CV] min_samples_split=2, min_samples_leaf=2, max_depth=10 ...........\n",
      "[CV]  min_samples_split=2, min_samples_leaf=2, max_depth=10, total=  15.9s\n",
      "[CV] min_samples_split=2, min_samples_leaf=2, max_depth=10 ...........\n",
      "[CV]  min_samples_split=2, min_samples_leaf=2, max_depth=10, total=  20.8s\n",
      "[CV] min_samples_split=10, min_samples_leaf=4, max_depth=20 ..........\n",
      "[CV]  min_samples_split=10, min_samples_leaf=4, max_depth=20, total=   8.4s\n",
      "[CV] min_samples_split=10, min_samples_leaf=4, max_depth=20 ..........\n",
      "[CV]  min_samples_split=10, min_samples_leaf=4, max_depth=20, total=  16.3s\n",
      "[CV] min_samples_split=10, min_samples_leaf=4, max_depth=20 ..........\n",
      "[CV]  min_samples_split=10, min_samples_leaf=4, max_depth=20, total=  16.3s\n",
      "[CV] min_samples_split=10, min_samples_leaf=1, max_depth=50 ..........\n",
      "[CV]  min_samples_split=10, min_samples_leaf=1, max_depth=50, total=  20.4s\n",
      "[CV] min_samples_split=10, min_samples_leaf=1, max_depth=50 ..........\n",
      "[CV]  min_samples_split=10, min_samples_leaf=1, max_depth=50, total=  21.7s\n",
      "[CV] min_samples_split=10, min_samples_leaf=1, max_depth=50 ..........\n",
      "[CV]  min_samples_split=10, min_samples_leaf=1, max_depth=50, total=  29.8s\n",
      "[CV] min_samples_split=10, min_samples_leaf=4, max_depth=10 ..........\n",
      "[CV]  min_samples_split=10, min_samples_leaf=4, max_depth=10, total=  11.0s\n",
      "[CV] min_samples_split=10, min_samples_leaf=4, max_depth=10 ..........\n",
      "[CV]  min_samples_split=10, min_samples_leaf=4, max_depth=10, total=  15.7s\n",
      "[CV] min_samples_split=10, min_samples_leaf=4, max_depth=10 ..........\n",
      "[CV]  min_samples_split=10, min_samples_leaf=4, max_depth=10, total=  17.0s\n",
      "[CV] min_samples_split=2, min_samples_leaf=2, max_depth=100 ..........\n",
      "[CV]  min_samples_split=2, min_samples_leaf=2, max_depth=100, total=  14.9s\n",
      "[CV] min_samples_split=2, min_samples_leaf=2, max_depth=100 ..........\n",
      "[CV]  min_samples_split=2, min_samples_leaf=2, max_depth=100, total=  13.1s\n",
      "[CV] min_samples_split=2, min_samples_leaf=2, max_depth=100 ..........\n",
      "[CV]  min_samples_split=2, min_samples_leaf=2, max_depth=100, total=  20.6s\n",
      "[CV] min_samples_split=2, min_samples_leaf=4, max_depth=10 ...........\n",
      "[CV]  min_samples_split=2, min_samples_leaf=4, max_depth=10, total=  10.9s\n",
      "[CV] min_samples_split=2, min_samples_leaf=4, max_depth=10 ...........\n",
      "[CV]  min_samples_split=2, min_samples_leaf=4, max_depth=10, total=  11.1s\n",
      "[CV] min_samples_split=2, min_samples_leaf=4, max_depth=10 ...........\n",
      "[CV]  min_samples_split=2, min_samples_leaf=4, max_depth=10, total=  13.9s\n",
      "[CV] min_samples_split=5, min_samples_leaf=4, max_depth=80 ...........\n",
      "[CV]  min_samples_split=5, min_samples_leaf=4, max_depth=80, total=  10.6s\n",
      "[CV] min_samples_split=5, min_samples_leaf=4, max_depth=80 ...........\n",
      "[CV]  min_samples_split=5, min_samples_leaf=4, max_depth=80, total=  11.1s\n",
      "[CV] min_samples_split=5, min_samples_leaf=4, max_depth=80 ...........\n",
      "[CV]  min_samples_split=5, min_samples_leaf=4, max_depth=80, total=  18.5s\n",
      "[CV] min_samples_split=5, min_samples_leaf=2, max_depth=110 ..........\n",
      "[CV]  min_samples_split=5, min_samples_leaf=2, max_depth=110, total=   9.7s\n",
      "[CV] min_samples_split=5, min_samples_leaf=2, max_depth=110 ..........\n",
      "[CV]  min_samples_split=5, min_samples_leaf=2, max_depth=110, total=  19.0s\n",
      "[CV] min_samples_split=5, min_samples_leaf=2, max_depth=110 ..........\n",
      "[CV]  min_samples_split=5, min_samples_leaf=2, max_depth=110, total=  26.4s\n",
      "[CV] min_samples_split=2, min_samples_leaf=1, max_depth=None .........\n",
      "[CV]  min_samples_split=2, min_samples_leaf=1, max_depth=None, total=  16.9s\n",
      "[CV] min_samples_split=2, min_samples_leaf=1, max_depth=None .........\n",
      "[CV]  min_samples_split=2, min_samples_leaf=1, max_depth=None, total=  23.7s\n",
      "[CV] min_samples_split=2, min_samples_leaf=1, max_depth=None .........\n",
      "[CV]  min_samples_split=2, min_samples_leaf=1, max_depth=None, total=  36.2s\n",
      "[CV] min_samples_split=2, min_samples_leaf=1, max_depth=70 ...........\n",
      "[CV]  min_samples_split=2, min_samples_leaf=1, max_depth=70, total=  15.1s\n",
      "[CV] min_samples_split=2, min_samples_leaf=1, max_depth=70 ...........\n",
      "[CV]  min_samples_split=2, min_samples_leaf=1, max_depth=70, total=  21.6s\n",
      "[CV] min_samples_split=2, min_samples_leaf=1, max_depth=70 ...........\n",
      "[CV]  min_samples_split=2, min_samples_leaf=1, max_depth=70, total=  29.8s\n",
      "[CV] min_samples_split=10, min_samples_leaf=2, max_depth=60 ..........\n",
      "[CV]  min_samples_split=10, min_samples_leaf=2, max_depth=60, total=   9.7s\n",
      "[CV] min_samples_split=10, min_samples_leaf=2, max_depth=60 ..........\n",
      "[CV]  min_samples_split=10, min_samples_leaf=2, max_depth=60, total=  16.2s\n",
      "[CV] min_samples_split=10, min_samples_leaf=2, max_depth=60 ..........\n",
      "[CV]  min_samples_split=10, min_samples_leaf=2, max_depth=60, total=  20.6s\n",
      "[CV] min_samples_split=5, min_samples_leaf=1, max_depth=90 ...........\n",
      "[CV]  min_samples_split=5, min_samples_leaf=1, max_depth=90, total=  14.9s\n",
      "[CV] min_samples_split=5, min_samples_leaf=1, max_depth=90 ...........\n",
      "[CV]  min_samples_split=5, min_samples_leaf=1, max_depth=90, total=  21.7s\n",
      "[CV] min_samples_split=5, min_samples_leaf=1, max_depth=90 ...........\n",
      "[CV]  min_samples_split=5, min_samples_leaf=1, max_depth=90, total=  29.4s\n",
      "[CV] min_samples_split=5, min_samples_leaf=1, max_depth=60 ...........\n",
      "[CV]  min_samples_split=5, min_samples_leaf=1, max_depth=60, total=  14.8s\n",
      "[CV] min_samples_split=5, min_samples_leaf=1, max_depth=60 ...........\n",
      "[CV]  min_samples_split=5, min_samples_leaf=1, max_depth=60, total=  21.5s\n",
      "[CV] min_samples_split=5, min_samples_leaf=1, max_depth=60 ...........\n",
      "[CV]  min_samples_split=5, min_samples_leaf=1, max_depth=60, total=  38.6s\n",
      "[CV] min_samples_split=5, min_samples_leaf=4, max_depth=110 ..........\n",
      "[CV]  min_samples_split=5, min_samples_leaf=4, max_depth=110, total=  10.8s\n",
      "[CV] min_samples_split=5, min_samples_leaf=4, max_depth=110 ..........\n",
      "[CV]  min_samples_split=5, min_samples_leaf=4, max_depth=110, total=  11.1s\n",
      "[CV] min_samples_split=5, min_samples_leaf=4, max_depth=110 ..........\n",
      "[CV]  min_samples_split=5, min_samples_leaf=4, max_depth=110, total=  21.4s\n",
      "[CV] min_samples_split=5, min_samples_leaf=4, max_depth=70 ...........\n",
      "[CV]  min_samples_split=5, min_samples_leaf=4, max_depth=70, total=  13.5s\n",
      "[CV] min_samples_split=5, min_samples_leaf=4, max_depth=70 ...........\n",
      "[CV]  min_samples_split=5, min_samples_leaf=4, max_depth=70, total=  11.2s\n",
      "[CV] min_samples_split=5, min_samples_leaf=4, max_depth=70 ...........\n",
      "[CV]  min_samples_split=5, min_samples_leaf=4, max_depth=70, total=  13.9s\n",
      "[CV] min_samples_split=10, min_samples_leaf=2, max_depth=None ........\n"
     ]
    },
    {
     "name": "stdout",
     "output_type": "stream",
     "text": [
      "[CV]  min_samples_split=10, min_samples_leaf=2, max_depth=None, total=  11.8s\n",
      "[CV] min_samples_split=10, min_samples_leaf=2, max_depth=None ........\n",
      "[CV]  min_samples_split=10, min_samples_leaf=2, max_depth=None, total=  24.3s\n",
      "[CV] min_samples_split=10, min_samples_leaf=2, max_depth=None ........\n",
      "[CV]  min_samples_split=10, min_samples_leaf=2, max_depth=None, total=  20.8s\n",
      "[CV] min_samples_split=5, min_samples_leaf=2, max_depth=100 ..........\n",
      "[CV]  min_samples_split=5, min_samples_leaf=2, max_depth=100, total=  10.0s\n",
      "[CV] min_samples_split=5, min_samples_leaf=2, max_depth=100 ..........\n",
      "[CV]  min_samples_split=5, min_samples_leaf=2, max_depth=100, total=  13.0s\n",
      "[CV] min_samples_split=5, min_samples_leaf=2, max_depth=100 ..........\n",
      "[CV]  min_samples_split=5, min_samples_leaf=2, max_depth=100, total=  20.7s\n",
      "[CV] min_samples_split=10, min_samples_leaf=2, max_depth=50 ..........\n",
      "[CV]  min_samples_split=10, min_samples_leaf=2, max_depth=50, total=   9.7s\n",
      "[CV] min_samples_split=10, min_samples_leaf=2, max_depth=50 ..........\n",
      "[CV]  min_samples_split=10, min_samples_leaf=2, max_depth=50, total=  16.3s\n",
      "[CV] min_samples_split=10, min_samples_leaf=2, max_depth=50 ..........\n",
      "[CV]  min_samples_split=10, min_samples_leaf=2, max_depth=50, total=  23.8s\n",
      "[CV] min_samples_split=5, min_samples_leaf=2, max_depth=70 ...........\n",
      "[CV]  min_samples_split=5, min_samples_leaf=2, max_depth=70, total=  13.4s\n",
      "[CV] min_samples_split=5, min_samples_leaf=2, max_depth=70 ...........\n",
      "[CV]  min_samples_split=5, min_samples_leaf=2, max_depth=70, total=  16.3s\n",
      "[CV] min_samples_split=5, min_samples_leaf=2, max_depth=70 ...........\n",
      "[CV]  min_samples_split=5, min_samples_leaf=2, max_depth=70, total=  21.0s\n",
      "[CV] min_samples_split=2, min_samples_leaf=2, max_depth=60 ...........\n",
      "[CV]  min_samples_split=2, min_samples_leaf=2, max_depth=60, total=   9.8s\n",
      "[CV] min_samples_split=2, min_samples_leaf=2, max_depth=60 ...........\n",
      "[CV]  min_samples_split=2, min_samples_leaf=2, max_depth=60, total=  13.4s\n",
      "[CV] min_samples_split=2, min_samples_leaf=2, max_depth=60 ...........\n",
      "[CV]  min_samples_split=2, min_samples_leaf=2, max_depth=60, total=  20.7s\n",
      "[CV] min_samples_split=2, min_samples_leaf=2, max_depth=110 ..........\n",
      "[CV]  min_samples_split=2, min_samples_leaf=2, max_depth=110, total=   9.8s\n",
      "[CV] min_samples_split=2, min_samples_leaf=2, max_depth=110 ..........\n",
      "[CV]  min_samples_split=2, min_samples_leaf=2, max_depth=110, total=  13.0s\n",
      "[CV] min_samples_split=2, min_samples_leaf=2, max_depth=110 ..........\n",
      "[CV]  min_samples_split=2, min_samples_leaf=2, max_depth=110, total=  23.3s\n",
      "[CV] min_samples_split=2, min_samples_leaf=2, max_depth=70 ...........\n",
      "[CV]  min_samples_split=2, min_samples_leaf=2, max_depth=70, total=  10.1s\n",
      "[CV] min_samples_split=2, min_samples_leaf=2, max_depth=70 ...........\n",
      "[CV]  min_samples_split=2, min_samples_leaf=2, max_depth=70, total=  13.1s\n",
      "[CV] min_samples_split=2, min_samples_leaf=2, max_depth=70 ...........\n",
      "[CV]  min_samples_split=2, min_samples_leaf=2, max_depth=70, total=  21.4s\n",
      "[CV] min_samples_split=2, min_samples_leaf=2, max_depth=90 ...........\n",
      "[CV]  min_samples_split=2, min_samples_leaf=2, max_depth=90, total=   9.7s\n",
      "[CV] min_samples_split=2, min_samples_leaf=2, max_depth=90 ...........\n",
      "[CV]  min_samples_split=2, min_samples_leaf=2, max_depth=90, total=  18.5s\n",
      "[CV] min_samples_split=2, min_samples_leaf=2, max_depth=90 ...........\n",
      "[CV]  min_samples_split=2, min_samples_leaf=2, max_depth=90, total=  23.4s\n",
      "[CV] min_samples_split=10, min_samples_leaf=2, max_depth=40 ..........\n",
      "[CV]  min_samples_split=10, min_samples_leaf=2, max_depth=40, total=  12.3s\n",
      "[CV] min_samples_split=10, min_samples_leaf=2, max_depth=40 ..........\n",
      "[CV]  min_samples_split=10, min_samples_leaf=2, max_depth=40, total=  13.0s\n",
      "[CV] min_samples_split=10, min_samples_leaf=2, max_depth=40 ..........\n",
      "[CV]  min_samples_split=10, min_samples_leaf=2, max_depth=40, total=  26.0s\n",
      "[CV] min_samples_split=10, min_samples_leaf=1, max_depth=None ........\n",
      "[CV]  min_samples_split=10, min_samples_leaf=1, max_depth=None, total=  18.6s\n",
      "[CV] min_samples_split=10, min_samples_leaf=1, max_depth=None ........\n",
      "[CV]  min_samples_split=10, min_samples_leaf=1, max_depth=None, total=  22.9s\n",
      "[CV] min_samples_split=10, min_samples_leaf=1, max_depth=None ........\n",
      "[CV]  min_samples_split=10, min_samples_leaf=1, max_depth=None, total=  33.4s\n",
      "[CV] min_samples_split=10, min_samples_leaf=2, max_depth=70 ..........\n",
      "[CV]  min_samples_split=10, min_samples_leaf=2, max_depth=70, total=  15.5s\n",
      "[CV] min_samples_split=10, min_samples_leaf=2, max_depth=70 ..........\n",
      "[CV]  min_samples_split=10, min_samples_leaf=2, max_depth=70, total=  18.6s\n",
      "[CV] min_samples_split=10, min_samples_leaf=2, max_depth=70 ..........\n",
      "[CV]  min_samples_split=10, min_samples_leaf=2, max_depth=70, total=  26.2s\n",
      "[CV] min_samples_split=2, min_samples_leaf=1, max_depth=80 ...........\n",
      "[CV]  min_samples_split=2, min_samples_leaf=1, max_depth=80, total=  27.4s\n",
      "[CV] min_samples_split=2, min_samples_leaf=1, max_depth=80 ...........\n",
      "[CV]  min_samples_split=2, min_samples_leaf=1, max_depth=80, total=  17.1s\n",
      "[CV] min_samples_split=2, min_samples_leaf=1, max_depth=80 ...........\n",
      "[CV]  min_samples_split=2, min_samples_leaf=1, max_depth=80, total=  29.5s\n",
      "[CV] min_samples_split=5, min_samples_leaf=1, max_depth=110 ..........\n",
      "[CV]  min_samples_split=5, min_samples_leaf=1, max_depth=110, total=  16.3s\n",
      "[CV] min_samples_split=5, min_samples_leaf=1, max_depth=110 ..........\n",
      "[CV]  min_samples_split=5, min_samples_leaf=1, max_depth=110, total=  21.8s\n",
      "[CV] min_samples_split=5, min_samples_leaf=1, max_depth=110 ..........\n",
      "[CV]  min_samples_split=5, min_samples_leaf=1, max_depth=110, total=  34.1s\n",
      "[CV] min_samples_split=5, min_samples_leaf=1, max_depth=50 ...........\n",
      "[CV]  min_samples_split=5, min_samples_leaf=1, max_depth=50, total=  17.5s\n",
      "[CV] min_samples_split=5, min_samples_leaf=1, max_depth=50 ...........\n",
      "[CV]  min_samples_split=5, min_samples_leaf=1, max_depth=50, total=  22.3s\n",
      "[CV] min_samples_split=5, min_samples_leaf=1, max_depth=50 ...........\n",
      "[CV]  min_samples_split=5, min_samples_leaf=1, max_depth=50, total=  34.0s\n",
      "[CV] min_samples_split=10, min_samples_leaf=1, max_depth=40 ..........\n",
      "[CV]  min_samples_split=10, min_samples_leaf=1, max_depth=40, total=  22.7s\n",
      "[CV] min_samples_split=10, min_samples_leaf=1, max_depth=40 ..........\n",
      "[CV]  min_samples_split=10, min_samples_leaf=1, max_depth=40, total=  24.1s\n",
      "[CV] min_samples_split=10, min_samples_leaf=1, max_depth=40 ..........\n",
      "[CV]  min_samples_split=10, min_samples_leaf=1, max_depth=40, total=  29.8s\n",
      "[CV] min_samples_split=2, min_samples_leaf=4, max_depth=110 ..........\n",
      "[CV]  min_samples_split=2, min_samples_leaf=4, max_depth=110, total=   8.3s\n",
      "[CV] min_samples_split=2, min_samples_leaf=4, max_depth=110 ..........\n",
      "[CV]  min_samples_split=2, min_samples_leaf=4, max_depth=110, total=  13.7s\n",
      "[CV] min_samples_split=2, min_samples_leaf=4, max_depth=110 ..........\n",
      "[CV]  min_samples_split=2, min_samples_leaf=4, max_depth=110, total=  16.5s\n",
      "[CV] min_samples_split=5, min_samples_leaf=1, max_depth=10 ...........\n",
      "[CV]  min_samples_split=5, min_samples_leaf=1, max_depth=10, total=  14.9s\n",
      "[CV] min_samples_split=5, min_samples_leaf=1, max_depth=10 ...........\n",
      "[CV]  min_samples_split=5, min_samples_leaf=1, max_depth=10, total=  20.0s\n",
      "[CV] min_samples_split=5, min_samples_leaf=1, max_depth=10 ...........\n",
      "[CV]  min_samples_split=5, min_samples_leaf=1, max_depth=10, total=  33.7s\n",
      "[CV] min_samples_split=5, min_samples_leaf=4, max_depth=60 ...........\n",
      "[CV]  min_samples_split=5, min_samples_leaf=4, max_depth=60, total=   8.3s\n",
      "[CV] min_samples_split=5, min_samples_leaf=4, max_depth=60 ...........\n",
      "[CV]  min_samples_split=5, min_samples_leaf=4, max_depth=60, total=  11.1s\n",
      "[CV] min_samples_split=5, min_samples_leaf=4, max_depth=60 ...........\n",
      "[CV]  min_samples_split=5, min_samples_leaf=4, max_depth=60, total=  16.3s\n",
      "[CV] min_samples_split=2, min_samples_leaf=2, max_depth=30 ...........\n",
      "[CV]  min_samples_split=2, min_samples_leaf=2, max_depth=30, total=   9.7s\n",
      "[CV] min_samples_split=2, min_samples_leaf=2, max_depth=30 ...........\n",
      "[CV]  min_samples_split=2, min_samples_leaf=2, max_depth=30, total=  15.9s\n",
      "[CV] min_samples_split=2, min_samples_leaf=2, max_depth=30 ...........\n"
     ]
    },
    {
     "name": "stdout",
     "output_type": "stream",
     "text": [
      "[CV]  min_samples_split=2, min_samples_leaf=2, max_depth=30, total=  23.9s\n",
      "[CV] min_samples_split=10, min_samples_leaf=1, max_depth=10 ..........\n",
      "[CV]  min_samples_split=10, min_samples_leaf=1, max_depth=10, total=  18.1s\n",
      "[CV] min_samples_split=10, min_samples_leaf=1, max_depth=10 ..........\n",
      "[CV]  min_samples_split=10, min_samples_leaf=1, max_depth=10, total=  28.6s\n",
      "[CV] min_samples_split=10, min_samples_leaf=1, max_depth=10 ..........\n",
      "[CV]  min_samples_split=10, min_samples_leaf=1, max_depth=10, total=  35.2s\n",
      "[CV] min_samples_split=10, min_samples_leaf=2, max_depth=30 ..........\n",
      "[CV]  min_samples_split=10, min_samples_leaf=2, max_depth=30, total=   9.7s\n",
      "[CV] min_samples_split=10, min_samples_leaf=2, max_depth=30 ..........\n",
      "[CV]  min_samples_split=10, min_samples_leaf=2, max_depth=30, total=  13.0s\n",
      "[CV] min_samples_split=10, min_samples_leaf=2, max_depth=30 ..........\n",
      "[CV]  min_samples_split=10, min_samples_leaf=2, max_depth=30, total=  26.7s\n",
      "[CV] min_samples_split=2, min_samples_leaf=4, max_depth=100 ..........\n",
      "[CV]  min_samples_split=2, min_samples_leaf=4, max_depth=100, total=   8.4s\n",
      "[CV] min_samples_split=2, min_samples_leaf=4, max_depth=100 ..........\n",
      "[CV]  min_samples_split=2, min_samples_leaf=4, max_depth=100, total=  13.8s\n",
      "[CV] min_samples_split=2, min_samples_leaf=4, max_depth=100 ..........\n",
      "[CV]  min_samples_split=2, min_samples_leaf=4, max_depth=100, total=  24.1s\n",
      "[CV] min_samples_split=10, min_samples_leaf=4, max_depth=110 .........\n",
      "[CV]  min_samples_split=10, min_samples_leaf=4, max_depth=110, total=  10.6s\n",
      "[CV] min_samples_split=10, min_samples_leaf=4, max_depth=110 .........\n",
      "[CV]  min_samples_split=10, min_samples_leaf=4, max_depth=110, total=  13.8s\n",
      "[CV] min_samples_split=10, min_samples_leaf=4, max_depth=110 .........\n",
      "[CV]  min_samples_split=10, min_samples_leaf=4, max_depth=110, total=  21.6s\n",
      "[CV] min_samples_split=10, min_samples_leaf=1, max_depth=90 ..........\n",
      "[CV]  min_samples_split=10, min_samples_leaf=1, max_depth=90, total=  18.3s\n",
      "[CV] min_samples_split=10, min_samples_leaf=1, max_depth=90 ..........\n",
      "[CV]  min_samples_split=10, min_samples_leaf=1, max_depth=90, total=  21.6s\n",
      "[CV] min_samples_split=10, min_samples_leaf=1, max_depth=90 ..........\n",
      "[CV]  min_samples_split=10, min_samples_leaf=1, max_depth=90, total=  33.6s\n",
      "[CV] min_samples_split=10, min_samples_leaf=2, max_depth=100 .........\n",
      "[CV]  min_samples_split=10, min_samples_leaf=2, max_depth=100, total=   9.7s\n",
      "[CV] min_samples_split=10, min_samples_leaf=2, max_depth=100 .........\n",
      "[CV]  min_samples_split=10, min_samples_leaf=2, max_depth=100, total=  15.7s\n",
      "[CV] min_samples_split=10, min_samples_leaf=2, max_depth=100 .........\n",
      "[CV]  min_samples_split=10, min_samples_leaf=2, max_depth=100, total=  24.2s\n"
     ]
    },
    {
     "name": "stderr",
     "output_type": "stream",
     "text": [
      "[Parallel(n_jobs=1)]: Done 300 out of 300 | elapsed: 91.2min finished\n"
     ]
    },
    {
     "data": {
      "text/plain": [
       "RandomizedSearchCV(cv=3, error_score='raise-deprecating',\n",
       "                   estimator=DecisionTreeRegressor(criterion='mae',\n",
       "                                                   max_depth=None,\n",
       "                                                   max_features=None,\n",
       "                                                   max_leaf_nodes=None,\n",
       "                                                   min_impurity_decrease=0.0,\n",
       "                                                   min_impurity_split=None,\n",
       "                                                   min_samples_leaf=1,\n",
       "                                                   min_samples_split=2,\n",
       "                                                   min_weight_fraction_leaf=0.0,\n",
       "                                                   presort=False,\n",
       "                                                   random_state=None,\n",
       "                                                   splitter='best'),\n",
       "                   iid='warn', n_iter=100, n_jobs=None,\n",
       "                   param_distributions={'max_depth': [10, 20, 30, 40, 50, 60,\n",
       "                                                      70, 80, 90, 100, 110,\n",
       "                                                      None],\n",
       "                                        'min_samples_leaf': [1, 2, 4],\n",
       "                                        'min_samples_split': [2, 5, 10]},\n",
       "                   pre_dispatch='2*n_jobs', random_state=42, refit=True,\n",
       "                   return_train_score=False, scoring=None, verbose=2)"
      ]
     },
     "execution_count": 259,
     "metadata": {},
     "output_type": "execute_result"
    }
   ],
   "source": [
    "dt_random.fit(X_train,Y_train)"
   ]
  },
  {
   "cell_type": "code",
   "execution_count": 261,
   "metadata": {},
   "outputs": [
    {
     "data": {
      "text/plain": [
       "{'min_samples_split': 2, 'min_samples_leaf': 4, 'max_depth': 80}"
      ]
     },
     "execution_count": 261,
     "metadata": {},
     "output_type": "execute_result"
    }
   ],
   "source": [
    "dt_random.best_params_"
   ]
  },
  {
   "cell_type": "code",
   "execution_count": 262,
   "metadata": {},
   "outputs": [],
   "source": [
    "regr4 = DecisionTreeRegressor(criterion='mae',min_samples_split =2,min_samples_leaf=4,max_depth=80)"
   ]
  },
  {
   "cell_type": "code",
   "execution_count": 263,
   "metadata": {},
   "outputs": [
    {
     "data": {
      "text/plain": [
       "DecisionTreeRegressor(criterion='mae', max_depth=80, max_features=None,\n",
       "                      max_leaf_nodes=None, min_impurity_decrease=0.0,\n",
       "                      min_impurity_split=None, min_samples_leaf=4,\n",
       "                      min_samples_split=2, min_weight_fraction_leaf=0.0,\n",
       "                      presort=False, random_state=None, splitter='best')"
      ]
     },
     "execution_count": 263,
     "metadata": {},
     "output_type": "execute_result"
    }
   ],
   "source": [
    "regr4.fit(X_train,Y_train)"
   ]
  },
  {
   "cell_type": "code",
   "execution_count": 267,
   "metadata": {},
   "outputs": [
    {
     "data": {
      "text/plain": [
       "0.9509013605442179"
      ]
     },
     "execution_count": 267,
     "metadata": {},
     "output_type": "execute_result"
    }
   ],
   "source": [
    "y_pred = regr4.predict(X_test)\n",
    "mean_absolute_error(Y_test,y_pred)"
   ]
  },
  {
   "cell_type": "code",
   "execution_count": 250,
   "metadata": {},
   "outputs": [],
   "source": [
    "from sklearn.ensemble import RandomForestRegressor\n",
    "\n",
    "regr1 =RandomForestRegressor(criterion='mae')"
   ]
  },
  {
   "cell_type": "code",
   "execution_count": 251,
   "metadata": {},
   "outputs": [
    {
     "data": {
      "text/plain": [
       "RandomForestRegressor(bootstrap=True, criterion='mae', max_depth=None,\n",
       "                      max_features='auto', max_leaf_nodes=None,\n",
       "                      min_impurity_decrease=0.0, min_impurity_split=None,\n",
       "                      min_samples_leaf=1, min_samples_split=2,\n",
       "                      min_weight_fraction_leaf=0.0, n_estimators=10,\n",
       "                      n_jobs=None, oob_score=False, random_state=None,\n",
       "                      verbose=0, warm_start=False)"
      ]
     },
     "execution_count": 251,
     "metadata": {},
     "output_type": "execute_result"
    }
   ],
   "source": [
    "regr1.fit(X_train,Y_train)"
   ]
  },
  {
   "cell_type": "code",
   "execution_count": 252,
   "metadata": {},
   "outputs": [
    {
     "data": {
      "text/plain": [
       "0.9502872841444271"
      ]
     },
     "execution_count": 252,
     "metadata": {},
     "output_type": "execute_result"
    }
   ],
   "source": [
    "y_pred = regr1.predict(X_test)\n",
    "\n",
    "mean_absolute_error(Y_test,y_pred)"
   ]
  },
  {
   "cell_type": "code",
   "execution_count": 253,
   "metadata": {},
   "outputs": [],
   "source": [
    "from sklearn.model_selection import RandomizedSearchCV\n",
    "\n",
    "n_estimators = [int(x) for x in np.linspace(start = 20, stop = 500, num = 10)]\n",
    "max_depth = [int(x) for x in np.linspace(10, 110, num = 11)]\n",
    "max_depth.append(None)\n",
    "min_samples_split = [2, 5, 10]\n",
    "min_samples_leaf = [1, 2, 4]\n",
    "bootstrap = [True, False]\n",
    "random_grid = {'n_estimators': n_estimators,\n",
    "               'max_depth': max_depth,\n",
    "               'min_samples_split': min_samples_split,\n",
    "               'min_samples_leaf': min_samples_leaf,\n",
    "               'bootstrap': bootstrap}"
   ]
  },
  {
   "cell_type": "code",
   "execution_count": 254,
   "metadata": {},
   "outputs": [],
   "source": [
    "from sklearn.model_selection import RandomizedSearchCV\n",
    "rf_random = RandomizedSearchCV(estimator = regr1, param_distributions = random_grid, n_iter = 100, cv = 3, verbose=2, random_state=42)"
   ]
  },
  {
   "cell_type": "code",
   "execution_count": 255,
   "metadata": {},
   "outputs": [
    {
     "name": "stdout",
     "output_type": "stream",
     "text": [
      "Fitting 3 folds for each of 100 candidates, totalling 300 fits\n",
      "[CV] n_estimators=500, min_samples_split=2, min_samples_leaf=1, max_depth=None, bootstrap=False \n"
     ]
    },
    {
     "name": "stderr",
     "output_type": "stream",
     "text": [
      "[Parallel(n_jobs=1)]: Using backend SequentialBackend with 1 concurrent workers.\n"
     ]
    },
    {
     "ename": "KeyboardInterrupt",
     "evalue": "",
     "output_type": "error",
     "traceback": [
      "\u001b[1;31m---------------------------------------------------------------------------\u001b[0m",
      "\u001b[1;31mKeyboardInterrupt\u001b[0m                         Traceback (most recent call last)",
      "\u001b[1;32m<ipython-input-255-571606fb0d0a>\u001b[0m in \u001b[0;36m<module>\u001b[1;34m\u001b[0m\n\u001b[1;32m----> 1\u001b[1;33m \u001b[0mrf_random\u001b[0m\u001b[1;33m.\u001b[0m\u001b[0mfit\u001b[0m\u001b[1;33m(\u001b[0m\u001b[0mX_train\u001b[0m\u001b[1;33m,\u001b[0m\u001b[0mY_train\u001b[0m\u001b[1;33m)\u001b[0m\u001b[1;33m\u001b[0m\u001b[1;33m\u001b[0m\u001b[0m\n\u001b[0m",
      "\u001b[1;32mC:\\ProgramData\\Anaconda3\\lib\\site-packages\\sklearn\\model_selection\\_search.py\u001b[0m in \u001b[0;36mfit\u001b[1;34m(self, X, y, groups, **fit_params)\u001b[0m\n\u001b[0;32m    685\u001b[0m                 \u001b[1;32mreturn\u001b[0m \u001b[0mresults\u001b[0m\u001b[1;33m\u001b[0m\u001b[1;33m\u001b[0m\u001b[0m\n\u001b[0;32m    686\u001b[0m \u001b[1;33m\u001b[0m\u001b[0m\n\u001b[1;32m--> 687\u001b[1;33m             \u001b[0mself\u001b[0m\u001b[1;33m.\u001b[0m\u001b[0m_run_search\u001b[0m\u001b[1;33m(\u001b[0m\u001b[0mevaluate_candidates\u001b[0m\u001b[1;33m)\u001b[0m\u001b[1;33m\u001b[0m\u001b[1;33m\u001b[0m\u001b[0m\n\u001b[0m\u001b[0;32m    688\u001b[0m \u001b[1;33m\u001b[0m\u001b[0m\n\u001b[0;32m    689\u001b[0m         \u001b[1;31m# For multi-metric evaluation, store the best_index_, best_params_ and\u001b[0m\u001b[1;33m\u001b[0m\u001b[1;33m\u001b[0m\u001b[1;33m\u001b[0m\u001b[0m\n",
      "\u001b[1;32mC:\\ProgramData\\Anaconda3\\lib\\site-packages\\sklearn\\model_selection\\_search.py\u001b[0m in \u001b[0;36m_run_search\u001b[1;34m(self, evaluate_candidates)\u001b[0m\n\u001b[0;32m   1466\u001b[0m         evaluate_candidates(ParameterSampler(\n\u001b[0;32m   1467\u001b[0m             \u001b[0mself\u001b[0m\u001b[1;33m.\u001b[0m\u001b[0mparam_distributions\u001b[0m\u001b[1;33m,\u001b[0m \u001b[0mself\u001b[0m\u001b[1;33m.\u001b[0m\u001b[0mn_iter\u001b[0m\u001b[1;33m,\u001b[0m\u001b[1;33m\u001b[0m\u001b[1;33m\u001b[0m\u001b[0m\n\u001b[1;32m-> 1468\u001b[1;33m             random_state=self.random_state))\n\u001b[0m",
      "\u001b[1;32mC:\\ProgramData\\Anaconda3\\lib\\site-packages\\sklearn\\model_selection\\_search.py\u001b[0m in \u001b[0;36mevaluate_candidates\u001b[1;34m(candidate_params)\u001b[0m\n\u001b[0;32m    664\u001b[0m                                \u001b[1;32mfor\u001b[0m \u001b[0mparameters\u001b[0m\u001b[1;33m,\u001b[0m \u001b[1;33m(\u001b[0m\u001b[0mtrain\u001b[0m\u001b[1;33m,\u001b[0m \u001b[0mtest\u001b[0m\u001b[1;33m)\u001b[0m\u001b[1;33m\u001b[0m\u001b[1;33m\u001b[0m\u001b[0m\n\u001b[0;32m    665\u001b[0m                                in product(candidate_params,\n\u001b[1;32m--> 666\u001b[1;33m                                           cv.split(X, y, groups)))\n\u001b[0m\u001b[0;32m    667\u001b[0m \u001b[1;33m\u001b[0m\u001b[0m\n\u001b[0;32m    668\u001b[0m                 \u001b[1;32mif\u001b[0m \u001b[0mlen\u001b[0m\u001b[1;33m(\u001b[0m\u001b[0mout\u001b[0m\u001b[1;33m)\u001b[0m \u001b[1;33m<\u001b[0m \u001b[1;36m1\u001b[0m\u001b[1;33m:\u001b[0m\u001b[1;33m\u001b[0m\u001b[1;33m\u001b[0m\u001b[0m\n",
      "\u001b[1;32mC:\\ProgramData\\Anaconda3\\lib\\site-packages\\joblib\\parallel.py\u001b[0m in \u001b[0;36m__call__\u001b[1;34m(self, iterable)\u001b[0m\n\u001b[0;32m    919\u001b[0m             \u001b[1;31m# remaining jobs.\u001b[0m\u001b[1;33m\u001b[0m\u001b[1;33m\u001b[0m\u001b[1;33m\u001b[0m\u001b[0m\n\u001b[0;32m    920\u001b[0m             \u001b[0mself\u001b[0m\u001b[1;33m.\u001b[0m\u001b[0m_iterating\u001b[0m \u001b[1;33m=\u001b[0m \u001b[1;32mFalse\u001b[0m\u001b[1;33m\u001b[0m\u001b[1;33m\u001b[0m\u001b[0m\n\u001b[1;32m--> 921\u001b[1;33m             \u001b[1;32mif\u001b[0m \u001b[0mself\u001b[0m\u001b[1;33m.\u001b[0m\u001b[0mdispatch_one_batch\u001b[0m\u001b[1;33m(\u001b[0m\u001b[0miterator\u001b[0m\u001b[1;33m)\u001b[0m\u001b[1;33m:\u001b[0m\u001b[1;33m\u001b[0m\u001b[1;33m\u001b[0m\u001b[0m\n\u001b[0m\u001b[0;32m    922\u001b[0m                 \u001b[0mself\u001b[0m\u001b[1;33m.\u001b[0m\u001b[0m_iterating\u001b[0m \u001b[1;33m=\u001b[0m \u001b[0mself\u001b[0m\u001b[1;33m.\u001b[0m\u001b[0m_original_iterator\u001b[0m \u001b[1;32mis\u001b[0m \u001b[1;32mnot\u001b[0m \u001b[1;32mNone\u001b[0m\u001b[1;33m\u001b[0m\u001b[1;33m\u001b[0m\u001b[0m\n\u001b[0;32m    923\u001b[0m \u001b[1;33m\u001b[0m\u001b[0m\n",
      "\u001b[1;32mC:\\ProgramData\\Anaconda3\\lib\\site-packages\\joblib\\parallel.py\u001b[0m in \u001b[0;36mdispatch_one_batch\u001b[1;34m(self, iterator)\u001b[0m\n\u001b[0;32m    757\u001b[0m                 \u001b[1;32mreturn\u001b[0m \u001b[1;32mFalse\u001b[0m\u001b[1;33m\u001b[0m\u001b[1;33m\u001b[0m\u001b[0m\n\u001b[0;32m    758\u001b[0m             \u001b[1;32melse\u001b[0m\u001b[1;33m:\u001b[0m\u001b[1;33m\u001b[0m\u001b[1;33m\u001b[0m\u001b[0m\n\u001b[1;32m--> 759\u001b[1;33m                 \u001b[0mself\u001b[0m\u001b[1;33m.\u001b[0m\u001b[0m_dispatch\u001b[0m\u001b[1;33m(\u001b[0m\u001b[0mtasks\u001b[0m\u001b[1;33m)\u001b[0m\u001b[1;33m\u001b[0m\u001b[1;33m\u001b[0m\u001b[0m\n\u001b[0m\u001b[0;32m    760\u001b[0m                 \u001b[1;32mreturn\u001b[0m \u001b[1;32mTrue\u001b[0m\u001b[1;33m\u001b[0m\u001b[1;33m\u001b[0m\u001b[0m\n\u001b[0;32m    761\u001b[0m \u001b[1;33m\u001b[0m\u001b[0m\n",
      "\u001b[1;32mC:\\ProgramData\\Anaconda3\\lib\\site-packages\\joblib\\parallel.py\u001b[0m in \u001b[0;36m_dispatch\u001b[1;34m(self, batch)\u001b[0m\n\u001b[0;32m    714\u001b[0m         \u001b[1;32mwith\u001b[0m \u001b[0mself\u001b[0m\u001b[1;33m.\u001b[0m\u001b[0m_lock\u001b[0m\u001b[1;33m:\u001b[0m\u001b[1;33m\u001b[0m\u001b[1;33m\u001b[0m\u001b[0m\n\u001b[0;32m    715\u001b[0m             \u001b[0mjob_idx\u001b[0m \u001b[1;33m=\u001b[0m \u001b[0mlen\u001b[0m\u001b[1;33m(\u001b[0m\u001b[0mself\u001b[0m\u001b[1;33m.\u001b[0m\u001b[0m_jobs\u001b[0m\u001b[1;33m)\u001b[0m\u001b[1;33m\u001b[0m\u001b[1;33m\u001b[0m\u001b[0m\n\u001b[1;32m--> 716\u001b[1;33m             \u001b[0mjob\u001b[0m \u001b[1;33m=\u001b[0m \u001b[0mself\u001b[0m\u001b[1;33m.\u001b[0m\u001b[0m_backend\u001b[0m\u001b[1;33m.\u001b[0m\u001b[0mapply_async\u001b[0m\u001b[1;33m(\u001b[0m\u001b[0mbatch\u001b[0m\u001b[1;33m,\u001b[0m \u001b[0mcallback\u001b[0m\u001b[1;33m=\u001b[0m\u001b[0mcb\u001b[0m\u001b[1;33m)\u001b[0m\u001b[1;33m\u001b[0m\u001b[1;33m\u001b[0m\u001b[0m\n\u001b[0m\u001b[0;32m    717\u001b[0m             \u001b[1;31m# A job can complete so quickly than its callback is\u001b[0m\u001b[1;33m\u001b[0m\u001b[1;33m\u001b[0m\u001b[1;33m\u001b[0m\u001b[0m\n\u001b[0;32m    718\u001b[0m             \u001b[1;31m# called before we get here, causing self._jobs to\u001b[0m\u001b[1;33m\u001b[0m\u001b[1;33m\u001b[0m\u001b[1;33m\u001b[0m\u001b[0m\n",
      "\u001b[1;32mC:\\ProgramData\\Anaconda3\\lib\\site-packages\\joblib\\_parallel_backends.py\u001b[0m in \u001b[0;36mapply_async\u001b[1;34m(self, func, callback)\u001b[0m\n\u001b[0;32m    180\u001b[0m     \u001b[1;32mdef\u001b[0m \u001b[0mapply_async\u001b[0m\u001b[1;33m(\u001b[0m\u001b[0mself\u001b[0m\u001b[1;33m,\u001b[0m \u001b[0mfunc\u001b[0m\u001b[1;33m,\u001b[0m \u001b[0mcallback\u001b[0m\u001b[1;33m=\u001b[0m\u001b[1;32mNone\u001b[0m\u001b[1;33m)\u001b[0m\u001b[1;33m:\u001b[0m\u001b[1;33m\u001b[0m\u001b[1;33m\u001b[0m\u001b[0m\n\u001b[0;32m    181\u001b[0m         \u001b[1;34m\"\"\"Schedule a func to be run\"\"\"\u001b[0m\u001b[1;33m\u001b[0m\u001b[1;33m\u001b[0m\u001b[0m\n\u001b[1;32m--> 182\u001b[1;33m         \u001b[0mresult\u001b[0m \u001b[1;33m=\u001b[0m \u001b[0mImmediateResult\u001b[0m\u001b[1;33m(\u001b[0m\u001b[0mfunc\u001b[0m\u001b[1;33m)\u001b[0m\u001b[1;33m\u001b[0m\u001b[1;33m\u001b[0m\u001b[0m\n\u001b[0m\u001b[0;32m    183\u001b[0m         \u001b[1;32mif\u001b[0m \u001b[0mcallback\u001b[0m\u001b[1;33m:\u001b[0m\u001b[1;33m\u001b[0m\u001b[1;33m\u001b[0m\u001b[0m\n\u001b[0;32m    184\u001b[0m             \u001b[0mcallback\u001b[0m\u001b[1;33m(\u001b[0m\u001b[0mresult\u001b[0m\u001b[1;33m)\u001b[0m\u001b[1;33m\u001b[0m\u001b[1;33m\u001b[0m\u001b[0m\n",
      "\u001b[1;32mC:\\ProgramData\\Anaconda3\\lib\\site-packages\\joblib\\_parallel_backends.py\u001b[0m in \u001b[0;36m__init__\u001b[1;34m(self, batch)\u001b[0m\n\u001b[0;32m    547\u001b[0m         \u001b[1;31m# Don't delay the application, to avoid keeping the input\u001b[0m\u001b[1;33m\u001b[0m\u001b[1;33m\u001b[0m\u001b[1;33m\u001b[0m\u001b[0m\n\u001b[0;32m    548\u001b[0m         \u001b[1;31m# arguments in memory\u001b[0m\u001b[1;33m\u001b[0m\u001b[1;33m\u001b[0m\u001b[1;33m\u001b[0m\u001b[0m\n\u001b[1;32m--> 549\u001b[1;33m         \u001b[0mself\u001b[0m\u001b[1;33m.\u001b[0m\u001b[0mresults\u001b[0m \u001b[1;33m=\u001b[0m \u001b[0mbatch\u001b[0m\u001b[1;33m(\u001b[0m\u001b[1;33m)\u001b[0m\u001b[1;33m\u001b[0m\u001b[1;33m\u001b[0m\u001b[0m\n\u001b[0m\u001b[0;32m    550\u001b[0m \u001b[1;33m\u001b[0m\u001b[0m\n\u001b[0;32m    551\u001b[0m     \u001b[1;32mdef\u001b[0m \u001b[0mget\u001b[0m\u001b[1;33m(\u001b[0m\u001b[0mself\u001b[0m\u001b[1;33m)\u001b[0m\u001b[1;33m:\u001b[0m\u001b[1;33m\u001b[0m\u001b[1;33m\u001b[0m\u001b[0m\n",
      "\u001b[1;32mC:\\ProgramData\\Anaconda3\\lib\\site-packages\\joblib\\parallel.py\u001b[0m in \u001b[0;36m__call__\u001b[1;34m(self)\u001b[0m\n\u001b[0;32m    223\u001b[0m         \u001b[1;32mwith\u001b[0m \u001b[0mparallel_backend\u001b[0m\u001b[1;33m(\u001b[0m\u001b[0mself\u001b[0m\u001b[1;33m.\u001b[0m\u001b[0m_backend\u001b[0m\u001b[1;33m,\u001b[0m \u001b[0mn_jobs\u001b[0m\u001b[1;33m=\u001b[0m\u001b[0mself\u001b[0m\u001b[1;33m.\u001b[0m\u001b[0m_n_jobs\u001b[0m\u001b[1;33m)\u001b[0m\u001b[1;33m:\u001b[0m\u001b[1;33m\u001b[0m\u001b[1;33m\u001b[0m\u001b[0m\n\u001b[0;32m    224\u001b[0m             return [func(*args, **kwargs)\n\u001b[1;32m--> 225\u001b[1;33m                     for func, args, kwargs in self.items]\n\u001b[0m\u001b[0;32m    226\u001b[0m \u001b[1;33m\u001b[0m\u001b[0m\n\u001b[0;32m    227\u001b[0m     \u001b[1;32mdef\u001b[0m \u001b[0m__len__\u001b[0m\u001b[1;33m(\u001b[0m\u001b[0mself\u001b[0m\u001b[1;33m)\u001b[0m\u001b[1;33m:\u001b[0m\u001b[1;33m\u001b[0m\u001b[1;33m\u001b[0m\u001b[0m\n",
      "\u001b[1;32mC:\\ProgramData\\Anaconda3\\lib\\site-packages\\joblib\\parallel.py\u001b[0m in \u001b[0;36m<listcomp>\u001b[1;34m(.0)\u001b[0m\n\u001b[0;32m    223\u001b[0m         \u001b[1;32mwith\u001b[0m \u001b[0mparallel_backend\u001b[0m\u001b[1;33m(\u001b[0m\u001b[0mself\u001b[0m\u001b[1;33m.\u001b[0m\u001b[0m_backend\u001b[0m\u001b[1;33m,\u001b[0m \u001b[0mn_jobs\u001b[0m\u001b[1;33m=\u001b[0m\u001b[0mself\u001b[0m\u001b[1;33m.\u001b[0m\u001b[0m_n_jobs\u001b[0m\u001b[1;33m)\u001b[0m\u001b[1;33m:\u001b[0m\u001b[1;33m\u001b[0m\u001b[1;33m\u001b[0m\u001b[0m\n\u001b[0;32m    224\u001b[0m             return [func(*args, **kwargs)\n\u001b[1;32m--> 225\u001b[1;33m                     for func, args, kwargs in self.items]\n\u001b[0m\u001b[0;32m    226\u001b[0m \u001b[1;33m\u001b[0m\u001b[0m\n\u001b[0;32m    227\u001b[0m     \u001b[1;32mdef\u001b[0m \u001b[0m__len__\u001b[0m\u001b[1;33m(\u001b[0m\u001b[0mself\u001b[0m\u001b[1;33m)\u001b[0m\u001b[1;33m:\u001b[0m\u001b[1;33m\u001b[0m\u001b[1;33m\u001b[0m\u001b[0m\n",
      "\u001b[1;32mC:\\ProgramData\\Anaconda3\\lib\\site-packages\\sklearn\\model_selection\\_validation.py\u001b[0m in \u001b[0;36m_fit_and_score\u001b[1;34m(estimator, X, y, scorer, train, test, verbose, parameters, fit_params, return_train_score, return_parameters, return_n_test_samples, return_times, return_estimator, error_score)\u001b[0m\n\u001b[0;32m    512\u001b[0m             \u001b[0mestimator\u001b[0m\u001b[1;33m.\u001b[0m\u001b[0mfit\u001b[0m\u001b[1;33m(\u001b[0m\u001b[0mX_train\u001b[0m\u001b[1;33m,\u001b[0m \u001b[1;33m**\u001b[0m\u001b[0mfit_params\u001b[0m\u001b[1;33m)\u001b[0m\u001b[1;33m\u001b[0m\u001b[1;33m\u001b[0m\u001b[0m\n\u001b[0;32m    513\u001b[0m         \u001b[1;32melse\u001b[0m\u001b[1;33m:\u001b[0m\u001b[1;33m\u001b[0m\u001b[1;33m\u001b[0m\u001b[0m\n\u001b[1;32m--> 514\u001b[1;33m             \u001b[0mestimator\u001b[0m\u001b[1;33m.\u001b[0m\u001b[0mfit\u001b[0m\u001b[1;33m(\u001b[0m\u001b[0mX_train\u001b[0m\u001b[1;33m,\u001b[0m \u001b[0my_train\u001b[0m\u001b[1;33m,\u001b[0m \u001b[1;33m**\u001b[0m\u001b[0mfit_params\u001b[0m\u001b[1;33m)\u001b[0m\u001b[1;33m\u001b[0m\u001b[1;33m\u001b[0m\u001b[0m\n\u001b[0m\u001b[0;32m    515\u001b[0m \u001b[1;33m\u001b[0m\u001b[0m\n\u001b[0;32m    516\u001b[0m     \u001b[1;32mexcept\u001b[0m \u001b[0mException\u001b[0m \u001b[1;32mas\u001b[0m \u001b[0me\u001b[0m\u001b[1;33m:\u001b[0m\u001b[1;33m\u001b[0m\u001b[1;33m\u001b[0m\u001b[0m\n",
      "\u001b[1;32mC:\\ProgramData\\Anaconda3\\lib\\site-packages\\sklearn\\ensemble\\forest.py\u001b[0m in \u001b[0;36mfit\u001b[1;34m(self, X, y, sample_weight)\u001b[0m\n\u001b[0;32m    328\u001b[0m                     \u001b[0mt\u001b[0m\u001b[1;33m,\u001b[0m \u001b[0mself\u001b[0m\u001b[1;33m,\u001b[0m \u001b[0mX\u001b[0m\u001b[1;33m,\u001b[0m \u001b[0my\u001b[0m\u001b[1;33m,\u001b[0m \u001b[0msample_weight\u001b[0m\u001b[1;33m,\u001b[0m \u001b[0mi\u001b[0m\u001b[1;33m,\u001b[0m \u001b[0mlen\u001b[0m\u001b[1;33m(\u001b[0m\u001b[0mtrees\u001b[0m\u001b[1;33m)\u001b[0m\u001b[1;33m,\u001b[0m\u001b[1;33m\u001b[0m\u001b[1;33m\u001b[0m\u001b[0m\n\u001b[0;32m    329\u001b[0m                     verbose=self.verbose, class_weight=self.class_weight)\n\u001b[1;32m--> 330\u001b[1;33m                 for i, t in enumerate(trees))\n\u001b[0m\u001b[0;32m    331\u001b[0m \u001b[1;33m\u001b[0m\u001b[0m\n\u001b[0;32m    332\u001b[0m             \u001b[1;31m# Collect newly grown trees\u001b[0m\u001b[1;33m\u001b[0m\u001b[1;33m\u001b[0m\u001b[1;33m\u001b[0m\u001b[0m\n",
      "\u001b[1;32mC:\\ProgramData\\Anaconda3\\lib\\site-packages\\joblib\\parallel.py\u001b[0m in \u001b[0;36m__call__\u001b[1;34m(self, iterable)\u001b[0m\n\u001b[0;32m    922\u001b[0m                 \u001b[0mself\u001b[0m\u001b[1;33m.\u001b[0m\u001b[0m_iterating\u001b[0m \u001b[1;33m=\u001b[0m \u001b[0mself\u001b[0m\u001b[1;33m.\u001b[0m\u001b[0m_original_iterator\u001b[0m \u001b[1;32mis\u001b[0m \u001b[1;32mnot\u001b[0m \u001b[1;32mNone\u001b[0m\u001b[1;33m\u001b[0m\u001b[1;33m\u001b[0m\u001b[0m\n\u001b[0;32m    923\u001b[0m \u001b[1;33m\u001b[0m\u001b[0m\n\u001b[1;32m--> 924\u001b[1;33m             \u001b[1;32mwhile\u001b[0m \u001b[0mself\u001b[0m\u001b[1;33m.\u001b[0m\u001b[0mdispatch_one_batch\u001b[0m\u001b[1;33m(\u001b[0m\u001b[0miterator\u001b[0m\u001b[1;33m)\u001b[0m\u001b[1;33m:\u001b[0m\u001b[1;33m\u001b[0m\u001b[1;33m\u001b[0m\u001b[0m\n\u001b[0m\u001b[0;32m    925\u001b[0m                 \u001b[1;32mpass\u001b[0m\u001b[1;33m\u001b[0m\u001b[1;33m\u001b[0m\u001b[0m\n\u001b[0;32m    926\u001b[0m \u001b[1;33m\u001b[0m\u001b[0m\n",
      "\u001b[1;32mC:\\ProgramData\\Anaconda3\\lib\\site-packages\\joblib\\parallel.py\u001b[0m in \u001b[0;36mdispatch_one_batch\u001b[1;34m(self, iterator)\u001b[0m\n\u001b[0;32m    757\u001b[0m                 \u001b[1;32mreturn\u001b[0m \u001b[1;32mFalse\u001b[0m\u001b[1;33m\u001b[0m\u001b[1;33m\u001b[0m\u001b[0m\n\u001b[0;32m    758\u001b[0m             \u001b[1;32melse\u001b[0m\u001b[1;33m:\u001b[0m\u001b[1;33m\u001b[0m\u001b[1;33m\u001b[0m\u001b[0m\n\u001b[1;32m--> 759\u001b[1;33m                 \u001b[0mself\u001b[0m\u001b[1;33m.\u001b[0m\u001b[0m_dispatch\u001b[0m\u001b[1;33m(\u001b[0m\u001b[0mtasks\u001b[0m\u001b[1;33m)\u001b[0m\u001b[1;33m\u001b[0m\u001b[1;33m\u001b[0m\u001b[0m\n\u001b[0m\u001b[0;32m    760\u001b[0m                 \u001b[1;32mreturn\u001b[0m \u001b[1;32mTrue\u001b[0m\u001b[1;33m\u001b[0m\u001b[1;33m\u001b[0m\u001b[0m\n\u001b[0;32m    761\u001b[0m \u001b[1;33m\u001b[0m\u001b[0m\n",
      "\u001b[1;32mC:\\ProgramData\\Anaconda3\\lib\\site-packages\\joblib\\parallel.py\u001b[0m in \u001b[0;36m_dispatch\u001b[1;34m(self, batch)\u001b[0m\n\u001b[0;32m    714\u001b[0m         \u001b[1;32mwith\u001b[0m \u001b[0mself\u001b[0m\u001b[1;33m.\u001b[0m\u001b[0m_lock\u001b[0m\u001b[1;33m:\u001b[0m\u001b[1;33m\u001b[0m\u001b[1;33m\u001b[0m\u001b[0m\n\u001b[0;32m    715\u001b[0m             \u001b[0mjob_idx\u001b[0m \u001b[1;33m=\u001b[0m \u001b[0mlen\u001b[0m\u001b[1;33m(\u001b[0m\u001b[0mself\u001b[0m\u001b[1;33m.\u001b[0m\u001b[0m_jobs\u001b[0m\u001b[1;33m)\u001b[0m\u001b[1;33m\u001b[0m\u001b[1;33m\u001b[0m\u001b[0m\n\u001b[1;32m--> 716\u001b[1;33m             \u001b[0mjob\u001b[0m \u001b[1;33m=\u001b[0m \u001b[0mself\u001b[0m\u001b[1;33m.\u001b[0m\u001b[0m_backend\u001b[0m\u001b[1;33m.\u001b[0m\u001b[0mapply_async\u001b[0m\u001b[1;33m(\u001b[0m\u001b[0mbatch\u001b[0m\u001b[1;33m,\u001b[0m \u001b[0mcallback\u001b[0m\u001b[1;33m=\u001b[0m\u001b[0mcb\u001b[0m\u001b[1;33m)\u001b[0m\u001b[1;33m\u001b[0m\u001b[1;33m\u001b[0m\u001b[0m\n\u001b[0m\u001b[0;32m    717\u001b[0m             \u001b[1;31m# A job can complete so quickly than its callback is\u001b[0m\u001b[1;33m\u001b[0m\u001b[1;33m\u001b[0m\u001b[1;33m\u001b[0m\u001b[0m\n\u001b[0;32m    718\u001b[0m             \u001b[1;31m# called before we get here, causing self._jobs to\u001b[0m\u001b[1;33m\u001b[0m\u001b[1;33m\u001b[0m\u001b[1;33m\u001b[0m\u001b[0m\n",
      "\u001b[1;32mC:\\ProgramData\\Anaconda3\\lib\\site-packages\\joblib\\_parallel_backends.py\u001b[0m in \u001b[0;36mapply_async\u001b[1;34m(self, func, callback)\u001b[0m\n\u001b[0;32m    180\u001b[0m     \u001b[1;32mdef\u001b[0m \u001b[0mapply_async\u001b[0m\u001b[1;33m(\u001b[0m\u001b[0mself\u001b[0m\u001b[1;33m,\u001b[0m \u001b[0mfunc\u001b[0m\u001b[1;33m,\u001b[0m \u001b[0mcallback\u001b[0m\u001b[1;33m=\u001b[0m\u001b[1;32mNone\u001b[0m\u001b[1;33m)\u001b[0m\u001b[1;33m:\u001b[0m\u001b[1;33m\u001b[0m\u001b[1;33m\u001b[0m\u001b[0m\n\u001b[0;32m    181\u001b[0m         \u001b[1;34m\"\"\"Schedule a func to be run\"\"\"\u001b[0m\u001b[1;33m\u001b[0m\u001b[1;33m\u001b[0m\u001b[0m\n\u001b[1;32m--> 182\u001b[1;33m         \u001b[0mresult\u001b[0m \u001b[1;33m=\u001b[0m \u001b[0mImmediateResult\u001b[0m\u001b[1;33m(\u001b[0m\u001b[0mfunc\u001b[0m\u001b[1;33m)\u001b[0m\u001b[1;33m\u001b[0m\u001b[1;33m\u001b[0m\u001b[0m\n\u001b[0m\u001b[0;32m    183\u001b[0m         \u001b[1;32mif\u001b[0m \u001b[0mcallback\u001b[0m\u001b[1;33m:\u001b[0m\u001b[1;33m\u001b[0m\u001b[1;33m\u001b[0m\u001b[0m\n\u001b[0;32m    184\u001b[0m             \u001b[0mcallback\u001b[0m\u001b[1;33m(\u001b[0m\u001b[0mresult\u001b[0m\u001b[1;33m)\u001b[0m\u001b[1;33m\u001b[0m\u001b[1;33m\u001b[0m\u001b[0m\n",
      "\u001b[1;32mC:\\ProgramData\\Anaconda3\\lib\\site-packages\\joblib\\_parallel_backends.py\u001b[0m in \u001b[0;36m__init__\u001b[1;34m(self, batch)\u001b[0m\n\u001b[0;32m    547\u001b[0m         \u001b[1;31m# Don't delay the application, to avoid keeping the input\u001b[0m\u001b[1;33m\u001b[0m\u001b[1;33m\u001b[0m\u001b[1;33m\u001b[0m\u001b[0m\n\u001b[0;32m    548\u001b[0m         \u001b[1;31m# arguments in memory\u001b[0m\u001b[1;33m\u001b[0m\u001b[1;33m\u001b[0m\u001b[1;33m\u001b[0m\u001b[0m\n\u001b[1;32m--> 549\u001b[1;33m         \u001b[0mself\u001b[0m\u001b[1;33m.\u001b[0m\u001b[0mresults\u001b[0m \u001b[1;33m=\u001b[0m \u001b[0mbatch\u001b[0m\u001b[1;33m(\u001b[0m\u001b[1;33m)\u001b[0m\u001b[1;33m\u001b[0m\u001b[1;33m\u001b[0m\u001b[0m\n\u001b[0m\u001b[0;32m    550\u001b[0m \u001b[1;33m\u001b[0m\u001b[0m\n\u001b[0;32m    551\u001b[0m     \u001b[1;32mdef\u001b[0m \u001b[0mget\u001b[0m\u001b[1;33m(\u001b[0m\u001b[0mself\u001b[0m\u001b[1;33m)\u001b[0m\u001b[1;33m:\u001b[0m\u001b[1;33m\u001b[0m\u001b[1;33m\u001b[0m\u001b[0m\n",
      "\u001b[1;32mC:\\ProgramData\\Anaconda3\\lib\\site-packages\\joblib\\parallel.py\u001b[0m in \u001b[0;36m__call__\u001b[1;34m(self)\u001b[0m\n\u001b[0;32m    223\u001b[0m         \u001b[1;32mwith\u001b[0m \u001b[0mparallel_backend\u001b[0m\u001b[1;33m(\u001b[0m\u001b[0mself\u001b[0m\u001b[1;33m.\u001b[0m\u001b[0m_backend\u001b[0m\u001b[1;33m,\u001b[0m \u001b[0mn_jobs\u001b[0m\u001b[1;33m=\u001b[0m\u001b[0mself\u001b[0m\u001b[1;33m.\u001b[0m\u001b[0m_n_jobs\u001b[0m\u001b[1;33m)\u001b[0m\u001b[1;33m:\u001b[0m\u001b[1;33m\u001b[0m\u001b[1;33m\u001b[0m\u001b[0m\n\u001b[0;32m    224\u001b[0m             return [func(*args, **kwargs)\n\u001b[1;32m--> 225\u001b[1;33m                     for func, args, kwargs in self.items]\n\u001b[0m\u001b[0;32m    226\u001b[0m \u001b[1;33m\u001b[0m\u001b[0m\n\u001b[0;32m    227\u001b[0m     \u001b[1;32mdef\u001b[0m \u001b[0m__len__\u001b[0m\u001b[1;33m(\u001b[0m\u001b[0mself\u001b[0m\u001b[1;33m)\u001b[0m\u001b[1;33m:\u001b[0m\u001b[1;33m\u001b[0m\u001b[1;33m\u001b[0m\u001b[0m\n",
      "\u001b[1;32mC:\\ProgramData\\Anaconda3\\lib\\site-packages\\joblib\\parallel.py\u001b[0m in \u001b[0;36m<listcomp>\u001b[1;34m(.0)\u001b[0m\n\u001b[0;32m    223\u001b[0m         \u001b[1;32mwith\u001b[0m \u001b[0mparallel_backend\u001b[0m\u001b[1;33m(\u001b[0m\u001b[0mself\u001b[0m\u001b[1;33m.\u001b[0m\u001b[0m_backend\u001b[0m\u001b[1;33m,\u001b[0m \u001b[0mn_jobs\u001b[0m\u001b[1;33m=\u001b[0m\u001b[0mself\u001b[0m\u001b[1;33m.\u001b[0m\u001b[0m_n_jobs\u001b[0m\u001b[1;33m)\u001b[0m\u001b[1;33m:\u001b[0m\u001b[1;33m\u001b[0m\u001b[1;33m\u001b[0m\u001b[0m\n\u001b[0;32m    224\u001b[0m             return [func(*args, **kwargs)\n\u001b[1;32m--> 225\u001b[1;33m                     for func, args, kwargs in self.items]\n\u001b[0m\u001b[0;32m    226\u001b[0m \u001b[1;33m\u001b[0m\u001b[0m\n\u001b[0;32m    227\u001b[0m     \u001b[1;32mdef\u001b[0m \u001b[0m__len__\u001b[0m\u001b[1;33m(\u001b[0m\u001b[0mself\u001b[0m\u001b[1;33m)\u001b[0m\u001b[1;33m:\u001b[0m\u001b[1;33m\u001b[0m\u001b[1;33m\u001b[0m\u001b[0m\n",
      "\u001b[1;32mC:\\ProgramData\\Anaconda3\\lib\\site-packages\\sklearn\\ensemble\\forest.py\u001b[0m in \u001b[0;36m_parallel_build_trees\u001b[1;34m(tree, forest, X, y, sample_weight, tree_idx, n_trees, verbose, class_weight)\u001b[0m\n\u001b[0;32m    118\u001b[0m         \u001b[0mtree\u001b[0m\u001b[1;33m.\u001b[0m\u001b[0mfit\u001b[0m\u001b[1;33m(\u001b[0m\u001b[0mX\u001b[0m\u001b[1;33m,\u001b[0m \u001b[0my\u001b[0m\u001b[1;33m,\u001b[0m \u001b[0msample_weight\u001b[0m\u001b[1;33m=\u001b[0m\u001b[0mcurr_sample_weight\u001b[0m\u001b[1;33m,\u001b[0m \u001b[0mcheck_input\u001b[0m\u001b[1;33m=\u001b[0m\u001b[1;32mFalse\u001b[0m\u001b[1;33m)\u001b[0m\u001b[1;33m\u001b[0m\u001b[1;33m\u001b[0m\u001b[0m\n\u001b[0;32m    119\u001b[0m     \u001b[1;32melse\u001b[0m\u001b[1;33m:\u001b[0m\u001b[1;33m\u001b[0m\u001b[1;33m\u001b[0m\u001b[0m\n\u001b[1;32m--> 120\u001b[1;33m         \u001b[0mtree\u001b[0m\u001b[1;33m.\u001b[0m\u001b[0mfit\u001b[0m\u001b[1;33m(\u001b[0m\u001b[0mX\u001b[0m\u001b[1;33m,\u001b[0m \u001b[0my\u001b[0m\u001b[1;33m,\u001b[0m \u001b[0msample_weight\u001b[0m\u001b[1;33m=\u001b[0m\u001b[0msample_weight\u001b[0m\u001b[1;33m,\u001b[0m \u001b[0mcheck_input\u001b[0m\u001b[1;33m=\u001b[0m\u001b[1;32mFalse\u001b[0m\u001b[1;33m)\u001b[0m\u001b[1;33m\u001b[0m\u001b[1;33m\u001b[0m\u001b[0m\n\u001b[0m\u001b[0;32m    121\u001b[0m \u001b[1;33m\u001b[0m\u001b[0m\n\u001b[0;32m    122\u001b[0m     \u001b[1;32mreturn\u001b[0m \u001b[0mtree\u001b[0m\u001b[1;33m\u001b[0m\u001b[1;33m\u001b[0m\u001b[0m\n",
      "\u001b[1;32mC:\\ProgramData\\Anaconda3\\lib\\site-packages\\sklearn\\tree\\tree.py\u001b[0m in \u001b[0;36mfit\u001b[1;34m(self, X, y, sample_weight, check_input, X_idx_sorted)\u001b[0m\n\u001b[0;32m   1155\u001b[0m             \u001b[0msample_weight\u001b[0m\u001b[1;33m=\u001b[0m\u001b[0msample_weight\u001b[0m\u001b[1;33m,\u001b[0m\u001b[1;33m\u001b[0m\u001b[1;33m\u001b[0m\u001b[0m\n\u001b[0;32m   1156\u001b[0m             \u001b[0mcheck_input\u001b[0m\u001b[1;33m=\u001b[0m\u001b[0mcheck_input\u001b[0m\u001b[1;33m,\u001b[0m\u001b[1;33m\u001b[0m\u001b[1;33m\u001b[0m\u001b[0m\n\u001b[1;32m-> 1157\u001b[1;33m             X_idx_sorted=X_idx_sorted)\n\u001b[0m\u001b[0;32m   1158\u001b[0m         \u001b[1;32mreturn\u001b[0m \u001b[0mself\u001b[0m\u001b[1;33m\u001b[0m\u001b[1;33m\u001b[0m\u001b[0m\n\u001b[0;32m   1159\u001b[0m \u001b[1;33m\u001b[0m\u001b[0m\n",
      "\u001b[1;32mC:\\ProgramData\\Anaconda3\\lib\\site-packages\\sklearn\\tree\\tree.py\u001b[0m in \u001b[0;36mfit\u001b[1;34m(self, X, y, sample_weight, check_input, X_idx_sorted)\u001b[0m\n\u001b[0;32m    378\u001b[0m                                            min_impurity_split)\n\u001b[0;32m    379\u001b[0m \u001b[1;33m\u001b[0m\u001b[0m\n\u001b[1;32m--> 380\u001b[1;33m         \u001b[0mbuilder\u001b[0m\u001b[1;33m.\u001b[0m\u001b[0mbuild\u001b[0m\u001b[1;33m(\u001b[0m\u001b[0mself\u001b[0m\u001b[1;33m.\u001b[0m\u001b[0mtree_\u001b[0m\u001b[1;33m,\u001b[0m \u001b[0mX\u001b[0m\u001b[1;33m,\u001b[0m \u001b[0my\u001b[0m\u001b[1;33m,\u001b[0m \u001b[0msample_weight\u001b[0m\u001b[1;33m,\u001b[0m \u001b[0mX_idx_sorted\u001b[0m\u001b[1;33m)\u001b[0m\u001b[1;33m\u001b[0m\u001b[1;33m\u001b[0m\u001b[0m\n\u001b[0m\u001b[0;32m    381\u001b[0m \u001b[1;33m\u001b[0m\u001b[0m\n\u001b[0;32m    382\u001b[0m         \u001b[1;32mif\u001b[0m \u001b[0mself\u001b[0m\u001b[1;33m.\u001b[0m\u001b[0mn_outputs_\u001b[0m \u001b[1;33m==\u001b[0m \u001b[1;36m1\u001b[0m\u001b[1;33m:\u001b[0m\u001b[1;33m\u001b[0m\u001b[1;33m\u001b[0m\u001b[0m\n",
      "\u001b[1;31mKeyboardInterrupt\u001b[0m: "
     ]
    }
   ],
   "source": [
    "rf_random.fit(X_train,Y_train)"
   ]
  },
  {
   "cell_type": "code",
   "execution_count": 269,
   "metadata": {},
   "outputs": [],
   "source": [
    "from sklearn.svm import SVR\n",
    "\n",
    "regr2 = SVR()"
   ]
  },
  {
   "cell_type": "code",
   "execution_count": 270,
   "metadata": {},
   "outputs": [
    {
     "data": {
      "text/plain": [
       "SVR(C=1.0, cache_size=200, coef0=0.0, degree=3, epsilon=0.1,\n",
       "    gamma='auto_deprecated', kernel='rbf', max_iter=-1, shrinking=True,\n",
       "    tol=0.001, verbose=False)"
      ]
     },
     "execution_count": 270,
     "metadata": {},
     "output_type": "execute_result"
    }
   ],
   "source": [
    "regr2.fit(X_train,Y_train)"
   ]
  },
  {
   "cell_type": "code",
   "execution_count": 271,
   "metadata": {},
   "outputs": [
    {
     "data": {
      "text/plain": [
       "1.1313146212121221"
      ]
     },
     "execution_count": 271,
     "metadata": {},
     "output_type": "execute_result"
    }
   ],
   "source": [
    "y_pred = regr2.predict(X_test)\n",
    "mean_absolute_error(Y_test,y_pred)"
   ]
  },
  {
   "cell_type": "code",
   "execution_count": 272,
   "metadata": {},
   "outputs": [],
   "source": [
    "from sklearn.ensemble import BaggingRegressor\n",
    "\n",
    "regr3 = BaggingRegressor(base_estimator=regr2,n_estimators=10, random_state=0)"
   ]
  },
  {
   "cell_type": "code",
   "execution_count": 274,
   "metadata": {},
   "outputs": [
    {
     "data": {
      "text/plain": [
       "BaggingRegressor(base_estimator=SVR(C=1.0, cache_size=200, coef0=0.0, degree=3,\n",
       "                                    epsilon=0.1, gamma='auto_deprecated',\n",
       "                                    kernel='rbf', max_iter=-1, shrinking=True,\n",
       "                                    tol=0.001, verbose=False),\n",
       "                 bootstrap=True, bootstrap_features=False, max_features=1.0,\n",
       "                 max_samples=1.0, n_estimators=10, n_jobs=None, oob_score=False,\n",
       "                 random_state=0, verbose=0, warm_start=False)"
      ]
     },
     "execution_count": 274,
     "metadata": {},
     "output_type": "execute_result"
    }
   ],
   "source": [
    "regr3.fit(X_train,Y_train)"
   ]
  },
  {
   "cell_type": "code",
   "execution_count": 275,
   "metadata": {},
   "outputs": [
    {
     "data": {
      "text/plain": [
       "1.1637560252450998"
      ]
     },
     "execution_count": 275,
     "metadata": {},
     "output_type": "execute_result"
    }
   ],
   "source": [
    "y_pred = regr3.predict(X_test)\n",
    "mean_absolute_error(Y_test,y_pred)"
   ]
  },
  {
   "cell_type": "code",
   "execution_count": 279,
   "metadata": {},
   "outputs": [],
   "source": [
    "from sklearn.ensemble import AdaBoostRegressor\n",
    "\n",
    "regr5 = AdaBoostRegressor(base_estimator=regr, random_state=0, n_estimators=100)"
   ]
  },
  {
   "cell_type": "code",
   "execution_count": 280,
   "metadata": {},
   "outputs": [
    {
     "ename": "KeyboardInterrupt",
     "evalue": "",
     "output_type": "error",
     "traceback": [
      "\u001b[1;31m---------------------------------------------------------------------------\u001b[0m",
      "\u001b[1;31mKeyboardInterrupt\u001b[0m                         Traceback (most recent call last)",
      "\u001b[1;32m<ipython-input-280-c430a354b942>\u001b[0m in \u001b[0;36m<module>\u001b[1;34m\u001b[0m\n\u001b[1;32m----> 1\u001b[1;33m \u001b[0mregr5\u001b[0m\u001b[1;33m.\u001b[0m\u001b[0mfit\u001b[0m\u001b[1;33m(\u001b[0m\u001b[0mX_train\u001b[0m\u001b[1;33m,\u001b[0m\u001b[0mY_train\u001b[0m\u001b[1;33m)\u001b[0m\u001b[1;33m\u001b[0m\u001b[1;33m\u001b[0m\u001b[0m\n\u001b[0m",
      "\u001b[1;32mC:\\ProgramData\\Anaconda3\\lib\\site-packages\\sklearn\\ensemble\\weight_boosting.py\u001b[0m in \u001b[0;36mfit\u001b[1;34m(self, X, y, sample_weight)\u001b[0m\n\u001b[0;32m    994\u001b[0m \u001b[1;33m\u001b[0m\u001b[0m\n\u001b[0;32m    995\u001b[0m         \u001b[1;31m# Fit\u001b[0m\u001b[1;33m\u001b[0m\u001b[1;33m\u001b[0m\u001b[1;33m\u001b[0m\u001b[0m\n\u001b[1;32m--> 996\u001b[1;33m         \u001b[1;32mreturn\u001b[0m \u001b[0msuper\u001b[0m\u001b[1;33m(\u001b[0m\u001b[1;33m)\u001b[0m\u001b[1;33m.\u001b[0m\u001b[0mfit\u001b[0m\u001b[1;33m(\u001b[0m\u001b[0mX\u001b[0m\u001b[1;33m,\u001b[0m \u001b[0my\u001b[0m\u001b[1;33m,\u001b[0m \u001b[0msample_weight\u001b[0m\u001b[1;33m)\u001b[0m\u001b[1;33m\u001b[0m\u001b[1;33m\u001b[0m\u001b[0m\n\u001b[0m\u001b[0;32m    997\u001b[0m \u001b[1;33m\u001b[0m\u001b[0m\n\u001b[0;32m    998\u001b[0m     \u001b[1;32mdef\u001b[0m \u001b[0m_validate_estimator\u001b[0m\u001b[1;33m(\u001b[0m\u001b[0mself\u001b[0m\u001b[1;33m)\u001b[0m\u001b[1;33m:\u001b[0m\u001b[1;33m\u001b[0m\u001b[1;33m\u001b[0m\u001b[0m\n",
      "\u001b[1;32mC:\\ProgramData\\Anaconda3\\lib\\site-packages\\sklearn\\ensemble\\weight_boosting.py\u001b[0m in \u001b[0;36mfit\u001b[1;34m(self, X, y, sample_weight)\u001b[0m\n\u001b[0;32m    148\u001b[0m                 \u001b[0mX\u001b[0m\u001b[1;33m,\u001b[0m \u001b[0my\u001b[0m\u001b[1;33m,\u001b[0m\u001b[1;33m\u001b[0m\u001b[1;33m\u001b[0m\u001b[0m\n\u001b[0;32m    149\u001b[0m                 \u001b[0msample_weight\u001b[0m\u001b[1;33m,\u001b[0m\u001b[1;33m\u001b[0m\u001b[1;33m\u001b[0m\u001b[0m\n\u001b[1;32m--> 150\u001b[1;33m                 random_state)\n\u001b[0m\u001b[0;32m    151\u001b[0m \u001b[1;33m\u001b[0m\u001b[0m\n\u001b[0;32m    152\u001b[0m             \u001b[1;31m# Early termination\u001b[0m\u001b[1;33m\u001b[0m\u001b[1;33m\u001b[0m\u001b[1;33m\u001b[0m\u001b[0m\n",
      "\u001b[1;32mC:\\ProgramData\\Anaconda3\\lib\\site-packages\\sklearn\\ensemble\\weight_boosting.py\u001b[0m in \u001b[0;36m_boost\u001b[1;34m(self, iboost, X, y, sample_weight, random_state)\u001b[0m\n\u001b[0;32m   1054\u001b[0m         \u001b[0mX_\u001b[0m \u001b[1;33m=\u001b[0m \u001b[0msafe_indexing\u001b[0m\u001b[1;33m(\u001b[0m\u001b[0mX\u001b[0m\u001b[1;33m,\u001b[0m \u001b[0mbootstrap_idx\u001b[0m\u001b[1;33m)\u001b[0m\u001b[1;33m\u001b[0m\u001b[1;33m\u001b[0m\u001b[0m\n\u001b[0;32m   1055\u001b[0m         \u001b[0my_\u001b[0m \u001b[1;33m=\u001b[0m \u001b[0msafe_indexing\u001b[0m\u001b[1;33m(\u001b[0m\u001b[0my\u001b[0m\u001b[1;33m,\u001b[0m \u001b[0mbootstrap_idx\u001b[0m\u001b[1;33m)\u001b[0m\u001b[1;33m\u001b[0m\u001b[1;33m\u001b[0m\u001b[0m\n\u001b[1;32m-> 1056\u001b[1;33m         \u001b[0mestimator\u001b[0m\u001b[1;33m.\u001b[0m\u001b[0mfit\u001b[0m\u001b[1;33m(\u001b[0m\u001b[0mX_\u001b[0m\u001b[1;33m,\u001b[0m \u001b[0my_\u001b[0m\u001b[1;33m)\u001b[0m\u001b[1;33m\u001b[0m\u001b[1;33m\u001b[0m\u001b[0m\n\u001b[0m\u001b[0;32m   1057\u001b[0m         \u001b[0my_predict\u001b[0m \u001b[1;33m=\u001b[0m \u001b[0mestimator\u001b[0m\u001b[1;33m.\u001b[0m\u001b[0mpredict\u001b[0m\u001b[1;33m(\u001b[0m\u001b[0mX\u001b[0m\u001b[1;33m)\u001b[0m\u001b[1;33m\u001b[0m\u001b[1;33m\u001b[0m\u001b[0m\n\u001b[0;32m   1058\u001b[0m \u001b[1;33m\u001b[0m\u001b[0m\n",
      "\u001b[1;32mC:\\ProgramData\\Anaconda3\\lib\\site-packages\\sklearn\\tree\\tree.py\u001b[0m in \u001b[0;36mfit\u001b[1;34m(self, X, y, sample_weight, check_input, X_idx_sorted)\u001b[0m\n\u001b[0;32m   1155\u001b[0m             \u001b[0msample_weight\u001b[0m\u001b[1;33m=\u001b[0m\u001b[0msample_weight\u001b[0m\u001b[1;33m,\u001b[0m\u001b[1;33m\u001b[0m\u001b[1;33m\u001b[0m\u001b[0m\n\u001b[0;32m   1156\u001b[0m             \u001b[0mcheck_input\u001b[0m\u001b[1;33m=\u001b[0m\u001b[0mcheck_input\u001b[0m\u001b[1;33m,\u001b[0m\u001b[1;33m\u001b[0m\u001b[1;33m\u001b[0m\u001b[0m\n\u001b[1;32m-> 1157\u001b[1;33m             X_idx_sorted=X_idx_sorted)\n\u001b[0m\u001b[0;32m   1158\u001b[0m         \u001b[1;32mreturn\u001b[0m \u001b[0mself\u001b[0m\u001b[1;33m\u001b[0m\u001b[1;33m\u001b[0m\u001b[0m\n\u001b[0;32m   1159\u001b[0m \u001b[1;33m\u001b[0m\u001b[0m\n",
      "\u001b[1;32mC:\\ProgramData\\Anaconda3\\lib\\site-packages\\sklearn\\tree\\tree.py\u001b[0m in \u001b[0;36mfit\u001b[1;34m(self, X, y, sample_weight, check_input, X_idx_sorted)\u001b[0m\n\u001b[0;32m    378\u001b[0m                                            min_impurity_split)\n\u001b[0;32m    379\u001b[0m \u001b[1;33m\u001b[0m\u001b[0m\n\u001b[1;32m--> 380\u001b[1;33m         \u001b[0mbuilder\u001b[0m\u001b[1;33m.\u001b[0m\u001b[0mbuild\u001b[0m\u001b[1;33m(\u001b[0m\u001b[0mself\u001b[0m\u001b[1;33m.\u001b[0m\u001b[0mtree_\u001b[0m\u001b[1;33m,\u001b[0m \u001b[0mX\u001b[0m\u001b[1;33m,\u001b[0m \u001b[0my\u001b[0m\u001b[1;33m,\u001b[0m \u001b[0msample_weight\u001b[0m\u001b[1;33m,\u001b[0m \u001b[0mX_idx_sorted\u001b[0m\u001b[1;33m)\u001b[0m\u001b[1;33m\u001b[0m\u001b[1;33m\u001b[0m\u001b[0m\n\u001b[0m\u001b[0;32m    381\u001b[0m \u001b[1;33m\u001b[0m\u001b[0m\n\u001b[0;32m    382\u001b[0m         \u001b[1;32mif\u001b[0m \u001b[0mself\u001b[0m\u001b[1;33m.\u001b[0m\u001b[0mn_outputs_\u001b[0m \u001b[1;33m==\u001b[0m \u001b[1;36m1\u001b[0m\u001b[1;33m:\u001b[0m\u001b[1;33m\u001b[0m\u001b[1;33m\u001b[0m\u001b[0m\n",
      "\u001b[1;31mKeyboardInterrupt\u001b[0m: "
     ]
    }
   ],
   "source": [
    "regr5.fit(X_train,Y_train)"
   ]
  },
  {
   "cell_type": "code",
   "execution_count": null,
   "metadata": {},
   "outputs": [],
   "source": [
    "y_pred = regr5.predict(X_test)\n",
    "mean_absolute_error(Y_test,y_pred)"
   ]
  },
  {
   "cell_type": "code",
   "execution_count": null,
   "metadata": {},
   "outputs": [],
   "source": [
    "from sklearn.ensemble import GradientBoostingRegressor\n",
    "\n",
    "regr6 = GradientBoostingRegressor(random_state=0)"
   ]
  },
  {
   "cell_type": "code",
   "execution_count": null,
   "metadata": {},
   "outputs": [],
   "source": [
    "regr6.fit(X_train,Y_train)"
   ]
  },
  {
   "cell_type": "code",
   "execution_count": null,
   "metadata": {},
   "outputs": [],
   "source": [
    "y_pred = regr6.predict(X_test)\n",
    "mean_absolute_error(Y_test,y_pred)"
   ]
  },
  {
   "cell_type": "code",
   "execution_count": 293,
   "metadata": {},
   "outputs": [
    {
     "data": {
      "text/plain": [
       "RandomForestRegressor(bootstrap=True, criterion='mae', max_depth=None,\n",
       "                      max_features='auto', max_leaf_nodes=None,\n",
       "                      min_impurity_decrease=0.0, min_impurity_split=None,\n",
       "                      min_samples_leaf=1, min_samples_split=2,\n",
       "                      min_weight_fraction_leaf=0.0, n_estimators=10,\n",
       "                      n_jobs=None, oob_score=False, random_state=None,\n",
       "                      verbose=0, warm_start=False)"
      ]
     },
     "execution_count": 293,
     "metadata": {},
     "output_type": "execute_result"
    }
   ],
   "source": [
    "regr1.fit(X,y)"
   ]
  },
  {
   "cell_type": "code",
   "execution_count": 282,
   "metadata": {},
   "outputs": [],
   "source": [
    "test1 =test.drop(columns=['game_id'])"
   ]
  },
  {
   "cell_type": "code",
   "execution_count": 288,
   "metadata": {},
   "outputs": [],
   "source": [
    "test1.drop(columns=['gamestore_price'],inplace=True)"
   ]
  },
  {
   "cell_type": "code",
   "execution_count": 294,
   "metadata": {},
   "outputs": [],
   "source": [
    "y_pred = regr1.predict(test1)"
   ]
  },
  {
   "cell_type": "code",
   "execution_count": 295,
   "metadata": {},
   "outputs": [],
   "source": [
    "result=pd.DataFrame()\n",
    "result['game_id']=test['game_id']\n",
    "result['gamestore_price']=y_pred"
   ]
  },
  {
   "cell_type": "code",
   "execution_count": 296,
   "metadata": {},
   "outputs": [],
   "source": [
    "result.to_csv('result2.csv',index=False)"
   ]
  },
  {
   "cell_type": "code",
   "execution_count": null,
   "metadata": {},
   "outputs": [],
   "source": []
  }
 ],
 "metadata": {
  "kernelspec": {
   "display_name": "Python 3",
   "language": "python",
   "name": "python3"
  },
  "language_info": {
   "codemirror_mode": {
    "name": "ipython",
    "version": 3
   },
   "file_extension": ".py",
   "mimetype": "text/x-python",
   "name": "python",
   "nbconvert_exporter": "python",
   "pygments_lexer": "ipython3",
   "version": "3.7.3"
  }
 },
 "nbformat": 4,
 "nbformat_minor": 2
}
